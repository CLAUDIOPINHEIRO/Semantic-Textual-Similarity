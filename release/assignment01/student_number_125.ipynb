{
 "cells": [
  {
   "cell_type": "markdown",
   "metadata": {
    "deletable": false,
    "editable": false,
    "nbgrader": {
     "checksum": "aac7e14ae990c71f17ecfad8ddc74ce4",
     "grade": false,
     "grade_id": "cell-5c746cf37db80185",
     "locked": true,
     "schema_version": 1,
     "solution": false
    }
   },
   "source": [
    "Student ID: 125"
   ]
  },
  {
   "cell_type": "markdown",
   "metadata": {
    "deletable": false,
    "editable": false,
    "nbgrader": {
     "checksum": "3b5ec2a6ca9e2bc4492ab73901207fa3",
     "grade": false,
     "grade_id": "cell-63ad64f65b4e6899",
     "locked": true,
     "schema_version": 1,
     "solution": false
    }
   },
   "source": [
    " # What is the role of a prototype program in problem solving?"
   ]
  },
  {
   "cell_type": "markdown",
   "metadata": {
    "deletable": false,
    "nbgrader": {
     "checksum": "b4ab8e7841cb628fa73d95b657674a32",
     "grade": true,
     "grade_id": "cell-b76c0f6154fadf1b",
     "locked": false,
     "points": 2,
     "schema_version": 1,
     "solution": true
    }
   },
   "source": [
    "YOUR ANSWER HERE"
   ]
  },
  {
   "cell_type": "markdown",
   "metadata": {
    "deletable": false,
    "editable": false,
    "nbgrader": {
     "checksum": "3397fce6cf4b2ec7d18482ad3b8b34bf",
     "grade": false,
     "grade_id": "cell-031ab1805975aa94",
     "locked": true,
     "schema_version": 1,
     "solution": false
    }
   },
   "source": [
    " # What stages in the software life cycle are influenced by the testing stage?"
   ]
  },
  {
   "cell_type": "markdown",
   "metadata": {
    "deletable": false,
    "nbgrader": {
     "checksum": "d60329b2a4303793cbc8fe65bb06c3d2",
     "grade": true,
     "grade_id": "cell-d7a531aa45b8b445",
     "locked": false,
     "points": 2,
     "schema_version": 1,
     "solution": true
    }
   },
   "source": [
    "YOUR ANSWER HERE"
   ]
  },
  {
   "cell_type": "markdown",
   "metadata": {
    "deletable": false,
    "editable": false,
    "nbgrader": {
     "checksum": "805c0ffeb0b4737fdf5b6ff0ede2984c",
     "grade": false,
     "grade_id": "cell-b6c67a6d0b48382a",
     "locked": true,
     "schema_version": 1,
     "solution": false
    }
   },
   "source": [
    " # What are the main advantages associated with object-oriented programming?"
   ]
  },
  {
   "cell_type": "markdown",
   "metadata": {
    "deletable": false,
    "nbgrader": {
     "checksum": "2791618bc4bc1fa521c45d214bca440d",
     "grade": true,
     "grade_id": "cell-a0c835e17cdb767b",
     "locked": false,
     "points": 2,
     "schema_version": 1,
     "solution": true
    }
   },
   "source": [
    "YOUR ANSWER HERE"
   ]
  },
  {
   "cell_type": "markdown",
   "metadata": {
    "deletable": false,
    "editable": false,
    "nbgrader": {
     "checksum": "9fd972becdafa39f3f8e8420199be875",
     "grade": false,
     "grade_id": "cell-6abc42c02dd3785c",
     "locked": true,
     "schema_version": 1,
     "solution": false
    }
   },
   "source": [
    " # Where do C++ programs begin to execute?"
   ]
  },
  {
   "cell_type": "markdown",
   "metadata": {
    "deletable": false,
    "nbgrader": {
     "checksum": "5e9e331284a47c06a57ba8943d06e043",
     "grade": true,
     "grade_id": "cell-6c18dbfb3434d9c1",
     "locked": false,
     "points": 2,
     "schema_version": 1,
     "solution": true
    }
   },
   "source": [
    "YOUR ANSWER HERE"
   ]
  },
  {
   "cell_type": "markdown",
   "metadata": {
    "deletable": false,
    "editable": false,
    "nbgrader": {
     "checksum": "a1acbeef1801a5a35ff8737f2824383f",
     "grade": false,
     "grade_id": "cell-db8702815a137621",
     "locked": true,
     "schema_version": 1,
     "solution": false
    }
   },
   "source": [
    " # What is a variable?"
   ]
  },
  {
   "cell_type": "markdown",
   "metadata": {
    "deletable": false,
    "nbgrader": {
     "checksum": "85fc06e68359825b61e8d321b0afe92a",
     "grade": true,
     "grade_id": "cell-1b08c89c0f58ca02",
     "locked": false,
     "points": 2,
     "schema_version": 1,
     "solution": true
    }
   },
   "source": [
    "YOUR ANSWER HERE"
   ]
  },
  {
   "cell_type": "markdown",
   "metadata": {
    "deletable": false,
    "editable": false,
    "nbgrader": {
     "checksum": "995825058f4fa58424d7b8b6b67c8b93",
     "grade": false,
     "grade_id": "cell-a76955750fb46b88",
     "locked": true,
     "schema_version": 1,
     "solution": false
    }
   },
   "source": [
    " # Where are variables declared in a C++ program?"
   ]
  },
  {
   "cell_type": "markdown",
   "metadata": {
    "deletable": false,
    "nbgrader": {
     "checksum": "67c6cc064aa14070b4de3ad3e4251c05",
     "grade": true,
     "grade_id": "cell-494e03df4bf9cf7a",
     "locked": false,
     "points": 2,
     "schema_version": 1,
     "solution": true
    }
   },
   "source": [
    "YOUR ANSWER HERE"
   ]
  },
  {
   "cell_type": "markdown",
   "metadata": {
    "deletable": false,
    "editable": false,
    "nbgrader": {
     "checksum": "8d03402e621080d2dae294e47ee6c1af",
     "grade": false,
     "grade_id": "cell-2b3ab6ba97eeb00a",
     "locked": true,
     "schema_version": 1,
     "solution": false
    }
   },
   "source": [
    " # What is the main difference between a while and a do...while statement?"
   ]
  },
  {
   "cell_type": "markdown",
   "metadata": {
    "deletable": false,
    "nbgrader": {
     "checksum": "eca29ab5d2b6824859b70d7ba4f70ca6",
     "grade": true,
     "grade_id": "cell-8e2cf0e331d63e1a",
     "locked": false,
     "points": 2,
     "schema_version": 1,
     "solution": true
    }
   },
   "source": [
    "YOUR ANSWER HERE"
   ]
  },
  {
   "cell_type": "markdown",
   "metadata": {
    "deletable": false,
    "editable": false,
    "nbgrader": {
     "checksum": "83b6b94641d30b80763fea705b8f6ad8",
     "grade": false,
     "grade_id": "cell-3d45f55aedf759bf",
     "locked": true,
     "schema_version": 1,
     "solution": false
    }
   },
   "source": [
    " # What is typically included in a class definition?"
   ]
  },
  {
   "cell_type": "markdown",
   "metadata": {
    "deletable": false,
    "nbgrader": {
     "checksum": "72a46ac8966802701a32fb65d6aca1d2",
     "grade": true,
     "grade_id": "cell-23b7ae1c12ae370b",
     "locked": false,
     "points": 2,
     "schema_version": 1,
     "solution": true
    }
   },
   "source": [
    "YOUR ANSWER HERE"
   ]
  },
  {
   "cell_type": "markdown",
   "metadata": {
    "deletable": false,
    "editable": false,
    "nbgrader": {
     "checksum": "5e71c6efe0673b15ebe13ac2ded681e7",
     "grade": false,
     "grade_id": "cell-151fa71f1460a437",
     "locked": true,
     "schema_version": 1,
     "solution": false
    }
   },
   "source": [
    " # What is the difference between a data member and a local variable inside a member function?"
   ]
  },
  {
   "cell_type": "markdown",
   "metadata": {
    "deletable": false,
    "nbgrader": {
     "checksum": "d7e24e881cc6ebde4aad8b96f986c75d",
     "grade": true,
     "grade_id": "cell-0a5887bca411ea18",
     "locked": false,
     "points": 2,
     "schema_version": 1,
     "solution": true
    }
   },
   "source": [
    "YOUR ANSWER HERE"
   ]
  },
  {
   "cell_type": "markdown",
   "metadata": {
    "deletable": false,
    "editable": false,
    "nbgrader": {
     "checksum": "7156626748ef06a8839f9b5988c9fbf2",
     "grade": false,
     "grade_id": "cell-c02e6de59b2c7bd9",
     "locked": true,
     "schema_version": 1,
     "solution": false
    }
   },
   "source": [
    " # What is the difference between a constructor and a function?"
   ]
  },
  {
   "cell_type": "markdown",
   "metadata": {
    "deletable": false,
    "nbgrader": {
     "checksum": "a34ec7b968ec40804bce2c13ce06d6a1",
     "grade": true,
     "grade_id": "cell-823aebc31d447d5a",
     "locked": false,
     "points": 2,
     "schema_version": 1,
     "solution": true
    }
   },
   "source": [
    "YOUR ANSWER HERE"
   ]
  },
  {
   "cell_type": "markdown",
   "metadata": {
    "deletable": false,
    "editable": false,
    "nbgrader": {
     "checksum": "74c621577eccace85b31915b14c01aa0",
     "grade": false,
     "grade_id": "cell-199995320bb266c0",
     "locked": true,
     "schema_version": 1,
     "solution": false
    }
   },
   "source": [
    " # When does C++ create a default constructor?"
   ]
  },
  {
   "cell_type": "markdown",
   "metadata": {
    "deletable": false,
    "nbgrader": {
     "checksum": "2e5703afd21b581959c522997009bdaa",
     "grade": true,
     "grade_id": "cell-1d3c49e44f136018",
     "locked": false,
     "points": 2,
     "schema_version": 1,
     "solution": true
    }
   },
   "source": [
    "YOUR ANSWER HERE"
   ]
  },
  {
   "cell_type": "markdown",
   "metadata": {
    "deletable": false,
    "editable": false,
    "nbgrader": {
     "checksum": "d00a659768cb159e06d1f63c9922e8c0",
     "grade": false,
     "grade_id": "cell-7b4528c5dde34f1f",
     "locked": true,
     "schema_version": 1,
     "solution": false
    }
   },
   "source": [
    " # How many constructors can be created for a class?"
   ]
  },
  {
   "cell_type": "markdown",
   "metadata": {
    "deletable": false,
    "nbgrader": {
     "checksum": "93576d2f2a2abc77503eac99157b2e70",
     "grade": true,
     "grade_id": "cell-f8a57ed4efb38e4e",
     "locked": false,
     "points": 2,
     "schema_version": 1,
     "solution": true
    }
   },
   "source": [
    "YOUR ANSWER HERE"
   ]
  },
  {
   "cell_type": "markdown",
   "metadata": {
    "deletable": false,
    "editable": false,
    "nbgrader": {
     "checksum": "7dacd9c51836cb704e2ff210e2bfef92",
     "grade": false,
     "grade_id": "cell-5a9f29d481373cab",
     "locked": true,
     "schema_version": 1,
     "solution": false
    }
   },
   "source": [
    " # What is the difference between a function prototype and a function definition?"
   ]
  },
  {
   "cell_type": "markdown",
   "metadata": {
    "deletable": false,
    "nbgrader": {
     "checksum": "ed716775be2213b1aa059c066836d730",
     "grade": true,
     "grade_id": "cell-f00c2f482d4629d4",
     "locked": false,
     "points": 2,
     "schema_version": 1,
     "solution": true
    }
   },
   "source": [
    "YOUR ANSWER HERE"
   ]
  },
  {
   "cell_type": "markdown",
   "metadata": {
    "deletable": false,
    "editable": false,
    "nbgrader": {
     "checksum": "68c2e6ad19a70b2f5a8ce0df025bf02d",
     "grade": false,
     "grade_id": "cell-a07ea2b8c686d55d",
     "locked": true,
     "schema_version": 1,
     "solution": false
    }
   },
   "source": [
    " # What is the role of a header-file?"
   ]
  },
  {
   "cell_type": "markdown",
   "metadata": {
    "deletable": false,
    "nbgrader": {
     "checksum": "76a575a859cdbc7fa5755cb137111fea",
     "grade": true,
     "grade_id": "cell-894f5b75cdc83b27",
     "locked": false,
     "points": 2,
     "schema_version": 1,
     "solution": true
    }
   },
   "source": [
    "YOUR ANSWER HERE"
   ]
  },
  {
   "cell_type": "markdown",
   "metadata": {
    "deletable": false,
    "editable": false,
    "nbgrader": {
     "checksum": "135d4f88f4da1f632c0f137d0c62aa69",
     "grade": false,
     "grade_id": "cell-503aaffbcf597dfa",
     "locked": true,
     "schema_version": 1,
     "solution": false
    }
   },
   "source": [
    " # What does a function signature include?"
   ]
  },
  {
   "cell_type": "markdown",
   "metadata": {
    "deletable": false,
    "nbgrader": {
     "checksum": "d63f093454a6912554bf7ef20ce3b71c",
     "grade": true,
     "grade_id": "cell-66bfb84ca0d1c68c",
     "locked": false,
     "points": 2,
     "schema_version": 1,
     "solution": true
    }
   },
   "source": [
    "YOUR ANSWER HERE"
   ]
  },
  {
   "cell_type": "markdown",
   "metadata": {
    "deletable": false,
    "editable": false,
    "nbgrader": {
     "checksum": "c068892c942814b236a91fcf40191578",
     "grade": false,
     "grade_id": "cell-5f72ee926b5971e8",
     "locked": true,
     "schema_version": 1,
     "solution": false
    }
   },
   "source": [
    " # What is the scope of global variables?"
   ]
  },
  {
   "cell_type": "markdown",
   "metadata": {
    "deletable": false,
    "nbgrader": {
     "checksum": "4a34b7049e142e1c4ef957ae5621aa99",
     "grade": true,
     "grade_id": "cell-f518d01f54b4e2ab",
     "locked": false,
     "points": 2,
     "schema_version": 1,
     "solution": true
    }
   },
   "source": [
    "YOUR ANSWER HERE"
   ]
  },
  {
   "cell_type": "markdown",
   "metadata": {
    "deletable": false,
    "editable": false,
    "nbgrader": {
     "checksum": "509e6b4ba85010d6bd040e8aa45a479a",
     "grade": false,
     "grade_id": "cell-04876fa6bf922600",
     "locked": true,
     "schema_version": 1,
     "solution": false
    }
   },
   "source": [
    " # How does the compiler handle inline functions?"
   ]
  },
  {
   "cell_type": "markdown",
   "metadata": {
    "deletable": false,
    "nbgrader": {
     "checksum": "45fec5174b4ab0b9bb77a37f37102704",
     "grade": true,
     "grade_id": "cell-2ea77c5827d0c64b",
     "locked": false,
     "points": 2,
     "schema_version": 1,
     "solution": true
    }
   },
   "source": [
    "YOUR ANSWER HERE"
   ]
  },
  {
   "cell_type": "markdown",
   "metadata": {
    "deletable": false,
    "editable": false,
    "nbgrader": {
     "checksum": "c6b1a79a647958a758bb781292c925c9",
     "grade": false,
     "grade_id": "cell-86482f05063fc566",
     "locked": true,
     "schema_version": 1,
     "solution": false
    }
   },
   "source": [
    " # What is the main advantage associated with function arguments that are passed by reference?"
   ]
  },
  {
   "cell_type": "markdown",
   "metadata": {
    "deletable": false,
    "nbgrader": {
     "checksum": "7c38c296127e81aa171a723a25df57a1",
     "grade": true,
     "grade_id": "cell-90d46e9ebdd65efa",
     "locked": false,
     "points": 2,
     "schema_version": 1,
     "solution": true
    }
   },
   "source": [
    "YOUR ANSWER HERE"
   ]
  },
  {
   "cell_type": "markdown",
   "metadata": {
    "deletable": false,
    "editable": false,
    "nbgrader": {
     "checksum": "52efc13eaff77a69706a706ab8fe8ac7",
     "grade": false,
     "grade_id": "cell-bd5a4b6bb3c65eca",
     "locked": true,
     "schema_version": 1,
     "solution": false
    }
   },
   "source": [
    " # How are overloaded functions differentiated by the compiler?"
   ]
  },
  {
   "cell_type": "markdown",
   "metadata": {
    "deletable": false,
    "nbgrader": {
     "checksum": "6bcabc59ff69fe313b146b61515d80f5",
     "grade": true,
     "grade_id": "cell-5727a519a9bde1ae",
     "locked": false,
     "points": 2,
     "schema_version": 1,
     "solution": true
    }
   },
   "source": [
    "YOUR ANSWER HERE"
   ]
  },
  {
   "cell_type": "markdown",
   "metadata": {
    "deletable": false,
    "editable": false,
    "nbgrader": {
     "checksum": "12eed177afd10efecab66fd6d3766c27",
     "grade": false,
     "grade_id": "cell-b238c42703679a8d",
     "locked": true,
     "schema_version": 1,
     "solution": false
    }
   },
   "source": [
    " # When defining a recursive function, what are possible causes for infinite recursion?"
   ]
  },
  {
   "cell_type": "markdown",
   "metadata": {
    "deletable": false,
    "nbgrader": {
     "checksum": "8eab0889dddaec2bd5c4667d066af950",
     "grade": true,
     "grade_id": "cell-3ffd0cf0b489d097",
     "locked": false,
     "points": 2,
     "schema_version": 1,
     "solution": true
    }
   },
   "source": [
    "YOUR ANSWER HERE"
   ]
  },
  {
   "cell_type": "markdown",
   "metadata": {
    "deletable": false,
    "editable": false,
    "nbgrader": {
     "checksum": "ce208cf52ba47cbcaa9939b170ef8bf9",
     "grade": false,
     "grade_id": "cell-d80d6967b8ece4fb",
     "locked": true,
     "schema_version": 1,
     "solution": false
    }
   },
   "source": [
    " # What are the similarities between iteration and recursion?"
   ]
  },
  {
   "cell_type": "markdown",
   "metadata": {
    "deletable": false,
    "nbgrader": {
     "checksum": "3aeb9edece158d0fe1ebaf02acea36ea",
     "grade": true,
     "grade_id": "cell-2cef67a7d664ca6b",
     "locked": false,
     "points": 2,
     "schema_version": 1,
     "solution": true
    }
   },
   "source": [
    "YOUR ANSWER HERE"
   ]
  },
  {
   "cell_type": "markdown",
   "metadata": {
    "deletable": false,
    "editable": false,
    "nbgrader": {
     "checksum": "1f6a2ac0d5061532f8009c8854d3932e",
     "grade": false,
     "grade_id": "cell-aae08d5a41c30cd8",
     "locked": true,
     "schema_version": 1,
     "solution": false
    }
   },
   "source": [
    " # What are the two different ways of specifying the length of an array?"
   ]
  },
  {
   "cell_type": "markdown",
   "metadata": {
    "deletable": false,
    "nbgrader": {
     "checksum": "881e876e3aa680423dcac1add58d6102",
     "grade": true,
     "grade_id": "cell-c05b6d361ae32ad1",
     "locked": false,
     "points": 2,
     "schema_version": 1,
     "solution": true
    }
   },
   "source": [
    "YOUR ANSWER HERE"
   ]
  },
  {
   "cell_type": "markdown",
   "metadata": {
    "deletable": false,
    "editable": false,
    "nbgrader": {
     "checksum": "ac1467f4e658d0078e6aa09af1da62a0",
     "grade": false,
     "grade_id": "cell-d0035dd8567c65f4",
     "locked": true,
     "schema_version": 1,
     "solution": false
    }
   },
   "source": [
    " # What is the main difference between strings declared using the type string versus strings declared using an array of characters?"
   ]
  },
  {
   "cell_type": "markdown",
   "metadata": {
    "deletable": false,
    "nbgrader": {
     "checksum": "7bb862a0773e3f1924422f6ed7f9f8eb",
     "grade": true,
     "grade_id": "cell-3692d4e76134d56f",
     "locked": false,
     "points": 2,
     "schema_version": 1,
     "solution": true
    }
   },
   "source": [
    "YOUR ANSWER HERE"
   ]
  },
  {
   "cell_type": "markdown",
   "metadata": {
    "deletable": false,
    "editable": false,
    "nbgrader": {
     "checksum": "f4c424b28c7d300767858130bde1605f",
     "grade": false,
     "grade_id": "cell-3f2901da4375dc20",
     "locked": true,
     "schema_version": 1,
     "solution": false
    }
   },
   "source": [
    " # How are arrays passed to functions?"
   ]
  },
  {
   "cell_type": "markdown",
   "metadata": {
    "deletable": false,
    "nbgrader": {
     "checksum": "c38448cd7d383dc3ae0b0796d692ae5b",
     "grade": true,
     "grade_id": "cell-71e1a07cb7de5f03",
     "locked": false,
     "points": 2,
     "schema_version": 1,
     "solution": true
    }
   },
   "source": [
    "YOUR ANSWER HERE"
   ]
  },
  {
   "cell_type": "markdown",
   "metadata": {
    "deletable": false,
    "editable": false,
    "nbgrader": {
     "checksum": "ed42ceb4f08fb0dadb3ca929a81e1fe2",
     "grade": false,
     "grade_id": "cell-6909c299a3ca89ab",
     "locked": true,
     "schema_version": 1,
     "solution": false
    }
   },
   "source": [
    " # What is the difference between an array declared as static, and one that is not?"
   ]
  },
  {
   "cell_type": "markdown",
   "metadata": {
    "deletable": false,
    "nbgrader": {
     "checksum": "9b54a0b763b53e67e7a1830f343c01ef",
     "grade": true,
     "grade_id": "cell-5071635d3377e22d",
     "locked": false,
     "points": 2,
     "schema_version": 1,
     "solution": true
    }
   },
   "source": [
    "YOUR ANSWER HERE"
   ]
  },
  {
   "cell_type": "markdown",
   "metadata": {
    "deletable": false,
    "editable": false,
    "nbgrader": {
     "checksum": "a2830780dae2b0a974c90598e4eec354",
     "grade": false,
     "grade_id": "cell-343555b1814b8ed4",
     "locked": true,
     "schema_version": 1,
     "solution": false
    }
   },
   "source": [
    " # How many dimensions need to be specified when passing a multi-dimensional array as an argument to a function?"
   ]
  },
  {
   "cell_type": "markdown",
   "metadata": {
    "deletable": false,
    "nbgrader": {
     "checksum": "3531718a802aeb1547755ea8c957f570",
     "grade": true,
     "grade_id": "cell-26ea0e0d264d317d",
     "locked": false,
     "points": 2,
     "schema_version": 1,
     "solution": true
    }
   },
   "source": [
    "YOUR ANSWER HERE"
   ]
  },
  {
   "cell_type": "markdown",
   "metadata": {
    "deletable": false,
    "editable": false,
    "nbgrader": {
     "checksum": "168e8dbcd7a76878dbc80b4d15fc757f",
     "grade": false,
     "grade_id": "cell-e269b1a70797c780",
     "locked": true,
     "schema_version": 1,
     "solution": false
    }
   },
   "source": [
    " # Using an index outside the bounds of the array generates an error. Is this a compilation error or a run-time error?"
   ]
  },
  {
   "cell_type": "markdown",
   "metadata": {
    "deletable": false,
    "nbgrader": {
     "checksum": "1c5f1f5cd10753809573e00715985ed7",
     "grade": true,
     "grade_id": "cell-1717195cfb6a6de8",
     "locked": false,
     "points": 2,
     "schema_version": 1,
     "solution": true
    }
   },
   "source": [
    "YOUR ANSWER HERE"
   ]
  },
  {
   "cell_type": "markdown",
   "metadata": {
    "deletable": false,
    "editable": false,
    "nbgrader": {
     "checksum": "d891ca112d286373122a2e7366fb6333",
     "grade": false,
     "grade_id": "cell-a4aceb113e674805",
     "locked": true,
     "schema_version": 1,
     "solution": false
    }
   },
   "source": [
    " # How are bi-dimensional arrays stored in memory, by rows or by columns?"
   ]
  },
  {
   "cell_type": "markdown",
   "metadata": {
    "deletable": false,
    "nbgrader": {
     "checksum": "81bda23af2b40418b17d7f14f87b6c3a",
     "grade": true,
     "grade_id": "cell-18e169fa2abb685e",
     "locked": false,
     "points": 2,
     "schema_version": 1,
     "solution": true
    }
   },
   "source": [
    "YOUR ANSWER HERE"
   ]
  },
  {
   "cell_type": "markdown",
   "metadata": {
    "deletable": false,
    "editable": false,
    "nbgrader": {
     "checksum": "84b2b4ff70804757a5ac167e402ddec6",
     "grade": false,
     "grade_id": "cell-839f56260e4e8927",
     "locked": true,
     "schema_version": 1,
     "solution": false
    }
   },
   "source": [
    " # In one sentence, what is the main idea implemented by insertion sort?"
   ]
  },
  {
   "cell_type": "markdown",
   "metadata": {
    "deletable": false,
    "nbgrader": {
     "checksum": "0dbeacd2c35e70e56b767541c0c13c57",
     "grade": true,
     "grade_id": "cell-428113aaa99609d9",
     "locked": false,
     "points": 2,
     "schema_version": 1,
     "solution": true
    }
   },
   "source": [
    "YOUR ANSWER HERE"
   ]
  },
  {
   "cell_type": "markdown",
   "metadata": {
    "deletable": false,
    "editable": false,
    "nbgrader": {
     "checksum": "61da05ece9ced445eb4c1f9061ab814d",
     "grade": false,
     "grade_id": "cell-3582600e670444c7",
     "locked": true,
     "schema_version": 1,
     "solution": false
    }
   },
   "source": [
    " # In one sentence, what is the main idea implemented by selection sort?"
   ]
  },
  {
   "cell_type": "markdown",
   "metadata": {
    "deletable": false,
    "nbgrader": {
     "checksum": "b5814264278cdb6e155797bf92b8bf93",
     "grade": true,
     "grade_id": "cell-ad4edac400e01590",
     "locked": false,
     "points": 2,
     "schema_version": 1,
     "solution": true
    }
   },
   "source": [
    "YOUR ANSWER HERE"
   ]
  },
  {
   "cell_type": "markdown",
   "metadata": {
    "deletable": false,
    "editable": false,
    "nbgrader": {
     "checksum": "7c72b1249cd412a7dc179b06ad7665f5",
     "grade": false,
     "grade_id": "cell-fac0ac230a768455",
     "locked": true,
     "schema_version": 1,
     "solution": false
    }
   },
   "source": [
    " # What is the number of operations for insertion sort under a best-case scenario, and what is the best-case scenario?"
   ]
  },
  {
   "cell_type": "markdown",
   "metadata": {
    "deletable": false,
    "nbgrader": {
     "checksum": "9acaca20ff313d4875644117536900f8",
     "grade": true,
     "grade_id": "cell-5f7fbde1aef0681e",
     "locked": false,
     "points": 2,
     "schema_version": 1,
     "solution": true
    }
   },
   "source": [
    "YOUR ANSWER HERE"
   ]
  },
  {
   "cell_type": "markdown",
   "metadata": {
    "deletable": false,
    "editable": false,
    "nbgrader": {
     "checksum": "3487a4c8d3ce87d684f59a3858775558",
     "grade": false,
     "grade_id": "cell-3515d785c9e4cbea",
     "locked": true,
     "schema_version": 1,
     "solution": false
    }
   },
   "source": [
    " # What is the base case for a recursive implementation of merge sort?"
   ]
  },
  {
   "cell_type": "markdown",
   "metadata": {
    "deletable": false,
    "nbgrader": {
     "checksum": "f1e90d65b9074ad26d96125307740fd3",
     "grade": true,
     "grade_id": "cell-5c0eb0bdddf78540",
     "locked": false,
     "points": 2,
     "schema_version": 1,
     "solution": true
    }
   },
   "source": [
    "YOUR ANSWER HERE"
   ]
  },
  {
   "cell_type": "markdown",
   "metadata": {
    "deletable": false,
    "editable": false,
    "nbgrader": {
     "checksum": "4dde579f2004dac5543aa77e71598241",
     "grade": false,
     "grade_id": "cell-2e96c0ddee19ae0b",
     "locked": true,
     "schema_version": 1,
     "solution": false
    }
   },
   "source": [
    " # What is a pointer?"
   ]
  },
  {
   "cell_type": "markdown",
   "metadata": {
    "deletable": false,
    "nbgrader": {
     "checksum": "287ef7ebb6c93cf83bcfa0f64a9f39e1",
     "grade": true,
     "grade_id": "cell-901a0aaacc61cf63",
     "locked": false,
     "points": 2,
     "schema_version": 1,
     "solution": true
    }
   },
   "source": [
    "YOUR ANSWER HERE"
   ]
  },
  {
   "cell_type": "markdown",
   "metadata": {
    "deletable": false,
    "editable": false,
    "nbgrader": {
     "checksum": "51088d82b14ab98ef57f9c97f3da6745",
     "grade": false,
     "grade_id": "cell-6063160b9f216446",
     "locked": true,
     "schema_version": 1,
     "solution": false
    }
   },
   "source": [
    " # What does the address (&) operator return?"
   ]
  },
  {
   "cell_type": "markdown",
   "metadata": {
    "deletable": false,
    "nbgrader": {
     "checksum": "bc68e3a4c9468da1a58d7aec0d81a240",
     "grade": true,
     "grade_id": "cell-764d507c8532fb8f",
     "locked": false,
     "points": 2,
     "schema_version": 1,
     "solution": true
    }
   },
   "source": [
    "YOUR ANSWER HERE"
   ]
  },
  {
   "cell_type": "markdown",
   "metadata": {
    "deletable": false,
    "editable": false,
    "nbgrader": {
     "checksum": "d8f99adb047a324cae35c3d72ec1c5e7",
     "grade": false,
     "grade_id": "cell-a2d8e649b387c7d4",
     "locked": true,
     "schema_version": 1,
     "solution": false
    }
   },
   "source": [
    " # What does the star (*) operator return?"
   ]
  },
  {
   "cell_type": "markdown",
   "metadata": {
    "deletable": false,
    "nbgrader": {
     "checksum": "2620a3551911b89caaa6cd460b980326",
     "grade": true,
     "grade_id": "cell-71f139a7b5081a63",
     "locked": false,
     "points": 2,
     "schema_version": 1,
     "solution": true
    }
   },
   "source": [
    "YOUR ANSWER HERE"
   ]
  },
  {
   "cell_type": "markdown",
   "metadata": {
    "deletable": false,
    "editable": false,
    "nbgrader": {
     "checksum": "b37c77cb9ba10163ba228336b6bb449e",
     "grade": false,
     "grade_id": "cell-ad02aafbb5144b2d",
     "locked": true,
     "schema_version": 1,
     "solution": false
    }
   },
   "source": [
    " # How can an array be addressed in pointer/offset notation?"
   ]
  },
  {
   "cell_type": "markdown",
   "metadata": {
    "deletable": false,
    "nbgrader": {
     "checksum": "8e57b2880f71c83a3ad315ba2a4b317b",
     "grade": true,
     "grade_id": "cell-cb11da7f7167a588",
     "locked": false,
     "points": 2,
     "schema_version": 1,
     "solution": true
    }
   },
   "source": [
    "YOUR ANSWER HERE"
   ]
  },
  {
   "cell_type": "markdown",
   "metadata": {
    "deletable": false,
    "editable": false,
    "nbgrader": {
     "checksum": "bc4439040b34758790a531a5081e6397",
     "grade": false,
     "grade_id": "cell-cc0a9bcd7853defb",
     "locked": true,
     "schema_version": 1,
     "solution": false
    }
   },
   "source": [
    " # What does the sizeof operator return?"
   ]
  },
  {
   "cell_type": "markdown",
   "metadata": {
    "deletable": false,
    "nbgrader": {
     "checksum": "cfea9e2dc6f9939125be4924a1902940",
     "grade": true,
     "grade_id": "cell-17f31627384de253",
     "locked": false,
     "points": 2,
     "schema_version": 1,
     "solution": true
    }
   },
   "source": [
    "YOUR ANSWER HERE"
   ]
  },
  {
   "cell_type": "markdown",
   "metadata": {
    "deletable": false,
    "editable": false,
    "nbgrader": {
     "checksum": "15e6abfae3df569afb9e143231710e90",
     "grade": false,
     "grade_id": "cell-b81ba0729cc1969a",
     "locked": true,
     "schema_version": 1,
     "solution": false
    }
   },
   "source": [
    " # What are the different ways to pass a pointer to a function?"
   ]
  },
  {
   "cell_type": "markdown",
   "metadata": {
    "deletable": false,
    "nbgrader": {
     "checksum": "4fe4ea188a251859f5e9a4a5d4a503b5",
     "grade": true,
     "grade_id": "cell-e8aa9db1bb7131d4",
     "locked": false,
     "points": 2,
     "schema_version": 1,
     "solution": true
    }
   },
   "source": [
    "YOUR ANSWER HERE"
   ]
  },
  {
   "cell_type": "markdown",
   "metadata": {
    "deletable": false,
    "editable": false,
    "nbgrader": {
     "checksum": "c9392fcd6aa5385bb615296cbd35c65c",
     "grade": false,
     "grade_id": "cell-147530c96763cc35",
     "locked": true,
     "schema_version": 1,
     "solution": false
    }
   },
   "source": [
    " # What is a function pointer?"
   ]
  },
  {
   "cell_type": "markdown",
   "metadata": {
    "deletable": false,
    "nbgrader": {
     "checksum": "8abe109850e06b86710e8d4fb26d4acc",
     "grade": true,
     "grade_id": "cell-0eecf9926126f49b",
     "locked": false,
     "points": 2,
     "schema_version": 1,
     "solution": true
    }
   },
   "source": [
    "YOUR ANSWER HERE"
   ]
  },
  {
   "cell_type": "markdown",
   "metadata": {
    "deletable": false,
    "editable": false,
    "nbgrader": {
     "checksum": "2492d140a24fe4600d92cb0aee1fc63f",
     "grade": false,
     "grade_id": "cell-07e2f82ffed4e636",
     "locked": true,
     "schema_version": 1,
     "solution": false
    }
   },
   "source": [
    " # What is a linked list?"
   ]
  },
  {
   "cell_type": "markdown",
   "metadata": {
    "deletable": false,
    "nbgrader": {
     "checksum": "b9581e0c966f0330478f8bce1975c815",
     "grade": true,
     "grade_id": "cell-40a1578cadb62e0d",
     "locked": false,
     "points": 2,
     "schema_version": 1,
     "solution": true
    }
   },
   "source": [
    "YOUR ANSWER HERE"
   ]
  },
  {
   "cell_type": "markdown",
   "metadata": {
    "deletable": false,
    "editable": false,
    "nbgrader": {
     "checksum": "de75736c7522eed06d56a326dbec7b2d",
     "grade": false,
     "grade_id": "cell-4ca59e2fb3b90d8d",
     "locked": true,
     "schema_version": 1,
     "solution": false
    }
   },
   "source": [
    " # What is the main advantage of linked lists over arrays?"
   ]
  },
  {
   "cell_type": "markdown",
   "metadata": {
    "deletable": false,
    "nbgrader": {
     "checksum": "d18f9f21279659b4fd4d30658174b1a6",
     "grade": true,
     "grade_id": "cell-e12e18e7ba7a0a62",
     "locked": false,
     "points": 2,
     "schema_version": 1,
     "solution": true
    }
   },
   "source": [
    "YOUR ANSWER HERE"
   ]
  },
  {
   "cell_type": "markdown",
   "metadata": {
    "deletable": false,
    "editable": false,
    "nbgrader": {
     "checksum": "177f914488c35a20aedf7d9e3e2d865b",
     "grade": false,
     "grade_id": "cell-9e9c07fb38433bf1",
     "locked": true,
     "schema_version": 1,
     "solution": false
    }
   },
   "source": [
    " # What is the main advantage of arrays over linked lists?"
   ]
  },
  {
   "cell_type": "markdown",
   "metadata": {
    "deletable": false,
    "nbgrader": {
     "checksum": "a9990ef19b33d9eb6437b0697e89d976",
     "grade": true,
     "grade_id": "cell-4b50011e37a1c8ff",
     "locked": false,
     "points": 2,
     "schema_version": 1,
     "solution": true
    }
   },
   "source": [
    "YOUR ANSWER HERE"
   ]
  },
  {
   "cell_type": "markdown",
   "metadata": {
    "deletable": false,
    "editable": false,
    "nbgrader": {
     "checksum": "10d8571d191c0534442729d184c627f4",
     "grade": false,
     "grade_id": "cell-21bc30f495a5ca8a",
     "locked": true,
     "schema_version": 1,
     "solution": false
    }
   },
   "source": [
    " # How are linked lists passed as arguments to a function?"
   ]
  },
  {
   "cell_type": "markdown",
   "metadata": {
    "deletable": false,
    "nbgrader": {
     "checksum": "bc5741938fd12c5f36180cd8af58e3c4",
     "grade": true,
     "grade_id": "cell-7992515de70185fc",
     "locked": false,
     "points": 2,
     "schema_version": 1,
     "solution": true
    }
   },
   "source": [
    "YOUR ANSWER HERE"
   ]
  },
  {
   "cell_type": "markdown",
   "metadata": {
    "deletable": false,
    "editable": false,
    "nbgrader": {
     "checksum": "64009b29cb00a110d60147476a77ae31",
     "grade": false,
     "grade_id": "cell-ff1600533e37ab28",
     "locked": true,
     "schema_version": 1,
     "solution": false
    }
   },
   "source": [
    " # What is the difference between a circular linked list and a basic linked list?"
   ]
  },
  {
   "cell_type": "markdown",
   "metadata": {
    "deletable": false,
    "nbgrader": {
     "checksum": "48583d7e4b2c31fdcdaeaf746f13dee5",
     "grade": true,
     "grade_id": "cell-0ad19da29a9f4a17",
     "locked": false,
     "points": 2,
     "schema_version": 1,
     "solution": true
    }
   },
   "source": [
    "YOUR ANSWER HERE"
   ]
  },
  {
   "cell_type": "markdown",
   "metadata": {
    "deletable": false,
    "editable": false,
    "nbgrader": {
     "checksum": "a242d5fc48439b87be550390f5839368",
     "grade": false,
     "grade_id": "cell-c5862c738bddb187",
     "locked": true,
     "schema_version": 1,
     "solution": false
    }
   },
   "source": [
    " # What is the main advantage of a doubly-linked list over a basic linked list?"
   ]
  },
  {
   "cell_type": "markdown",
   "metadata": {
    "deletable": false,
    "nbgrader": {
     "checksum": "5da54af6c8a1d36748000117677cc72a",
     "grade": true,
     "grade_id": "cell-2a5eb0245fcebd0b",
     "locked": false,
     "points": 2,
     "schema_version": 1,
     "solution": true
    }
   },
   "source": [
    "YOUR ANSWER HERE"
   ]
  },
  {
   "cell_type": "markdown",
   "metadata": {
    "deletable": false,
    "editable": false,
    "nbgrader": {
     "checksum": "97641e0c7d3e4d9fbbad9266e8d2d000",
     "grade": false,
     "grade_id": "cell-ef6d1b08d04b0d0f",
     "locked": true,
     "schema_version": 1,
     "solution": false
    }
   },
   "source": [
    " # What is the main disadvantage of a doubly-linked list over a basic linked list?"
   ]
  },
  {
   "cell_type": "markdown",
   "metadata": {
    "deletable": false,
    "nbgrader": {
     "checksum": "60afd6dc65ff5509ce39ab81e16b5382",
     "grade": true,
     "grade_id": "cell-f1e2c4cdf1ff7fb2",
     "locked": false,
     "points": 2,
     "schema_version": 1,
     "solution": true
    }
   },
   "source": [
    "YOUR ANSWER HERE"
   ]
  },
  {
   "cell_type": "markdown",
   "metadata": {
    "deletable": false,
    "editable": false,
    "nbgrader": {
     "checksum": "ac4d5a003896497b474d067e22b5b6bc",
     "grade": false,
     "grade_id": "cell-d35754596a44fd2e",
     "locked": true,
     "schema_version": 1,
     "solution": false
    }
   },
   "source": [
    " # What is a stack?"
   ]
  },
  {
   "cell_type": "markdown",
   "metadata": {
    "deletable": false,
    "nbgrader": {
     "checksum": "f25ceda37ecaf8bc135439ccc9caeee5",
     "grade": true,
     "grade_id": "cell-6ba1ecad3115137b",
     "locked": false,
     "points": 2,
     "schema_version": 1,
     "solution": true
    }
   },
   "source": [
    "YOUR ANSWER HERE"
   ]
  },
  {
   "cell_type": "markdown",
   "metadata": {
    "deletable": false,
    "editable": false,
    "nbgrader": {
     "checksum": "605054ab5d86caa2a1e877d1aa0c1f28",
     "grade": false,
     "grade_id": "cell-9d04b4991597f75f",
     "locked": true,
     "schema_version": 1,
     "solution": false
    }
   },
   "source": [
    " # What are the two main functions defined by a stack?"
   ]
  },
  {
   "cell_type": "markdown",
   "metadata": {
    "deletable": false,
    "nbgrader": {
     "checksum": "568b8c306a48eec189001c01730c75ff",
     "grade": true,
     "grade_id": "cell-64d87e98033920e5",
     "locked": false,
     "points": 2,
     "schema_version": 1,
     "solution": true
    }
   },
   "source": [
    "YOUR ANSWER HERE"
   ]
  },
  {
   "cell_type": "markdown",
   "metadata": {
    "deletable": false,
    "editable": false,
    "nbgrader": {
     "checksum": "0d4e34f3048754bda98787fe6d33a45d",
     "grade": false,
     "grade_id": "cell-88393b13442c73ae",
     "locked": true,
     "schema_version": 1,
     "solution": false
    }
   },
   "source": [
    " # How can you implement a stack with an array?"
   ]
  },
  {
   "cell_type": "markdown",
   "metadata": {
    "deletable": false,
    "nbgrader": {
     "checksum": "7a87bba7c0f9125d497c30f577ec1baa",
     "grade": true,
     "grade_id": "cell-bd40612304a3f87f",
     "locked": false,
     "points": 2,
     "schema_version": 1,
     "solution": true
    }
   },
   "source": [
    "YOUR ANSWER HERE"
   ]
  },
  {
   "cell_type": "markdown",
   "metadata": {
    "deletable": false,
    "editable": false,
    "nbgrader": {
     "checksum": "831a23edfffa769df29f6cdaa8aa7f44",
     "grade": false,
     "grade_id": "cell-76c659f5d30fd331",
     "locked": true,
     "schema_version": 1,
     "solution": false
    }
   },
   "source": [
    " # How can you implement a stack with a list?"
   ]
  },
  {
   "cell_type": "markdown",
   "metadata": {
    "deletable": false,
    "nbgrader": {
     "checksum": "837386622e3c41acad10f2b890e64537",
     "grade": true,
     "grade_id": "cell-d13e296d1d65515a",
     "locked": false,
     "points": 2,
     "schema_version": 1,
     "solution": true
    }
   },
   "source": [
    "YOUR ANSWER HERE"
   ]
  },
  {
   "cell_type": "markdown",
   "metadata": {
    "deletable": false,
    "editable": false,
    "nbgrader": {
     "checksum": "fe9758dd536095831ef71589d0ffccd9",
     "grade": false,
     "grade_id": "cell-cc67ddf0ca08f101",
     "locked": true,
     "schema_version": 1,
     "solution": false
    }
   },
   "source": [
    " # Which implementation (array-based vs. list-based) is preferred, and why?"
   ]
  },
  {
   "cell_type": "markdown",
   "metadata": {
    "deletable": false,
    "nbgrader": {
     "checksum": "20a044986e6db479ae3c11c544de37bd",
     "grade": true,
     "grade_id": "cell-b89a66bba177cc9b",
     "locked": false,
     "points": 2,
     "schema_version": 1,
     "solution": true
    }
   },
   "source": [
    "YOUR ANSWER HERE"
   ]
  },
  {
   "cell_type": "markdown",
   "metadata": {
    "deletable": false,
    "editable": false,
    "nbgrader": {
     "checksum": "dcad84d33a9c38b1021f23041107a369",
     "grade": false,
     "grade_id": "cell-ac7b682b3e26028b",
     "locked": true,
     "schema_version": 1,
     "solution": false
    }
   },
   "source": [
    " # How are infix expressions evaluated by computers?"
   ]
  },
  {
   "cell_type": "markdown",
   "metadata": {
    "deletable": false,
    "nbgrader": {
     "checksum": "b2753df9565f70cb53f8a8c906c0e767",
     "grade": true,
     "grade_id": "cell-833e9fa46faf2c5e",
     "locked": false,
     "points": 2,
     "schema_version": 1,
     "solution": true
    }
   },
   "source": [
    "YOUR ANSWER HERE"
   ]
  },
  {
   "cell_type": "markdown",
   "metadata": {
    "deletable": false,
    "editable": false,
    "nbgrader": {
     "checksum": "f68cae40811e288081d267996ebab24f",
     "grade": false,
     "grade_id": "cell-e85ec66e631e55e6",
     "locked": true,
     "schema_version": 1,
     "solution": false
    }
   },
   "source": [
    " # What operations would you need to perform to find a given element on a stack?"
   ]
  },
  {
   "cell_type": "markdown",
   "metadata": {
    "deletable": false,
    "nbgrader": {
     "checksum": "5c07e2c94bc258595c47c2fe40487169",
     "grade": true,
     "grade_id": "cell-8f1df2223997601f",
     "locked": false,
     "points": 2,
     "schema_version": 1,
     "solution": true
    }
   },
   "source": [
    "YOUR ANSWER HERE"
   ]
  },
  {
   "cell_type": "markdown",
   "metadata": {
    "deletable": false,
    "editable": false,
    "nbgrader": {
     "checksum": "c2fa26484cf22b8a10b6c00a8e8d89f0",
     "grade": false,
     "grade_id": "cell-ee1c9c4411044e9c",
     "locked": true,
     "schema_version": 1,
     "solution": false
    }
   },
   "source": [
    " # What is a queue?"
   ]
  },
  {
   "cell_type": "markdown",
   "metadata": {
    "deletable": false,
    "nbgrader": {
     "checksum": "e0050185d60b7507a645329d9e04628c",
     "grade": true,
     "grade_id": "cell-748761cdbf514836",
     "locked": false,
     "points": 2,
     "schema_version": 1,
     "solution": true
    }
   },
   "source": [
    "YOUR ANSWER HERE"
   ]
  },
  {
   "cell_type": "markdown",
   "metadata": {
    "deletable": false,
    "editable": false,
    "nbgrader": {
     "checksum": "2af9f340f8e631b68aa9ecd4518462a2",
     "grade": false,
     "grade_id": "cell-d184a021a5c88039",
     "locked": true,
     "schema_version": 1,
     "solution": false
    }
   },
   "source": [
    " # What are the two main functions defined by a queue?"
   ]
  },
  {
   "cell_type": "markdown",
   "metadata": {
    "deletable": false,
    "nbgrader": {
     "checksum": "250841bbfbe4cce22d4b804651d20849",
     "grade": true,
     "grade_id": "cell-0015bd6203456687",
     "locked": false,
     "points": 2,
     "schema_version": 1,
     "solution": true
    }
   },
   "source": [
    "YOUR ANSWER HERE"
   ]
  },
  {
   "cell_type": "markdown",
   "metadata": {
    "deletable": false,
    "editable": false,
    "nbgrader": {
     "checksum": "09d4135a95c03a3d8eaa3da58cf97860",
     "grade": false,
     "grade_id": "cell-e01648556adfb0ea",
     "locked": true,
     "schema_version": 1,
     "solution": false
    }
   },
   "source": [
    " # How can you implement a queue with an array?"
   ]
  },
  {
   "cell_type": "markdown",
   "metadata": {
    "deletable": false,
    "nbgrader": {
     "checksum": "49073a5ea2f7e502fd8e4dfdb34b52c9",
     "grade": true,
     "grade_id": "cell-fc5adc5278c8c4a9",
     "locked": false,
     "points": 2,
     "schema_version": 1,
     "solution": true
    }
   },
   "source": [
    "YOUR ANSWER HERE"
   ]
  },
  {
   "cell_type": "markdown",
   "metadata": {
    "deletable": false,
    "editable": false,
    "nbgrader": {
     "checksum": "7ca56cc7985e4329b0a70f225d62c0d0",
     "grade": false,
     "grade_id": "cell-8d1a6e7bff80e369",
     "locked": true,
     "schema_version": 1,
     "solution": false
    }
   },
   "source": [
    " # How can you implement a queue with a list?"
   ]
  },
  {
   "cell_type": "markdown",
   "metadata": {
    "deletable": false,
    "nbgrader": {
     "checksum": "b1de75cc54eb87651ee199c7414992b7",
     "grade": true,
     "grade_id": "cell-2efcfb4dd137c7d7",
     "locked": false,
     "points": 2,
     "schema_version": 1,
     "solution": true
    }
   },
   "source": [
    "YOUR ANSWER HERE"
   ]
  },
  {
   "cell_type": "markdown",
   "metadata": {
    "deletable": false,
    "editable": false,
    "nbgrader": {
     "checksum": "103c300107cc2394a2845e8c86aa284d",
     "grade": false,
     "grade_id": "cell-acdc8177e587cfa0",
     "locked": true,
     "schema_version": 1,
     "solution": false
    }
   },
   "source": [
    " # Which implementation (array-based vs. list-based) is preferred for a queue, and why?"
   ]
  },
  {
   "cell_type": "markdown",
   "metadata": {
    "deletable": false,
    "nbgrader": {
     "checksum": "11f46548742aecc7b445a073e9c9533f",
     "grade": true,
     "grade_id": "cell-165a464e5aa1e652",
     "locked": false,
     "points": 2,
     "schema_version": 1,
     "solution": true
    }
   },
   "source": [
    "YOUR ANSWER HERE"
   ]
  },
  {
   "cell_type": "markdown",
   "metadata": {
    "deletable": false,
    "editable": false,
    "nbgrader": {
     "checksum": "946d9f837b434c8a67541af5675374ce",
     "grade": false,
     "grade_id": "cell-1023d5cfb4eecce0",
     "locked": true,
     "schema_version": 1,
     "solution": false
    }
   },
   "source": [
    " # What is the stack operation corresponding to the enqueue operation in queues?"
   ]
  },
  {
   "cell_type": "markdown",
   "metadata": {
    "deletable": false,
    "nbgrader": {
     "checksum": "affe99949e084cfc9f901bffc27eaa9e",
     "grade": true,
     "grade_id": "cell-2356cd51ec0311b8",
     "locked": false,
     "points": 2,
     "schema_version": 1,
     "solution": true
    }
   },
   "source": [
    "YOUR ANSWER HERE"
   ]
  },
  {
   "cell_type": "markdown",
   "metadata": {
    "deletable": false,
    "editable": false,
    "nbgrader": {
     "checksum": "64bce32c2c8d6eb3b632e7803870b857",
     "grade": false,
     "grade_id": "cell-bfc6535308be4aed",
     "locked": true,
     "schema_version": 1,
     "solution": false
    }
   },
   "source": [
    " # What data structure is more appropriate for scheduling printing jobs at a printer, a stack or a queue?"
   ]
  },
  {
   "cell_type": "markdown",
   "metadata": {
    "deletable": false,
    "nbgrader": {
     "checksum": "497b23cfdd278061b36cc5494fd981b8",
     "grade": true,
     "grade_id": "cell-7ee7295246a99631",
     "locked": false,
     "points": 2,
     "schema_version": 1,
     "solution": true
    }
   },
   "source": [
    "YOUR ANSWER HERE"
   ]
  }
 ],
 "metadata": {},
 "nbformat": 4,
 "nbformat_minor": 0
}
