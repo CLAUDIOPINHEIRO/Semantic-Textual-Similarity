{
 "cells": [
  {
   "cell_type": "markdown",
   "metadata": {
    "deletable": false,
    "editable": false,
    "nbgrader": {
     "checksum": "faec06b6b1a43b007c99cdcf1538d14f",
     "grade": false,
     "grade_id": "cell-fe2bfd980be8409c",
     "locked": true,
     "schema_version": 1,
     "solution": false
    }
   },
   "source": [
    "Student ID: 110"
   ]
  },
  {
   "cell_type": "markdown",
   "metadata": {
    "deletable": false,
    "editable": false,
    "nbgrader": {
     "checksum": "28117a7c64eb470ff824d662c4e42487",
     "grade": false,
     "grade_id": "cell-7c824b0be5879ab5",
     "locked": true,
     "schema_version": 1,
     "solution": false
    }
   },
   "source": [
    " # What is the role of a prototype program in problem solving?"
   ]
  },
  {
   "cell_type": "markdown",
   "metadata": {
    "deletable": false,
    "nbgrader": {
     "checksum": "1fd1b3f09f2814218484e963a0e0f625",
     "grade": true,
     "grade_id": "cell-f5937e9697d68ecf",
     "locked": false,
     "points": 2,
     "schema_version": 1,
     "solution": true
    }
   },
   "source": [
    "YOUR ANSWER HERE"
   ]
  },
  {
   "cell_type": "markdown",
   "metadata": {
    "deletable": false,
    "editable": false,
    "nbgrader": {
     "checksum": "13a87b1dcf9a97638f8c25555f4999d9",
     "grade": false,
     "grade_id": "cell-08b363a8fc4c4b6d",
     "locked": true,
     "schema_version": 1,
     "solution": false
    }
   },
   "source": [
    " # What stages in the software life cycle are influenced by the testing stage?"
   ]
  },
  {
   "cell_type": "markdown",
   "metadata": {
    "deletable": false,
    "nbgrader": {
     "checksum": "ed07b184c2d510b48cefd08bcfc21b6a",
     "grade": true,
     "grade_id": "cell-858e18b610e45088",
     "locked": false,
     "points": 2,
     "schema_version": 1,
     "solution": true
    }
   },
   "source": [
    "YOUR ANSWER HERE"
   ]
  },
  {
   "cell_type": "markdown",
   "metadata": {
    "deletable": false,
    "editable": false,
    "nbgrader": {
     "checksum": "ef2fd1d0fe5670121341849cb46adce2",
     "grade": false,
     "grade_id": "cell-1115fcf99e10ad81",
     "locked": true,
     "schema_version": 1,
     "solution": false
    }
   },
   "source": [
    " # What are the main advantages associated with object-oriented programming?"
   ]
  },
  {
   "cell_type": "markdown",
   "metadata": {
    "deletable": false,
    "nbgrader": {
     "checksum": "247c35ee32b04e5c97234044f398ec74",
     "grade": true,
     "grade_id": "cell-ac99cea6da7e648c",
     "locked": false,
     "points": 2,
     "schema_version": 1,
     "solution": true
    }
   },
   "source": [
    "YOUR ANSWER HERE"
   ]
  },
  {
   "cell_type": "markdown",
   "metadata": {
    "deletable": false,
    "editable": false,
    "nbgrader": {
     "checksum": "a241ae3add3e3917b7310f3a32b9af0c",
     "grade": false,
     "grade_id": "cell-dd6707b2058bf9b5",
     "locked": true,
     "schema_version": 1,
     "solution": false
    }
   },
   "source": [
    " # Where do C++ programs begin to execute?"
   ]
  },
  {
   "cell_type": "markdown",
   "metadata": {
    "deletable": false,
    "nbgrader": {
     "checksum": "de2a4a6484f656365496245d54624927",
     "grade": true,
     "grade_id": "cell-2c6725f0a525742d",
     "locked": false,
     "points": 2,
     "schema_version": 1,
     "solution": true
    }
   },
   "source": [
    "YOUR ANSWER HERE"
   ]
  },
  {
   "cell_type": "markdown",
   "metadata": {
    "deletable": false,
    "editable": false,
    "nbgrader": {
     "checksum": "8cb1556001f2a288ccb2b9bc4d459e05",
     "grade": false,
     "grade_id": "cell-bdc3faa407f6d842",
     "locked": true,
     "schema_version": 1,
     "solution": false
    }
   },
   "source": [
    " # What is a variable?"
   ]
  },
  {
   "cell_type": "markdown",
   "metadata": {
    "deletable": false,
    "nbgrader": {
     "checksum": "42fe8b8eacb7b4c41d9074be643c2ddf",
     "grade": true,
     "grade_id": "cell-0fddaf7b61849fbd",
     "locked": false,
     "points": 2,
     "schema_version": 1,
     "solution": true
    }
   },
   "source": [
    "YOUR ANSWER HERE"
   ]
  },
  {
   "cell_type": "markdown",
   "metadata": {
    "deletable": false,
    "editable": false,
    "nbgrader": {
     "checksum": "4e589617b8c18bb19d301b357615a425",
     "grade": false,
     "grade_id": "cell-ce88c7216b1238ba",
     "locked": true,
     "schema_version": 1,
     "solution": false
    }
   },
   "source": [
    " # Where are variables declared in a C++ program?"
   ]
  },
  {
   "cell_type": "markdown",
   "metadata": {
    "deletable": false,
    "nbgrader": {
     "checksum": "166fca7dcf31c3bc07df6b4349a815f9",
     "grade": true,
     "grade_id": "cell-a6c2e823a4a906df",
     "locked": false,
     "points": 2,
     "schema_version": 1,
     "solution": true
    }
   },
   "source": [
    "YOUR ANSWER HERE"
   ]
  },
  {
   "cell_type": "markdown",
   "metadata": {
    "deletable": false,
    "editable": false,
    "nbgrader": {
     "checksum": "834be90905e446fa84456a21fb2e68a8",
     "grade": false,
     "grade_id": "cell-677546346a1f3e78",
     "locked": true,
     "schema_version": 1,
     "solution": false
    }
   },
   "source": [
    " # What is the main difference between a while and a do...while statement?"
   ]
  },
  {
   "cell_type": "markdown",
   "metadata": {
    "deletable": false,
    "nbgrader": {
     "checksum": "d9091e707b36c64c9f00a5666a3fe3fd",
     "grade": true,
     "grade_id": "cell-e252623c9df4a74f",
     "locked": false,
     "points": 2,
     "schema_version": 1,
     "solution": true
    }
   },
   "source": [
    "YOUR ANSWER HERE"
   ]
  },
  {
   "cell_type": "markdown",
   "metadata": {
    "deletable": false,
    "editable": false,
    "nbgrader": {
     "checksum": "a77e7397d0e5235bb15081a57c33d6e9",
     "grade": false,
     "grade_id": "cell-19e8faeded0af8fb",
     "locked": true,
     "schema_version": 1,
     "solution": false
    }
   },
   "source": [
    " # What is typically included in a class definition?"
   ]
  },
  {
   "cell_type": "markdown",
   "metadata": {
    "deletable": false,
    "nbgrader": {
     "checksum": "fbdbe4f7e6e2847bc95f83e5b8dd3a54",
     "grade": true,
     "grade_id": "cell-942a7e156a34bc86",
     "locked": false,
     "points": 2,
     "schema_version": 1,
     "solution": true
    }
   },
   "source": [
    "YOUR ANSWER HERE"
   ]
  },
  {
   "cell_type": "markdown",
   "metadata": {
    "deletable": false,
    "editable": false,
    "nbgrader": {
     "checksum": "82c1a72d5f0d6a431819983707c7cb1a",
     "grade": false,
     "grade_id": "cell-17a6185e566d5d0a",
     "locked": true,
     "schema_version": 1,
     "solution": false
    }
   },
   "source": [
    " # What is the difference between a data member and a local variable inside a member function?"
   ]
  },
  {
   "cell_type": "markdown",
   "metadata": {
    "deletable": false,
    "nbgrader": {
     "checksum": "73c370003d9207275ec31b1820fb4c1f",
     "grade": true,
     "grade_id": "cell-51b6dd1a512e40e4",
     "locked": false,
     "points": 2,
     "schema_version": 1,
     "solution": true
    }
   },
   "source": [
    "YOUR ANSWER HERE"
   ]
  },
  {
   "cell_type": "markdown",
   "metadata": {
    "deletable": false,
    "editable": false,
    "nbgrader": {
     "checksum": "4fb2ab119c4ff0aafc8cba4f23ba7b96",
     "grade": false,
     "grade_id": "cell-37f6d648648a70a4",
     "locked": true,
     "schema_version": 1,
     "solution": false
    }
   },
   "source": [
    " # What is the difference between a constructor and a function?"
   ]
  },
  {
   "cell_type": "markdown",
   "metadata": {
    "deletable": false,
    "nbgrader": {
     "checksum": "90e5c8f9770c890ba9fc2a7b34b059e5",
     "grade": true,
     "grade_id": "cell-2bb7bdae50abc86b",
     "locked": false,
     "points": 2,
     "schema_version": 1,
     "solution": true
    }
   },
   "source": [
    "YOUR ANSWER HERE"
   ]
  },
  {
   "cell_type": "markdown",
   "metadata": {
    "deletable": false,
    "editable": false,
    "nbgrader": {
     "checksum": "653555e7aae6e4e93bd56ae830cf9b4c",
     "grade": false,
     "grade_id": "cell-b0f52d3a0c86564f",
     "locked": true,
     "schema_version": 1,
     "solution": false
    }
   },
   "source": [
    " # When does C++ create a default constructor?"
   ]
  },
  {
   "cell_type": "markdown",
   "metadata": {
    "deletable": false,
    "nbgrader": {
     "checksum": "be857e7ea4567c527e3795ca94ec88fd",
     "grade": true,
     "grade_id": "cell-5a966be682c18303",
     "locked": false,
     "points": 2,
     "schema_version": 1,
     "solution": true
    }
   },
   "source": [
    "YOUR ANSWER HERE"
   ]
  },
  {
   "cell_type": "markdown",
   "metadata": {
    "deletable": false,
    "editable": false,
    "nbgrader": {
     "checksum": "57df3a714d167a0389622be32bf381c3",
     "grade": false,
     "grade_id": "cell-2139cf95a5c1706b",
     "locked": true,
     "schema_version": 1,
     "solution": false
    }
   },
   "source": [
    " # How many constructors can be created for a class?"
   ]
  },
  {
   "cell_type": "markdown",
   "metadata": {
    "deletable": false,
    "nbgrader": {
     "checksum": "1ad059ee57c9134c6beb11f05f53dbc0",
     "grade": true,
     "grade_id": "cell-b79c492c2539f515",
     "locked": false,
     "points": 2,
     "schema_version": 1,
     "solution": true
    }
   },
   "source": [
    "YOUR ANSWER HERE"
   ]
  },
  {
   "cell_type": "markdown",
   "metadata": {
    "deletable": false,
    "editable": false,
    "nbgrader": {
     "checksum": "7f9bca581a710918b1138f23934d39f7",
     "grade": false,
     "grade_id": "cell-e8db24634fc0329e",
     "locked": true,
     "schema_version": 1,
     "solution": false
    }
   },
   "source": [
    " # What is the difference between a function prototype and a function definition?"
   ]
  },
  {
   "cell_type": "markdown",
   "metadata": {
    "deletable": false,
    "nbgrader": {
     "checksum": "62b72390bc4b3d65c91ca35ff0dcd2a9",
     "grade": true,
     "grade_id": "cell-ca4a231d555c8347",
     "locked": false,
     "points": 2,
     "schema_version": 1,
     "solution": true
    }
   },
   "source": [
    "YOUR ANSWER HERE"
   ]
  },
  {
   "cell_type": "markdown",
   "metadata": {
    "deletable": false,
    "editable": false,
    "nbgrader": {
     "checksum": "07d5baccb74e0702ccfe01f86ddf518d",
     "grade": false,
     "grade_id": "cell-504c9a4049690641",
     "locked": true,
     "schema_version": 1,
     "solution": false
    }
   },
   "source": [
    " # What is the role of a header-file?"
   ]
  },
  {
   "cell_type": "markdown",
   "metadata": {
    "deletable": false,
    "nbgrader": {
     "checksum": "b8109be09e4553797d4a996e9e81dd5e",
     "grade": true,
     "grade_id": "cell-29c8a869b3657874",
     "locked": false,
     "points": 2,
     "schema_version": 1,
     "solution": true
    }
   },
   "source": [
    "YOUR ANSWER HERE"
   ]
  },
  {
   "cell_type": "markdown",
   "metadata": {
    "deletable": false,
    "editable": false,
    "nbgrader": {
     "checksum": "4173cd35cac8b519c0cc7f1560ee8c33",
     "grade": false,
     "grade_id": "cell-f96810a27dc34dd3",
     "locked": true,
     "schema_version": 1,
     "solution": false
    }
   },
   "source": [
    " # What does a function signature include?"
   ]
  },
  {
   "cell_type": "markdown",
   "metadata": {
    "deletable": false,
    "nbgrader": {
     "checksum": "9e8288b8c5b05b65187f8e36d2c4d016",
     "grade": true,
     "grade_id": "cell-1b7dc81535a7e8db",
     "locked": false,
     "points": 2,
     "schema_version": 1,
     "solution": true
    }
   },
   "source": [
    "YOUR ANSWER HERE"
   ]
  },
  {
   "cell_type": "markdown",
   "metadata": {
    "deletable": false,
    "editable": false,
    "nbgrader": {
     "checksum": "458a7672e8b05a1d800cc96e975c8daf",
     "grade": false,
     "grade_id": "cell-ea443793caff87a1",
     "locked": true,
     "schema_version": 1,
     "solution": false
    }
   },
   "source": [
    " # What is the scope of global variables?"
   ]
  },
  {
   "cell_type": "markdown",
   "metadata": {
    "deletable": false,
    "nbgrader": {
     "checksum": "c25bf770fb425334c0aa17470ecdad5f",
     "grade": true,
     "grade_id": "cell-cd5d9399d5c480e1",
     "locked": false,
     "points": 2,
     "schema_version": 1,
     "solution": true
    }
   },
   "source": [
    "YOUR ANSWER HERE"
   ]
  },
  {
   "cell_type": "markdown",
   "metadata": {
    "deletable": false,
    "editable": false,
    "nbgrader": {
     "checksum": "66ed4e571aeff9152685d63665d5eb12",
     "grade": false,
     "grade_id": "cell-0b50216cd5bffba6",
     "locked": true,
     "schema_version": 1,
     "solution": false
    }
   },
   "source": [
    " # How does the compiler handle inline functions?"
   ]
  },
  {
   "cell_type": "markdown",
   "metadata": {
    "deletable": false,
    "nbgrader": {
     "checksum": "0ecbf4507a335accef81d04d7f8a41c2",
     "grade": true,
     "grade_id": "cell-b6c5f782fc1feb20",
     "locked": false,
     "points": 2,
     "schema_version": 1,
     "solution": true
    }
   },
   "source": [
    "YOUR ANSWER HERE"
   ]
  },
  {
   "cell_type": "markdown",
   "metadata": {
    "deletable": false,
    "editable": false,
    "nbgrader": {
     "checksum": "5563af551ccd76c0b3e83879f92af8ea",
     "grade": false,
     "grade_id": "cell-284d0df1e2a87f2e",
     "locked": true,
     "schema_version": 1,
     "solution": false
    }
   },
   "source": [
    " # What is the main advantage associated with function arguments that are passed by reference?"
   ]
  },
  {
   "cell_type": "markdown",
   "metadata": {
    "deletable": false,
    "nbgrader": {
     "checksum": "e740c43a41e4a3f3801c19b4fe5b4c0d",
     "grade": true,
     "grade_id": "cell-68830d5c7969cb08",
     "locked": false,
     "points": 2,
     "schema_version": 1,
     "solution": true
    }
   },
   "source": [
    "YOUR ANSWER HERE"
   ]
  },
  {
   "cell_type": "markdown",
   "metadata": {
    "deletable": false,
    "editable": false,
    "nbgrader": {
     "checksum": "68a5d6ba6a312a3b808341cb03c2af50",
     "grade": false,
     "grade_id": "cell-8ac8385098f99e06",
     "locked": true,
     "schema_version": 1,
     "solution": false
    }
   },
   "source": [
    " # How are overloaded functions differentiated by the compiler?"
   ]
  },
  {
   "cell_type": "markdown",
   "metadata": {
    "deletable": false,
    "nbgrader": {
     "checksum": "1f290b4c4fb588b306f2c2ec02a8bc1f",
     "grade": true,
     "grade_id": "cell-25de7c3cecdcdfb2",
     "locked": false,
     "points": 2,
     "schema_version": 1,
     "solution": true
    }
   },
   "source": [
    "YOUR ANSWER HERE"
   ]
  },
  {
   "cell_type": "markdown",
   "metadata": {
    "deletable": false,
    "editable": false,
    "nbgrader": {
     "checksum": "7171221b774778169f893c54beeb38a4",
     "grade": false,
     "grade_id": "cell-2e49ccc002349a7a",
     "locked": true,
     "schema_version": 1,
     "solution": false
    }
   },
   "source": [
    " # When defining a recursive function, what are possible causes for infinite recursion?"
   ]
  },
  {
   "cell_type": "markdown",
   "metadata": {
    "deletable": false,
    "nbgrader": {
     "checksum": "ea1cb29311b0f178df5e9b1b9ad78417",
     "grade": true,
     "grade_id": "cell-6acb921d4d48e16b",
     "locked": false,
     "points": 2,
     "schema_version": 1,
     "solution": true
    }
   },
   "source": [
    "YOUR ANSWER HERE"
   ]
  },
  {
   "cell_type": "markdown",
   "metadata": {
    "deletable": false,
    "editable": false,
    "nbgrader": {
     "checksum": "4c84519d22520df7052ac93c1e63156e",
     "grade": false,
     "grade_id": "cell-4888bfc8b2e7150e",
     "locked": true,
     "schema_version": 1,
     "solution": false
    }
   },
   "source": [
    " # What are the similarities between iteration and recursion?"
   ]
  },
  {
   "cell_type": "markdown",
   "metadata": {
    "deletable": false,
    "nbgrader": {
     "checksum": "01f3131ca45d42e66e6d844370d3f564",
     "grade": true,
     "grade_id": "cell-5992f0c5b1c036ea",
     "locked": false,
     "points": 2,
     "schema_version": 1,
     "solution": true
    }
   },
   "source": [
    "YOUR ANSWER HERE"
   ]
  },
  {
   "cell_type": "markdown",
   "metadata": {
    "deletable": false,
    "editable": false,
    "nbgrader": {
     "checksum": "01daee253021878f82680c6ee482ae14",
     "grade": false,
     "grade_id": "cell-cac6399e1e14d828",
     "locked": true,
     "schema_version": 1,
     "solution": false
    }
   },
   "source": [
    " # What are the two different ways of specifying the length of an array?"
   ]
  },
  {
   "cell_type": "markdown",
   "metadata": {
    "deletable": false,
    "nbgrader": {
     "checksum": "9fb126cc387855f3f6b9bc8a32c42de1",
     "grade": true,
     "grade_id": "cell-e632d5622bbeccd4",
     "locked": false,
     "points": 2,
     "schema_version": 1,
     "solution": true
    }
   },
   "source": [
    "YOUR ANSWER HERE"
   ]
  },
  {
   "cell_type": "markdown",
   "metadata": {
    "deletable": false,
    "editable": false,
    "nbgrader": {
     "checksum": "fd062a7ccb2510757295350f42397171",
     "grade": false,
     "grade_id": "cell-5f909ecfd1b3431e",
     "locked": true,
     "schema_version": 1,
     "solution": false
    }
   },
   "source": [
    " # What is the main difference between strings declared using the type string versus strings declared using an array of characters?"
   ]
  },
  {
   "cell_type": "markdown",
   "metadata": {
    "deletable": false,
    "nbgrader": {
     "checksum": "99465e94fdbd55df18047ac260ab40cd",
     "grade": true,
     "grade_id": "cell-e3515ca3f8716baf",
     "locked": false,
     "points": 2,
     "schema_version": 1,
     "solution": true
    }
   },
   "source": [
    "YOUR ANSWER HERE"
   ]
  },
  {
   "cell_type": "markdown",
   "metadata": {
    "deletable": false,
    "editable": false,
    "nbgrader": {
     "checksum": "789ced2ba4f86f153b887e48f4318e5c",
     "grade": false,
     "grade_id": "cell-63764277970697aa",
     "locked": true,
     "schema_version": 1,
     "solution": false
    }
   },
   "source": [
    " # How are arrays passed to functions?"
   ]
  },
  {
   "cell_type": "markdown",
   "metadata": {
    "deletable": false,
    "nbgrader": {
     "checksum": "19f44b15da53456e9c756d4fdd1e5efc",
     "grade": true,
     "grade_id": "cell-5b8ad05f057be866",
     "locked": false,
     "points": 2,
     "schema_version": 1,
     "solution": true
    }
   },
   "source": [
    "YOUR ANSWER HERE"
   ]
  },
  {
   "cell_type": "markdown",
   "metadata": {
    "deletable": false,
    "editable": false,
    "nbgrader": {
     "checksum": "619faad32f0bd38b8592cdec0e2f2540",
     "grade": false,
     "grade_id": "cell-0e79b5a3196560eb",
     "locked": true,
     "schema_version": 1,
     "solution": false
    }
   },
   "source": [
    " # What is the difference between an array declared as static, and one that is not?"
   ]
  },
  {
   "cell_type": "markdown",
   "metadata": {
    "deletable": false,
    "nbgrader": {
     "checksum": "4edef3de6dae7835c80ad2cdd1bff6dd",
     "grade": true,
     "grade_id": "cell-dd22c5e1155dca3a",
     "locked": false,
     "points": 2,
     "schema_version": 1,
     "solution": true
    }
   },
   "source": [
    "YOUR ANSWER HERE"
   ]
  },
  {
   "cell_type": "markdown",
   "metadata": {
    "deletable": false,
    "editable": false,
    "nbgrader": {
     "checksum": "4cf033f8b9dbc9ebb0202805c779228f",
     "grade": false,
     "grade_id": "cell-32e28878d9982bd8",
     "locked": true,
     "schema_version": 1,
     "solution": false
    }
   },
   "source": [
    " # How many dimensions need to be specified when passing a multi-dimensional array as an argument to a function?"
   ]
  },
  {
   "cell_type": "markdown",
   "metadata": {
    "deletable": false,
    "nbgrader": {
     "checksum": "c958a86f57d203d6e4c7d4c161cbfc17",
     "grade": true,
     "grade_id": "cell-d004ef48e96e34c1",
     "locked": false,
     "points": 2,
     "schema_version": 1,
     "solution": true
    }
   },
   "source": [
    "YOUR ANSWER HERE"
   ]
  },
  {
   "cell_type": "markdown",
   "metadata": {
    "deletable": false,
    "editable": false,
    "nbgrader": {
     "checksum": "107a18e282a3e3996183349297f96fa0",
     "grade": false,
     "grade_id": "cell-49d0224a27ce8641",
     "locked": true,
     "schema_version": 1,
     "solution": false
    }
   },
   "source": [
    " # Using an index outside the bounds of the array generates an error. Is this a compilation error or a run-time error?"
   ]
  },
  {
   "cell_type": "markdown",
   "metadata": {
    "deletable": false,
    "nbgrader": {
     "checksum": "c7b813d32a903ab9f62c4ab40518df3c",
     "grade": true,
     "grade_id": "cell-dc77816525a53511",
     "locked": false,
     "points": 2,
     "schema_version": 1,
     "solution": true
    }
   },
   "source": [
    "YOUR ANSWER HERE"
   ]
  },
  {
   "cell_type": "markdown",
   "metadata": {
    "deletable": false,
    "editable": false,
    "nbgrader": {
     "checksum": "25ad4467adef5952ee2969a933a324e9",
     "grade": false,
     "grade_id": "cell-f83225d9d53eec49",
     "locked": true,
     "schema_version": 1,
     "solution": false
    }
   },
   "source": [
    " # How are bi-dimensional arrays stored in memory, by rows or by columns?"
   ]
  },
  {
   "cell_type": "markdown",
   "metadata": {
    "deletable": false,
    "nbgrader": {
     "checksum": "6a28d6d413cda4df8b62cda4de40fbec",
     "grade": true,
     "grade_id": "cell-79d72b0dc7acf662",
     "locked": false,
     "points": 2,
     "schema_version": 1,
     "solution": true
    }
   },
   "source": [
    "YOUR ANSWER HERE"
   ]
  },
  {
   "cell_type": "markdown",
   "metadata": {
    "deletable": false,
    "editable": false,
    "nbgrader": {
     "checksum": "298065e4c0763c67c68ab940cbe04abd",
     "grade": false,
     "grade_id": "cell-00861d700599d2ab",
     "locked": true,
     "schema_version": 1,
     "solution": false
    }
   },
   "source": [
    " # In one sentence, what is the main idea implemented by insertion sort?"
   ]
  },
  {
   "cell_type": "markdown",
   "metadata": {
    "deletable": false,
    "nbgrader": {
     "checksum": "d1c8d68acc23b81c27084280fc381afa",
     "grade": true,
     "grade_id": "cell-d708d8c140251c83",
     "locked": false,
     "points": 2,
     "schema_version": 1,
     "solution": true
    }
   },
   "source": [
    "YOUR ANSWER HERE"
   ]
  },
  {
   "cell_type": "markdown",
   "metadata": {
    "deletable": false,
    "editable": false,
    "nbgrader": {
     "checksum": "e11a883f58d5898e2683c445369d360d",
     "grade": false,
     "grade_id": "cell-437bb67f109bde37",
     "locked": true,
     "schema_version": 1,
     "solution": false
    }
   },
   "source": [
    " # In one sentence, what is the main idea implemented by selection sort?"
   ]
  },
  {
   "cell_type": "markdown",
   "metadata": {
    "deletable": false,
    "nbgrader": {
     "checksum": "22b930f925f58c1fab61bcefac8b5445",
     "grade": true,
     "grade_id": "cell-bc9ef20e4ff3d086",
     "locked": false,
     "points": 2,
     "schema_version": 1,
     "solution": true
    }
   },
   "source": [
    "YOUR ANSWER HERE"
   ]
  },
  {
   "cell_type": "markdown",
   "metadata": {
    "deletable": false,
    "editable": false,
    "nbgrader": {
     "checksum": "87ef6743c4f0c6ca26ec6fce0a26d73f",
     "grade": false,
     "grade_id": "cell-0bf62262fb036183",
     "locked": true,
     "schema_version": 1,
     "solution": false
    }
   },
   "source": [
    " # What is the number of operations for insertion sort under a best-case scenario, and what is the best-case scenario?"
   ]
  },
  {
   "cell_type": "markdown",
   "metadata": {
    "deletable": false,
    "nbgrader": {
     "checksum": "fd47228359fe803c9d3817cfcca8afa9",
     "grade": true,
     "grade_id": "cell-5f4126365eb6c813",
     "locked": false,
     "points": 2,
     "schema_version": 1,
     "solution": true
    }
   },
   "source": [
    "YOUR ANSWER HERE"
   ]
  },
  {
   "cell_type": "markdown",
   "metadata": {
    "deletable": false,
    "editable": false,
    "nbgrader": {
     "checksum": "73fcdce449e4f571935588a01c9183b8",
     "grade": false,
     "grade_id": "cell-b2967b4de238c61e",
     "locked": true,
     "schema_version": 1,
     "solution": false
    }
   },
   "source": [
    " # What is the base case for a recursive implementation of merge sort?"
   ]
  },
  {
   "cell_type": "markdown",
   "metadata": {
    "deletable": false,
    "nbgrader": {
     "checksum": "4061e80737c25e99bd76d61af8f0e56d",
     "grade": true,
     "grade_id": "cell-48e03f7b87b82636",
     "locked": false,
     "points": 2,
     "schema_version": 1,
     "solution": true
    }
   },
   "source": [
    "YOUR ANSWER HERE"
   ]
  },
  {
   "cell_type": "markdown",
   "metadata": {
    "deletable": false,
    "editable": false,
    "nbgrader": {
     "checksum": "5131a52fba8ec4207cf9899d6a82ce5f",
     "grade": false,
     "grade_id": "cell-67c45429795eeedf",
     "locked": true,
     "schema_version": 1,
     "solution": false
    }
   },
   "source": [
    " # What is a pointer?"
   ]
  },
  {
   "cell_type": "markdown",
   "metadata": {
    "deletable": false,
    "nbgrader": {
     "checksum": "485eefda2d5af835bdb5e2cd2e87ff00",
     "grade": true,
     "grade_id": "cell-1a54f3984ab762d0",
     "locked": false,
     "points": 2,
     "schema_version": 1,
     "solution": true
    }
   },
   "source": [
    "YOUR ANSWER HERE"
   ]
  },
  {
   "cell_type": "markdown",
   "metadata": {
    "deletable": false,
    "editable": false,
    "nbgrader": {
     "checksum": "6892f485a1e2f11149f03cf87d309c89",
     "grade": false,
     "grade_id": "cell-5210d9b87db07c42",
     "locked": true,
     "schema_version": 1,
     "solution": false
    }
   },
   "source": [
    " # What does the address (&) operator return?"
   ]
  },
  {
   "cell_type": "markdown",
   "metadata": {
    "deletable": false,
    "nbgrader": {
     "checksum": "4269bc2fc5980caff074901f2cdfaed7",
     "grade": true,
     "grade_id": "cell-63e9456d6811c0ba",
     "locked": false,
     "points": 2,
     "schema_version": 1,
     "solution": true
    }
   },
   "source": [
    "YOUR ANSWER HERE"
   ]
  },
  {
   "cell_type": "markdown",
   "metadata": {
    "deletable": false,
    "editable": false,
    "nbgrader": {
     "checksum": "02babb609d55b703826f852d0c777d2c",
     "grade": false,
     "grade_id": "cell-1292cf93831b5b9b",
     "locked": true,
     "schema_version": 1,
     "solution": false
    }
   },
   "source": [
    " # What does the star (*) operator return?"
   ]
  },
  {
   "cell_type": "markdown",
   "metadata": {
    "deletable": false,
    "nbgrader": {
     "checksum": "5c21176b1c6177a95e8763ea13152276",
     "grade": true,
     "grade_id": "cell-27eafd02520cecb1",
     "locked": false,
     "points": 2,
     "schema_version": 1,
     "solution": true
    }
   },
   "source": [
    "YOUR ANSWER HERE"
   ]
  },
  {
   "cell_type": "markdown",
   "metadata": {
    "deletable": false,
    "editable": false,
    "nbgrader": {
     "checksum": "dc95d46fd427d8f63023b7280e54c259",
     "grade": false,
     "grade_id": "cell-f726e220b42fe49e",
     "locked": true,
     "schema_version": 1,
     "solution": false
    }
   },
   "source": [
    " # How can an array be addressed in pointer/offset notation?"
   ]
  },
  {
   "cell_type": "markdown",
   "metadata": {
    "deletable": false,
    "nbgrader": {
     "checksum": "68778338fca7132cc6505b72baad9c66",
     "grade": true,
     "grade_id": "cell-9d695a529b76f505",
     "locked": false,
     "points": 2,
     "schema_version": 1,
     "solution": true
    }
   },
   "source": [
    "YOUR ANSWER HERE"
   ]
  },
  {
   "cell_type": "markdown",
   "metadata": {
    "deletable": false,
    "editable": false,
    "nbgrader": {
     "checksum": "8674f49751849d0551393f4d1906ce22",
     "grade": false,
     "grade_id": "cell-72bbdb72ec4d891c",
     "locked": true,
     "schema_version": 1,
     "solution": false
    }
   },
   "source": [
    " # What does the sizeof operator return?"
   ]
  },
  {
   "cell_type": "markdown",
   "metadata": {
    "deletable": false,
    "nbgrader": {
     "checksum": "a27a11472972d06ceeda3cef7480cd19",
     "grade": true,
     "grade_id": "cell-a6cb81a5bb3f4873",
     "locked": false,
     "points": 2,
     "schema_version": 1,
     "solution": true
    }
   },
   "source": [
    "YOUR ANSWER HERE"
   ]
  },
  {
   "cell_type": "markdown",
   "metadata": {
    "deletable": false,
    "editable": false,
    "nbgrader": {
     "checksum": "9d5f50c2d9db0058ca750921c2bf20ae",
     "grade": false,
     "grade_id": "cell-49ef892a48d4c8de",
     "locked": true,
     "schema_version": 1,
     "solution": false
    }
   },
   "source": [
    " # What are the different ways to pass a pointer to a function?"
   ]
  },
  {
   "cell_type": "markdown",
   "metadata": {
    "deletable": false,
    "nbgrader": {
     "checksum": "dc01e8986769573f4acd266a2c55f3bb",
     "grade": true,
     "grade_id": "cell-9fead4fc8ae43208",
     "locked": false,
     "points": 2,
     "schema_version": 1,
     "solution": true
    }
   },
   "source": [
    "YOUR ANSWER HERE"
   ]
  },
  {
   "cell_type": "markdown",
   "metadata": {
    "deletable": false,
    "editable": false,
    "nbgrader": {
     "checksum": "7bb87f6a018920384bfb130e81732fc3",
     "grade": false,
     "grade_id": "cell-e7bea6a631c54ad0",
     "locked": true,
     "schema_version": 1,
     "solution": false
    }
   },
   "source": [
    " # What is a function pointer?"
   ]
  },
  {
   "cell_type": "markdown",
   "metadata": {
    "deletable": false,
    "nbgrader": {
     "checksum": "59f84738f3ea3caa056c42a11791872f",
     "grade": true,
     "grade_id": "cell-ff24ff1577051232",
     "locked": false,
     "points": 2,
     "schema_version": 1,
     "solution": true
    }
   },
   "source": [
    "YOUR ANSWER HERE"
   ]
  },
  {
   "cell_type": "markdown",
   "metadata": {
    "deletable": false,
    "editable": false,
    "nbgrader": {
     "checksum": "041e6b35c0497a1d7185c683a835662b",
     "grade": false,
     "grade_id": "cell-49f2dba757cff2b3",
     "locked": true,
     "schema_version": 1,
     "solution": false
    }
   },
   "source": [
    " # What is a linked list?"
   ]
  },
  {
   "cell_type": "markdown",
   "metadata": {
    "deletable": false,
    "nbgrader": {
     "checksum": "ea534a706db9830c071ce0ce0484428c",
     "grade": true,
     "grade_id": "cell-13cfae2be24f2afc",
     "locked": false,
     "points": 2,
     "schema_version": 1,
     "solution": true
    }
   },
   "source": [
    "YOUR ANSWER HERE"
   ]
  },
  {
   "cell_type": "markdown",
   "metadata": {
    "deletable": false,
    "editable": false,
    "nbgrader": {
     "checksum": "97c8b6c81c6d48011ac0d17140a876fe",
     "grade": false,
     "grade_id": "cell-7811451d04445aff",
     "locked": true,
     "schema_version": 1,
     "solution": false
    }
   },
   "source": [
    " # What is the main advantage of linked lists over arrays?"
   ]
  },
  {
   "cell_type": "markdown",
   "metadata": {
    "deletable": false,
    "nbgrader": {
     "checksum": "7becc4d76a92c16104f54e7b7c5ca382",
     "grade": true,
     "grade_id": "cell-22fdbdbd64472147",
     "locked": false,
     "points": 2,
     "schema_version": 1,
     "solution": true
    }
   },
   "source": [
    "YOUR ANSWER HERE"
   ]
  },
  {
   "cell_type": "markdown",
   "metadata": {
    "deletable": false,
    "editable": false,
    "nbgrader": {
     "checksum": "e3e5790aa41053b7d9707568a820420c",
     "grade": false,
     "grade_id": "cell-ab26fe3bf26679fe",
     "locked": true,
     "schema_version": 1,
     "solution": false
    }
   },
   "source": [
    " # What is the main advantage of arrays over linked lists?"
   ]
  },
  {
   "cell_type": "markdown",
   "metadata": {
    "deletable": false,
    "nbgrader": {
     "checksum": "fe6c7e41148efc8a80507d3bb4d05566",
     "grade": true,
     "grade_id": "cell-1f988117a1cd080a",
     "locked": false,
     "points": 2,
     "schema_version": 1,
     "solution": true
    }
   },
   "source": [
    "YOUR ANSWER HERE"
   ]
  },
  {
   "cell_type": "markdown",
   "metadata": {
    "deletable": false,
    "editable": false,
    "nbgrader": {
     "checksum": "21d5e6cbfa35c2f6c67e758595c8592a",
     "grade": false,
     "grade_id": "cell-b72f67529bd61de5",
     "locked": true,
     "schema_version": 1,
     "solution": false
    }
   },
   "source": [
    " # How are linked lists passed as arguments to a function?"
   ]
  },
  {
   "cell_type": "markdown",
   "metadata": {
    "deletable": false,
    "nbgrader": {
     "checksum": "d9ae5346a200cce46750b6aa63c982ee",
     "grade": true,
     "grade_id": "cell-8e71ce42b72e23c8",
     "locked": false,
     "points": 2,
     "schema_version": 1,
     "solution": true
    }
   },
   "source": [
    "YOUR ANSWER HERE"
   ]
  },
  {
   "cell_type": "markdown",
   "metadata": {
    "deletable": false,
    "editable": false,
    "nbgrader": {
     "checksum": "2555be07fcbbd978ddb75ddd225cdabf",
     "grade": false,
     "grade_id": "cell-19ce8f873643d394",
     "locked": true,
     "schema_version": 1,
     "solution": false
    }
   },
   "source": [
    " # What is the difference between a circular linked list and a basic linked list?"
   ]
  },
  {
   "cell_type": "markdown",
   "metadata": {
    "deletable": false,
    "nbgrader": {
     "checksum": "c910054c6959aef9b5aff6d20eb695a8",
     "grade": true,
     "grade_id": "cell-1f310d24ac700c1b",
     "locked": false,
     "points": 2,
     "schema_version": 1,
     "solution": true
    }
   },
   "source": [
    "YOUR ANSWER HERE"
   ]
  },
  {
   "cell_type": "markdown",
   "metadata": {
    "deletable": false,
    "editable": false,
    "nbgrader": {
     "checksum": "9002a1dc57033ca2d6e47fde529ea568",
     "grade": false,
     "grade_id": "cell-a5e360ce114b45c9",
     "locked": true,
     "schema_version": 1,
     "solution": false
    }
   },
   "source": [
    " # What is the main advantage of a doubly-linked list over a basic linked list?"
   ]
  },
  {
   "cell_type": "markdown",
   "metadata": {
    "deletable": false,
    "nbgrader": {
     "checksum": "82840883dd7da746de9d332364e18266",
     "grade": true,
     "grade_id": "cell-0f83f9eccc7c0616",
     "locked": false,
     "points": 2,
     "schema_version": 1,
     "solution": true
    }
   },
   "source": [
    "YOUR ANSWER HERE"
   ]
  },
  {
   "cell_type": "markdown",
   "metadata": {
    "deletable": false,
    "editable": false,
    "nbgrader": {
     "checksum": "69adc5549bf79dff53387f79aa91e883",
     "grade": false,
     "grade_id": "cell-ae164ac9dde6772a",
     "locked": true,
     "schema_version": 1,
     "solution": false
    }
   },
   "source": [
    " # What is the main disadvantage of a doubly-linked list over a basic linked list?"
   ]
  },
  {
   "cell_type": "markdown",
   "metadata": {
    "deletable": false,
    "nbgrader": {
     "checksum": "5ce9527900473afae5962c8d2a8dd519",
     "grade": true,
     "grade_id": "cell-03f23b5d69750b8c",
     "locked": false,
     "points": 2,
     "schema_version": 1,
     "solution": true
    }
   },
   "source": [
    "YOUR ANSWER HERE"
   ]
  },
  {
   "cell_type": "markdown",
   "metadata": {
    "deletable": false,
    "editable": false,
    "nbgrader": {
     "checksum": "10163972492c47005cac9e16568198e3",
     "grade": false,
     "grade_id": "cell-e99977fe1a11d38e",
     "locked": true,
     "schema_version": 1,
     "solution": false
    }
   },
   "source": [
    " # What is a stack?"
   ]
  },
  {
   "cell_type": "markdown",
   "metadata": {
    "deletable": false,
    "nbgrader": {
     "checksum": "4e62b5483044b67f144673c1770b20e5",
     "grade": true,
     "grade_id": "cell-b0b56a9cbcb0eafa",
     "locked": false,
     "points": 2,
     "schema_version": 1,
     "solution": true
    }
   },
   "source": [
    "YOUR ANSWER HERE"
   ]
  },
  {
   "cell_type": "markdown",
   "metadata": {
    "deletable": false,
    "editable": false,
    "nbgrader": {
     "checksum": "1b5c01331cd4b5b164647d6b4bf0bd4d",
     "grade": false,
     "grade_id": "cell-1270fdd4735c7598",
     "locked": true,
     "schema_version": 1,
     "solution": false
    }
   },
   "source": [
    " # What are the two main functions defined by a stack?"
   ]
  },
  {
   "cell_type": "markdown",
   "metadata": {
    "deletable": false,
    "nbgrader": {
     "checksum": "cb15b06e642dc0a1d0e818d403c6b127",
     "grade": true,
     "grade_id": "cell-cbc9f845412ba479",
     "locked": false,
     "points": 2,
     "schema_version": 1,
     "solution": true
    }
   },
   "source": [
    "YOUR ANSWER HERE"
   ]
  },
  {
   "cell_type": "markdown",
   "metadata": {
    "deletable": false,
    "editable": false,
    "nbgrader": {
     "checksum": "beed2334efccac533cbdaaf4e6ce1a34",
     "grade": false,
     "grade_id": "cell-0a322bb496c18df0",
     "locked": true,
     "schema_version": 1,
     "solution": false
    }
   },
   "source": [
    " # How can you implement a stack with an array?"
   ]
  },
  {
   "cell_type": "markdown",
   "metadata": {
    "deletable": false,
    "nbgrader": {
     "checksum": "1662ff647acd305efde33240d5cfc9c1",
     "grade": true,
     "grade_id": "cell-e2bc5c45a190b12a",
     "locked": false,
     "points": 2,
     "schema_version": 1,
     "solution": true
    }
   },
   "source": [
    "YOUR ANSWER HERE"
   ]
  },
  {
   "cell_type": "markdown",
   "metadata": {
    "deletable": false,
    "editable": false,
    "nbgrader": {
     "checksum": "f53ee88f710d5ee567b27fbb1d4e10ae",
     "grade": false,
     "grade_id": "cell-e8cd1145960a1033",
     "locked": true,
     "schema_version": 1,
     "solution": false
    }
   },
   "source": [
    " # How can you implement a stack with a list?"
   ]
  },
  {
   "cell_type": "markdown",
   "metadata": {
    "deletable": false,
    "nbgrader": {
     "checksum": "852a68e912cb1e765369d4de5c8c1d61",
     "grade": true,
     "grade_id": "cell-2e2570d3997aece1",
     "locked": false,
     "points": 2,
     "schema_version": 1,
     "solution": true
    }
   },
   "source": [
    "YOUR ANSWER HERE"
   ]
  },
  {
   "cell_type": "markdown",
   "metadata": {
    "deletable": false,
    "editable": false,
    "nbgrader": {
     "checksum": "32949ab7ee4426c95cf3fbab1abd182a",
     "grade": false,
     "grade_id": "cell-125b78964d032720",
     "locked": true,
     "schema_version": 1,
     "solution": false
    }
   },
   "source": [
    " # Which implementation (array-based vs. list-based) is preferred, and why?"
   ]
  },
  {
   "cell_type": "markdown",
   "metadata": {
    "deletable": false,
    "nbgrader": {
     "checksum": "92c845c56610f616cc334ac5482634bd",
     "grade": true,
     "grade_id": "cell-37c1b596f7a36f33",
     "locked": false,
     "points": 2,
     "schema_version": 1,
     "solution": true
    }
   },
   "source": [
    "YOUR ANSWER HERE"
   ]
  },
  {
   "cell_type": "markdown",
   "metadata": {
    "deletable": false,
    "editable": false,
    "nbgrader": {
     "checksum": "a8e27dc0ba45819fdf8aa59906427313",
     "grade": false,
     "grade_id": "cell-98a8df08dc0234a5",
     "locked": true,
     "schema_version": 1,
     "solution": false
    }
   },
   "source": [
    " # How are infix expressions evaluated by computers?"
   ]
  },
  {
   "cell_type": "markdown",
   "metadata": {
    "deletable": false,
    "nbgrader": {
     "checksum": "b7968f9c4d0b4ca2dc0ab4d8c84535e4",
     "grade": true,
     "grade_id": "cell-b55ddb6e793cf095",
     "locked": false,
     "points": 2,
     "schema_version": 1,
     "solution": true
    }
   },
   "source": [
    "YOUR ANSWER HERE"
   ]
  },
  {
   "cell_type": "markdown",
   "metadata": {
    "deletable": false,
    "editable": false,
    "nbgrader": {
     "checksum": "1bbc8b7b779c0ac028b895ea8a3b935a",
     "grade": false,
     "grade_id": "cell-afcc2088557a7d17",
     "locked": true,
     "schema_version": 1,
     "solution": false
    }
   },
   "source": [
    " # What operations would you need to perform to find a given element on a stack?"
   ]
  },
  {
   "cell_type": "markdown",
   "metadata": {
    "deletable": false,
    "nbgrader": {
     "checksum": "e4addb047955598f8053a47a796dda52",
     "grade": true,
     "grade_id": "cell-053bf70e4c3d8628",
     "locked": false,
     "points": 2,
     "schema_version": 1,
     "solution": true
    }
   },
   "source": [
    "YOUR ANSWER HERE"
   ]
  },
  {
   "cell_type": "markdown",
   "metadata": {
    "deletable": false,
    "editable": false,
    "nbgrader": {
     "checksum": "9d6bc1b16ab91cbdfa305bbdafef30c8",
     "grade": false,
     "grade_id": "cell-b8a92e42a2a74eb1",
     "locked": true,
     "schema_version": 1,
     "solution": false
    }
   },
   "source": [
    " # What is a queue?"
   ]
  },
  {
   "cell_type": "markdown",
   "metadata": {
    "deletable": false,
    "nbgrader": {
     "checksum": "9bedfdc6e40b2b7f364d1db5084c15f4",
     "grade": true,
     "grade_id": "cell-9c1d576d7d2b97b8",
     "locked": false,
     "points": 2,
     "schema_version": 1,
     "solution": true
    }
   },
   "source": [
    "YOUR ANSWER HERE"
   ]
  },
  {
   "cell_type": "markdown",
   "metadata": {
    "deletable": false,
    "editable": false,
    "nbgrader": {
     "checksum": "6cbd75c3c6cd855edaae15e6a091c71b",
     "grade": false,
     "grade_id": "cell-d5fda8b63c40b32c",
     "locked": true,
     "schema_version": 1,
     "solution": false
    }
   },
   "source": [
    " # What are the two main functions defined by a queue?"
   ]
  },
  {
   "cell_type": "markdown",
   "metadata": {
    "deletable": false,
    "nbgrader": {
     "checksum": "1423ab1bfbd35dd8331a1133416bf474",
     "grade": true,
     "grade_id": "cell-88d4e1f502d6a98c",
     "locked": false,
     "points": 2,
     "schema_version": 1,
     "solution": true
    }
   },
   "source": [
    "YOUR ANSWER HERE"
   ]
  },
  {
   "cell_type": "markdown",
   "metadata": {
    "deletable": false,
    "editable": false,
    "nbgrader": {
     "checksum": "b80f4ec2d83f4e18d98159f36210bce8",
     "grade": false,
     "grade_id": "cell-40f3c6f541334380",
     "locked": true,
     "schema_version": 1,
     "solution": false
    }
   },
   "source": [
    " # How can you implement a queue with an array?"
   ]
  },
  {
   "cell_type": "markdown",
   "metadata": {
    "deletable": false,
    "nbgrader": {
     "checksum": "2218560fdca8e5d1b13be5a831b7d112",
     "grade": true,
     "grade_id": "cell-f09687b447fbc284",
     "locked": false,
     "points": 2,
     "schema_version": 1,
     "solution": true
    }
   },
   "source": [
    "YOUR ANSWER HERE"
   ]
  },
  {
   "cell_type": "markdown",
   "metadata": {
    "deletable": false,
    "editable": false,
    "nbgrader": {
     "checksum": "b173036d1d4699a42bf21e98fd3a720a",
     "grade": false,
     "grade_id": "cell-226bec348c4e584a",
     "locked": true,
     "schema_version": 1,
     "solution": false
    }
   },
   "source": [
    " # How can you implement a queue with a list?"
   ]
  },
  {
   "cell_type": "markdown",
   "metadata": {
    "deletable": false,
    "nbgrader": {
     "checksum": "31b9e073ebcd185f064717c26d2ff9ed",
     "grade": true,
     "grade_id": "cell-7cada3e756a5e66f",
     "locked": false,
     "points": 2,
     "schema_version": 1,
     "solution": true
    }
   },
   "source": [
    "YOUR ANSWER HERE"
   ]
  },
  {
   "cell_type": "markdown",
   "metadata": {
    "deletable": false,
    "editable": false,
    "nbgrader": {
     "checksum": "3f7efe280776e9a03342f072dfc6f55a",
     "grade": false,
     "grade_id": "cell-0fccafaa74237177",
     "locked": true,
     "schema_version": 1,
     "solution": false
    }
   },
   "source": [
    " # Which implementation (array-based vs. list-based) is preferred for a queue, and why?"
   ]
  },
  {
   "cell_type": "markdown",
   "metadata": {
    "deletable": false,
    "nbgrader": {
     "checksum": "e2500aad3171b2895c5af1b5980cc5fb",
     "grade": true,
     "grade_id": "cell-53f194a4a617f5c6",
     "locked": false,
     "points": 2,
     "schema_version": 1,
     "solution": true
    }
   },
   "source": [
    "YOUR ANSWER HERE"
   ]
  },
  {
   "cell_type": "markdown",
   "metadata": {
    "deletable": false,
    "editable": false,
    "nbgrader": {
     "checksum": "4984da6297431a4760c51145a8fc3457",
     "grade": false,
     "grade_id": "cell-a9f605f7323b70de",
     "locked": true,
     "schema_version": 1,
     "solution": false
    }
   },
   "source": [
    " # What is the stack operation corresponding to the enqueue operation in queues?"
   ]
  },
  {
   "cell_type": "markdown",
   "metadata": {
    "deletable": false,
    "nbgrader": {
     "checksum": "16a0d230fc631faa90a6af8bd69fae95",
     "grade": true,
     "grade_id": "cell-f7050124fc9880db",
     "locked": false,
     "points": 2,
     "schema_version": 1,
     "solution": true
    }
   },
   "source": [
    "YOUR ANSWER HERE"
   ]
  },
  {
   "cell_type": "markdown",
   "metadata": {
    "deletable": false,
    "editable": false,
    "nbgrader": {
     "checksum": "cbb542f4ebb212f68ad11f066d292389",
     "grade": false,
     "grade_id": "cell-ed98f0357c4099f2",
     "locked": true,
     "schema_version": 1,
     "solution": false
    }
   },
   "source": [
    " # What data structure is more appropriate for scheduling printing jobs at a printer, a stack or a queue?"
   ]
  },
  {
   "cell_type": "markdown",
   "metadata": {
    "deletable": false,
    "nbgrader": {
     "checksum": "48a0cadf85398d03cbb9ad3905313f98",
     "grade": true,
     "grade_id": "cell-4bac3ba41ac313ee",
     "locked": false,
     "points": 2,
     "schema_version": 1,
     "solution": true
    }
   },
   "source": [
    "YOUR ANSWER HERE"
   ]
  }
 ],
 "metadata": {},
 "nbformat": 4,
 "nbformat_minor": 0
}
