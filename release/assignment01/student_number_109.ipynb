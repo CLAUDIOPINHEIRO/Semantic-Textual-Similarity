{
 "cells": [
  {
   "cell_type": "markdown",
   "metadata": {
    "deletable": false,
    "editable": false,
    "nbgrader": {
     "checksum": "31a619f31dad57ea9901f1d765a31b25",
     "grade": false,
     "grade_id": "cell-0392290dba091f8e",
     "locked": true,
     "schema_version": 1,
     "solution": false
    }
   },
   "source": [
    "Student ID: 109"
   ]
  },
  {
   "cell_type": "markdown",
   "metadata": {
    "deletable": false,
    "editable": false,
    "nbgrader": {
     "checksum": "47ffa0041e051b5ea83acac8aed98ab8",
     "grade": false,
     "grade_id": "cell-f184e28ed3c45c21",
     "locked": true,
     "schema_version": 1,
     "solution": false
    }
   },
   "source": [
    " # What is the role of a prototype program in problem solving?"
   ]
  },
  {
   "cell_type": "markdown",
   "metadata": {
    "deletable": false,
    "nbgrader": {
     "checksum": "4528f46ee86be96346be41399299c0be",
     "grade": true,
     "grade_id": "cell-9aa0d71fd6a1214e",
     "locked": false,
     "points": 2,
     "schema_version": 1,
     "solution": true
    }
   },
   "source": [
    "YOUR ANSWER HERE"
   ]
  },
  {
   "cell_type": "markdown",
   "metadata": {
    "deletable": false,
    "editable": false,
    "nbgrader": {
     "checksum": "0da61eda08c7791a4574895b087d02fe",
     "grade": false,
     "grade_id": "cell-a62cd3edcb839f43",
     "locked": true,
     "schema_version": 1,
     "solution": false
    }
   },
   "source": [
    " # What stages in the software life cycle are influenced by the testing stage?"
   ]
  },
  {
   "cell_type": "markdown",
   "metadata": {
    "deletable": false,
    "nbgrader": {
     "checksum": "84229d1aa79300a63aa14c3e824e4056",
     "grade": true,
     "grade_id": "cell-f88551b1f13ba4de",
     "locked": false,
     "points": 2,
     "schema_version": 1,
     "solution": true
    }
   },
   "source": [
    "YOUR ANSWER HERE"
   ]
  },
  {
   "cell_type": "markdown",
   "metadata": {
    "deletable": false,
    "editable": false,
    "nbgrader": {
     "checksum": "041196228f99f9147cf8c709bd088f91",
     "grade": false,
     "grade_id": "cell-4a14bf39da8e7ad3",
     "locked": true,
     "schema_version": 1,
     "solution": false
    }
   },
   "source": [
    " # What are the main advantages associated with object-oriented programming?"
   ]
  },
  {
   "cell_type": "markdown",
   "metadata": {
    "deletable": false,
    "nbgrader": {
     "checksum": "0f26004257d8ce3f1d48c54e4e21724f",
     "grade": true,
     "grade_id": "cell-9e1888894f50948f",
     "locked": false,
     "points": 2,
     "schema_version": 1,
     "solution": true
    }
   },
   "source": [
    "YOUR ANSWER HERE"
   ]
  },
  {
   "cell_type": "markdown",
   "metadata": {
    "deletable": false,
    "editable": false,
    "nbgrader": {
     "checksum": "303d0955ff9cd43e08c412ce3272ef23",
     "grade": false,
     "grade_id": "cell-7c7f8f4ec4ad0c60",
     "locked": true,
     "schema_version": 1,
     "solution": false
    }
   },
   "source": [
    " # Where do C++ programs begin to execute?"
   ]
  },
  {
   "cell_type": "markdown",
   "metadata": {
    "deletable": false,
    "nbgrader": {
     "checksum": "2522f25128e8fa1069bb4f756fc564b2",
     "grade": true,
     "grade_id": "cell-8b10420cd2277461",
     "locked": false,
     "points": 2,
     "schema_version": 1,
     "solution": true
    }
   },
   "source": [
    "YOUR ANSWER HERE"
   ]
  },
  {
   "cell_type": "markdown",
   "metadata": {
    "deletable": false,
    "editable": false,
    "nbgrader": {
     "checksum": "c60fe902d704e13b9f8afad07130e18d",
     "grade": false,
     "grade_id": "cell-93de829cfd765a80",
     "locked": true,
     "schema_version": 1,
     "solution": false
    }
   },
   "source": [
    " # What is a variable?"
   ]
  },
  {
   "cell_type": "markdown",
   "metadata": {
    "deletable": false,
    "nbgrader": {
     "checksum": "20d0ed62b77ddd68c18a73e130f6f9db",
     "grade": true,
     "grade_id": "cell-b56bde9a33be8d2e",
     "locked": false,
     "points": 2,
     "schema_version": 1,
     "solution": true
    }
   },
   "source": [
    "YOUR ANSWER HERE"
   ]
  },
  {
   "cell_type": "markdown",
   "metadata": {
    "deletable": false,
    "editable": false,
    "nbgrader": {
     "checksum": "ca8e0c69a79cff204cbb58e608d3dac7",
     "grade": false,
     "grade_id": "cell-7de86c8bfaecdf57",
     "locked": true,
     "schema_version": 1,
     "solution": false
    }
   },
   "source": [
    " # Where are variables declared in a C++ program?"
   ]
  },
  {
   "cell_type": "markdown",
   "metadata": {
    "deletable": false,
    "nbgrader": {
     "checksum": "82d43a8a1442fb89c6917210b022f671",
     "grade": true,
     "grade_id": "cell-0d1d3ffd0c8ec047",
     "locked": false,
     "points": 2,
     "schema_version": 1,
     "solution": true
    }
   },
   "source": [
    "YOUR ANSWER HERE"
   ]
  },
  {
   "cell_type": "markdown",
   "metadata": {
    "deletable": false,
    "editable": false,
    "nbgrader": {
     "checksum": "34bd7ee467a7fe10e21b194e3f2b04e1",
     "grade": false,
     "grade_id": "cell-77a8f2b353eb4cbc",
     "locked": true,
     "schema_version": 1,
     "solution": false
    }
   },
   "source": [
    " # What is the main difference between a while and a do...while statement?"
   ]
  },
  {
   "cell_type": "markdown",
   "metadata": {
    "deletable": false,
    "nbgrader": {
     "checksum": "e49b3137655f53077836e1db3dd6f680",
     "grade": true,
     "grade_id": "cell-d48e8965920d3d49",
     "locked": false,
     "points": 2,
     "schema_version": 1,
     "solution": true
    }
   },
   "source": [
    "YOUR ANSWER HERE"
   ]
  },
  {
   "cell_type": "markdown",
   "metadata": {
    "deletable": false,
    "editable": false,
    "nbgrader": {
     "checksum": "8c3ee6852e6a77cc68860b7235d26d84",
     "grade": false,
     "grade_id": "cell-93f1e5ea21611af8",
     "locked": true,
     "schema_version": 1,
     "solution": false
    }
   },
   "source": [
    " # What is typically included in a class definition?"
   ]
  },
  {
   "cell_type": "markdown",
   "metadata": {
    "deletable": false,
    "nbgrader": {
     "checksum": "23897a6cbc6de32b9639a178d257cfbf",
     "grade": true,
     "grade_id": "cell-cb9f94462d77f2c7",
     "locked": false,
     "points": 2,
     "schema_version": 1,
     "solution": true
    }
   },
   "source": [
    "YOUR ANSWER HERE"
   ]
  },
  {
   "cell_type": "markdown",
   "metadata": {
    "deletable": false,
    "editable": false,
    "nbgrader": {
     "checksum": "5dfffba8fbe1307e627296710b6fd315",
     "grade": false,
     "grade_id": "cell-99bff3559db72eac",
     "locked": true,
     "schema_version": 1,
     "solution": false
    }
   },
   "source": [
    " # What is the difference between a data member and a local variable inside a member function?"
   ]
  },
  {
   "cell_type": "markdown",
   "metadata": {
    "deletable": false,
    "nbgrader": {
     "checksum": "7f68f9ad311488e5d7c0b567c8adea42",
     "grade": true,
     "grade_id": "cell-559bf7b5b7ebf23b",
     "locked": false,
     "points": 2,
     "schema_version": 1,
     "solution": true
    }
   },
   "source": [
    "YOUR ANSWER HERE"
   ]
  },
  {
   "cell_type": "markdown",
   "metadata": {
    "deletable": false,
    "editable": false,
    "nbgrader": {
     "checksum": "b43dce6cba8dad062ea18089bbde6e57",
     "grade": false,
     "grade_id": "cell-ff13cc89815989e1",
     "locked": true,
     "schema_version": 1,
     "solution": false
    }
   },
   "source": [
    " # What is the difference between a constructor and a function?"
   ]
  },
  {
   "cell_type": "markdown",
   "metadata": {
    "deletable": false,
    "nbgrader": {
     "checksum": "a5b570a03f48d7b404a24637a48f0b29",
     "grade": true,
     "grade_id": "cell-1a234deeef330bdd",
     "locked": false,
     "points": 2,
     "schema_version": 1,
     "solution": true
    }
   },
   "source": [
    "YOUR ANSWER HERE"
   ]
  },
  {
   "cell_type": "markdown",
   "metadata": {
    "deletable": false,
    "editable": false,
    "nbgrader": {
     "checksum": "8a183217901f227ae1e351283713b4fd",
     "grade": false,
     "grade_id": "cell-34c34b09511858dd",
     "locked": true,
     "schema_version": 1,
     "solution": false
    }
   },
   "source": [
    " # When does C++ create a default constructor?"
   ]
  },
  {
   "cell_type": "markdown",
   "metadata": {
    "deletable": false,
    "nbgrader": {
     "checksum": "bfe48569cccbecf2b73d7c4fe9a58f40",
     "grade": true,
     "grade_id": "cell-abfb023f17f24402",
     "locked": false,
     "points": 2,
     "schema_version": 1,
     "solution": true
    }
   },
   "source": [
    "YOUR ANSWER HERE"
   ]
  },
  {
   "cell_type": "markdown",
   "metadata": {
    "deletable": false,
    "editable": false,
    "nbgrader": {
     "checksum": "91aafce2f8da1bc146255e445eb285ef",
     "grade": false,
     "grade_id": "cell-46d6d2484b7b3be5",
     "locked": true,
     "schema_version": 1,
     "solution": false
    }
   },
   "source": [
    " # How many constructors can be created for a class?"
   ]
  },
  {
   "cell_type": "markdown",
   "metadata": {
    "deletable": false,
    "nbgrader": {
     "checksum": "fa0b2bdb79a59fb8f9d0eb54d93f1bcb",
     "grade": true,
     "grade_id": "cell-1129eebb48244079",
     "locked": false,
     "points": 2,
     "schema_version": 1,
     "solution": true
    }
   },
   "source": [
    "YOUR ANSWER HERE"
   ]
  },
  {
   "cell_type": "markdown",
   "metadata": {
    "deletable": false,
    "editable": false,
    "nbgrader": {
     "checksum": "cac23e09e40f103d0f033100699b2b59",
     "grade": false,
     "grade_id": "cell-93bcc08b197ba9e2",
     "locked": true,
     "schema_version": 1,
     "solution": false
    }
   },
   "source": [
    " # What is the difference between a function prototype and a function definition?"
   ]
  },
  {
   "cell_type": "markdown",
   "metadata": {
    "deletable": false,
    "nbgrader": {
     "checksum": "9388fde8e58407d010939e56144e91db",
     "grade": true,
     "grade_id": "cell-f0cd5cde19d1088e",
     "locked": false,
     "points": 2,
     "schema_version": 1,
     "solution": true
    }
   },
   "source": [
    "YOUR ANSWER HERE"
   ]
  },
  {
   "cell_type": "markdown",
   "metadata": {
    "deletable": false,
    "editable": false,
    "nbgrader": {
     "checksum": "126cbaf884fe602a7d0a22f6bf82b918",
     "grade": false,
     "grade_id": "cell-d0b3e480eccb0a97",
     "locked": true,
     "schema_version": 1,
     "solution": false
    }
   },
   "source": [
    " # What is the role of a header-file?"
   ]
  },
  {
   "cell_type": "markdown",
   "metadata": {
    "deletable": false,
    "nbgrader": {
     "checksum": "78a12c6be4678393d132ba00aa7e7692",
     "grade": true,
     "grade_id": "cell-d7b65a2d145d8457",
     "locked": false,
     "points": 2,
     "schema_version": 1,
     "solution": true
    }
   },
   "source": [
    "YOUR ANSWER HERE"
   ]
  },
  {
   "cell_type": "markdown",
   "metadata": {
    "deletable": false,
    "editable": false,
    "nbgrader": {
     "checksum": "7bc4202135275ca40b6bd98bddc7b102",
     "grade": false,
     "grade_id": "cell-ee26a14bc6a0797a",
     "locked": true,
     "schema_version": 1,
     "solution": false
    }
   },
   "source": [
    " # What does a function signature include?"
   ]
  },
  {
   "cell_type": "markdown",
   "metadata": {
    "deletable": false,
    "nbgrader": {
     "checksum": "587a23601e73936cb13a4743ffb0f106",
     "grade": true,
     "grade_id": "cell-ec8c5ba6e36ddb4b",
     "locked": false,
     "points": 2,
     "schema_version": 1,
     "solution": true
    }
   },
   "source": [
    "YOUR ANSWER HERE"
   ]
  },
  {
   "cell_type": "markdown",
   "metadata": {
    "deletable": false,
    "editable": false,
    "nbgrader": {
     "checksum": "34ff5b2a4b2a0d44028bc772fd78f97b",
     "grade": false,
     "grade_id": "cell-9b01707c58d63c01",
     "locked": true,
     "schema_version": 1,
     "solution": false
    }
   },
   "source": [
    " # What is the scope of global variables?"
   ]
  },
  {
   "cell_type": "markdown",
   "metadata": {
    "deletable": false,
    "nbgrader": {
     "checksum": "8ee33fca263e0c6a68b56e94410f522e",
     "grade": true,
     "grade_id": "cell-b8ff1138167ec8dc",
     "locked": false,
     "points": 2,
     "schema_version": 1,
     "solution": true
    }
   },
   "source": [
    "YOUR ANSWER HERE"
   ]
  },
  {
   "cell_type": "markdown",
   "metadata": {
    "deletable": false,
    "editable": false,
    "nbgrader": {
     "checksum": "6f7871636dd322ef1ed09b745aafb693",
     "grade": false,
     "grade_id": "cell-0f98c9b93a946e79",
     "locked": true,
     "schema_version": 1,
     "solution": false
    }
   },
   "source": [
    " # How does the compiler handle inline functions?"
   ]
  },
  {
   "cell_type": "markdown",
   "metadata": {
    "deletable": false,
    "nbgrader": {
     "checksum": "67c68db1d09db8b6dc63ba5c7af7b3c5",
     "grade": true,
     "grade_id": "cell-03b524a4214a5fa9",
     "locked": false,
     "points": 2,
     "schema_version": 1,
     "solution": true
    }
   },
   "source": [
    "YOUR ANSWER HERE"
   ]
  },
  {
   "cell_type": "markdown",
   "metadata": {
    "deletable": false,
    "editable": false,
    "nbgrader": {
     "checksum": "8dfb1da6ab3173ba5163e4b4fdd8249a",
     "grade": false,
     "grade_id": "cell-e0b0a952fe4fa572",
     "locked": true,
     "schema_version": 1,
     "solution": false
    }
   },
   "source": [
    " # What is the main advantage associated with function arguments that are passed by reference?"
   ]
  },
  {
   "cell_type": "markdown",
   "metadata": {
    "deletable": false,
    "nbgrader": {
     "checksum": "de9aae74ba95d59981a2b9aafff6bb03",
     "grade": true,
     "grade_id": "cell-ce76d0486e3be10e",
     "locked": false,
     "points": 2,
     "schema_version": 1,
     "solution": true
    }
   },
   "source": [
    "YOUR ANSWER HERE"
   ]
  },
  {
   "cell_type": "markdown",
   "metadata": {
    "deletable": false,
    "editable": false,
    "nbgrader": {
     "checksum": "ab8fb8a29bedfe9fa6de17f1ae5e0f0b",
     "grade": false,
     "grade_id": "cell-1b3a9b6589b39ac5",
     "locked": true,
     "schema_version": 1,
     "solution": false
    }
   },
   "source": [
    " # How are overloaded functions differentiated by the compiler?"
   ]
  },
  {
   "cell_type": "markdown",
   "metadata": {
    "deletable": false,
    "nbgrader": {
     "checksum": "302253796937d114acc15834acf8bf4a",
     "grade": true,
     "grade_id": "cell-dea9013d0a20fdf4",
     "locked": false,
     "points": 2,
     "schema_version": 1,
     "solution": true
    }
   },
   "source": [
    "YOUR ANSWER HERE"
   ]
  },
  {
   "cell_type": "markdown",
   "metadata": {
    "deletable": false,
    "editable": false,
    "nbgrader": {
     "checksum": "023a0c552322ca51fe92eb4f226efa81",
     "grade": false,
     "grade_id": "cell-4f93314ca5784cfd",
     "locked": true,
     "schema_version": 1,
     "solution": false
    }
   },
   "source": [
    " # When defining a recursive function, what are possible causes for infinite recursion?"
   ]
  },
  {
   "cell_type": "markdown",
   "metadata": {
    "deletable": false,
    "nbgrader": {
     "checksum": "d25a75a06c70747922d1d57906042de1",
     "grade": true,
     "grade_id": "cell-dbd68d82fa29aacc",
     "locked": false,
     "points": 2,
     "schema_version": 1,
     "solution": true
    }
   },
   "source": [
    "YOUR ANSWER HERE"
   ]
  },
  {
   "cell_type": "markdown",
   "metadata": {
    "deletable": false,
    "editable": false,
    "nbgrader": {
     "checksum": "e298cd10036cc0be8ecfd120d0b1beaf",
     "grade": false,
     "grade_id": "cell-f5725ef52701c68e",
     "locked": true,
     "schema_version": 1,
     "solution": false
    }
   },
   "source": [
    " # What are the similarities between iteration and recursion?"
   ]
  },
  {
   "cell_type": "markdown",
   "metadata": {
    "deletable": false,
    "nbgrader": {
     "checksum": "90b540fe617684eea6425a9116a75e7c",
     "grade": true,
     "grade_id": "cell-230692264fc227f9",
     "locked": false,
     "points": 2,
     "schema_version": 1,
     "solution": true
    }
   },
   "source": [
    "YOUR ANSWER HERE"
   ]
  },
  {
   "cell_type": "markdown",
   "metadata": {
    "deletable": false,
    "editable": false,
    "nbgrader": {
     "checksum": "3491b4671599cf03c2d462dbaf0a7030",
     "grade": false,
     "grade_id": "cell-1fdbfe9a4d0f38bb",
     "locked": true,
     "schema_version": 1,
     "solution": false
    }
   },
   "source": [
    " # What are the two different ways of specifying the length of an array?"
   ]
  },
  {
   "cell_type": "markdown",
   "metadata": {
    "deletable": false,
    "nbgrader": {
     "checksum": "a3d1f7553616d54d8c44f308314db64f",
     "grade": true,
     "grade_id": "cell-d7bf747447dc1e0b",
     "locked": false,
     "points": 2,
     "schema_version": 1,
     "solution": true
    }
   },
   "source": [
    "YOUR ANSWER HERE"
   ]
  },
  {
   "cell_type": "markdown",
   "metadata": {
    "deletable": false,
    "editable": false,
    "nbgrader": {
     "checksum": "bf70d1d240050625f6b9369019cbaba3",
     "grade": false,
     "grade_id": "cell-ff4234acc1efa577",
     "locked": true,
     "schema_version": 1,
     "solution": false
    }
   },
   "source": [
    " # What is the main difference between strings declared using the type string versus strings declared using an array of characters?"
   ]
  },
  {
   "cell_type": "markdown",
   "metadata": {
    "deletable": false,
    "nbgrader": {
     "checksum": "cfa00f31f4688a89a7eae9fa2c70cd04",
     "grade": true,
     "grade_id": "cell-16702d46ca723a1f",
     "locked": false,
     "points": 2,
     "schema_version": 1,
     "solution": true
    }
   },
   "source": [
    "YOUR ANSWER HERE"
   ]
  },
  {
   "cell_type": "markdown",
   "metadata": {
    "deletable": false,
    "editable": false,
    "nbgrader": {
     "checksum": "9bd176e4907626b88d24c3abe37b84d6",
     "grade": false,
     "grade_id": "cell-d24fccf77f9f7530",
     "locked": true,
     "schema_version": 1,
     "solution": false
    }
   },
   "source": [
    " # How are arrays passed to functions?"
   ]
  },
  {
   "cell_type": "markdown",
   "metadata": {
    "deletable": false,
    "nbgrader": {
     "checksum": "cb53a503d0c8bc28ae768f70e462e1be",
     "grade": true,
     "grade_id": "cell-1c88bc9c0850dbfd",
     "locked": false,
     "points": 2,
     "schema_version": 1,
     "solution": true
    }
   },
   "source": [
    "YOUR ANSWER HERE"
   ]
  },
  {
   "cell_type": "markdown",
   "metadata": {
    "deletable": false,
    "editable": false,
    "nbgrader": {
     "checksum": "faaef81c689f8dba15a93f6be8130fea",
     "grade": false,
     "grade_id": "cell-1ebfd2341dfa20e5",
     "locked": true,
     "schema_version": 1,
     "solution": false
    }
   },
   "source": [
    " # What is the difference between an array declared as static, and one that is not?"
   ]
  },
  {
   "cell_type": "markdown",
   "metadata": {
    "deletable": false,
    "nbgrader": {
     "checksum": "2634f76edaaee0d3e51fe74624ec7b73",
     "grade": true,
     "grade_id": "cell-c5df309faa2107fc",
     "locked": false,
     "points": 2,
     "schema_version": 1,
     "solution": true
    }
   },
   "source": [
    "YOUR ANSWER HERE"
   ]
  },
  {
   "cell_type": "markdown",
   "metadata": {
    "deletable": false,
    "editable": false,
    "nbgrader": {
     "checksum": "3af9fdac57d312b88da78aefd33213d5",
     "grade": false,
     "grade_id": "cell-ac7f57a86e0f238e",
     "locked": true,
     "schema_version": 1,
     "solution": false
    }
   },
   "source": [
    " # How many dimensions need to be specified when passing a multi-dimensional array as an argument to a function?"
   ]
  },
  {
   "cell_type": "markdown",
   "metadata": {
    "deletable": false,
    "nbgrader": {
     "checksum": "449ed86075e5b86bac7fe8f4cf94dca6",
     "grade": true,
     "grade_id": "cell-05d2efcb87110f01",
     "locked": false,
     "points": 2,
     "schema_version": 1,
     "solution": true
    }
   },
   "source": [
    "YOUR ANSWER HERE"
   ]
  },
  {
   "cell_type": "markdown",
   "metadata": {
    "deletable": false,
    "editable": false,
    "nbgrader": {
     "checksum": "8bb36e44894bad62f38dbc5336be05be",
     "grade": false,
     "grade_id": "cell-c4e817dd2a676bf5",
     "locked": true,
     "schema_version": 1,
     "solution": false
    }
   },
   "source": [
    " # Using an index outside the bounds of the array generates an error. Is this a compilation error or a run-time error?"
   ]
  },
  {
   "cell_type": "markdown",
   "metadata": {
    "deletable": false,
    "nbgrader": {
     "checksum": "4a7645866189888de0d38fbf40c2a4c7",
     "grade": true,
     "grade_id": "cell-22aa3c1c5f53d0af",
     "locked": false,
     "points": 2,
     "schema_version": 1,
     "solution": true
    }
   },
   "source": [
    "YOUR ANSWER HERE"
   ]
  },
  {
   "cell_type": "markdown",
   "metadata": {
    "deletable": false,
    "editable": false,
    "nbgrader": {
     "checksum": "ee0c19048f51bfc50b5f3431dbffb22b",
     "grade": false,
     "grade_id": "cell-25eaccb705799f0d",
     "locked": true,
     "schema_version": 1,
     "solution": false
    }
   },
   "source": [
    " # How are bi-dimensional arrays stored in memory, by rows or by columns?"
   ]
  },
  {
   "cell_type": "markdown",
   "metadata": {
    "deletable": false,
    "nbgrader": {
     "checksum": "25e8a3f9236fea49d303c4d50e4357c5",
     "grade": true,
     "grade_id": "cell-d0864017d2d9e385",
     "locked": false,
     "points": 2,
     "schema_version": 1,
     "solution": true
    }
   },
   "source": [
    "YOUR ANSWER HERE"
   ]
  },
  {
   "cell_type": "markdown",
   "metadata": {
    "deletable": false,
    "editable": false,
    "nbgrader": {
     "checksum": "1da25949ec6e739b43c1cfbf527d6f24",
     "grade": false,
     "grade_id": "cell-2d6eea931ce03128",
     "locked": true,
     "schema_version": 1,
     "solution": false
    }
   },
   "source": [
    " # In one sentence, what is the main idea implemented by insertion sort?"
   ]
  },
  {
   "cell_type": "markdown",
   "metadata": {
    "deletable": false,
    "nbgrader": {
     "checksum": "39c57ec506d6ffb006b79f5a518b1946",
     "grade": true,
     "grade_id": "cell-bba23eab2dd4a1bf",
     "locked": false,
     "points": 2,
     "schema_version": 1,
     "solution": true
    }
   },
   "source": [
    "YOUR ANSWER HERE"
   ]
  },
  {
   "cell_type": "markdown",
   "metadata": {
    "deletable": false,
    "editable": false,
    "nbgrader": {
     "checksum": "85ed20a3eebea572d3afd86199495cff",
     "grade": false,
     "grade_id": "cell-2f5846e107330e28",
     "locked": true,
     "schema_version": 1,
     "solution": false
    }
   },
   "source": [
    " # In one sentence, what is the main idea implemented by selection sort?"
   ]
  },
  {
   "cell_type": "markdown",
   "metadata": {
    "deletable": false,
    "nbgrader": {
     "checksum": "64f6a9eb7a8b3128d34be8f66f099406",
     "grade": true,
     "grade_id": "cell-e769eae4feff46ab",
     "locked": false,
     "points": 2,
     "schema_version": 1,
     "solution": true
    }
   },
   "source": [
    "YOUR ANSWER HERE"
   ]
  },
  {
   "cell_type": "markdown",
   "metadata": {
    "deletable": false,
    "editable": false,
    "nbgrader": {
     "checksum": "c188693abec299d9efba9b5777934619",
     "grade": false,
     "grade_id": "cell-d5f285e6afed4d5d",
     "locked": true,
     "schema_version": 1,
     "solution": false
    }
   },
   "source": [
    " # What is the number of operations for insertion sort under a best-case scenario, and what is the best-case scenario?"
   ]
  },
  {
   "cell_type": "markdown",
   "metadata": {
    "deletable": false,
    "nbgrader": {
     "checksum": "1ecb4bd2e26a1da9b81af81b47572fc0",
     "grade": true,
     "grade_id": "cell-341b633bc085837b",
     "locked": false,
     "points": 2,
     "schema_version": 1,
     "solution": true
    }
   },
   "source": [
    "YOUR ANSWER HERE"
   ]
  },
  {
   "cell_type": "markdown",
   "metadata": {
    "deletable": false,
    "editable": false,
    "nbgrader": {
     "checksum": "12fffd1eeac9cda13cb2aa123bc79235",
     "grade": false,
     "grade_id": "cell-7b329037e64ced5f",
     "locked": true,
     "schema_version": 1,
     "solution": false
    }
   },
   "source": [
    " # What is the base case for a recursive implementation of merge sort?"
   ]
  },
  {
   "cell_type": "markdown",
   "metadata": {
    "deletable": false,
    "nbgrader": {
     "checksum": "50b11b34099aeba048d4d545b29b6ad3",
     "grade": true,
     "grade_id": "cell-30096220274694d2",
     "locked": false,
     "points": 2,
     "schema_version": 1,
     "solution": true
    }
   },
   "source": [
    "YOUR ANSWER HERE"
   ]
  },
  {
   "cell_type": "markdown",
   "metadata": {
    "deletable": false,
    "editable": false,
    "nbgrader": {
     "checksum": "eae6c1c41eb6ed039cf0d8f5a6261bd7",
     "grade": false,
     "grade_id": "cell-e543409c03c8bbb7",
     "locked": true,
     "schema_version": 1,
     "solution": false
    }
   },
   "source": [
    " # What is a pointer?"
   ]
  },
  {
   "cell_type": "markdown",
   "metadata": {
    "deletable": false,
    "nbgrader": {
     "checksum": "73d4711dfdecc471e982c0e21d160c46",
     "grade": true,
     "grade_id": "cell-1ff8db97a2354490",
     "locked": false,
     "points": 2,
     "schema_version": 1,
     "solution": true
    }
   },
   "source": [
    "YOUR ANSWER HERE"
   ]
  },
  {
   "cell_type": "markdown",
   "metadata": {
    "deletable": false,
    "editable": false,
    "nbgrader": {
     "checksum": "1bfbc11f25c416a90d861091b31fefd0",
     "grade": false,
     "grade_id": "cell-0b1d090ac248dbc9",
     "locked": true,
     "schema_version": 1,
     "solution": false
    }
   },
   "source": [
    " # What does the address (&) operator return?"
   ]
  },
  {
   "cell_type": "markdown",
   "metadata": {
    "deletable": false,
    "nbgrader": {
     "checksum": "78d4e3f5419a1ad5297c114ff0d92dc8",
     "grade": true,
     "grade_id": "cell-f7a0f3cf4ef004dd",
     "locked": false,
     "points": 2,
     "schema_version": 1,
     "solution": true
    }
   },
   "source": [
    "YOUR ANSWER HERE"
   ]
  },
  {
   "cell_type": "markdown",
   "metadata": {
    "deletable": false,
    "editable": false,
    "nbgrader": {
     "checksum": "0dcfe67ba10d641112080975b447edc4",
     "grade": false,
     "grade_id": "cell-91f21ce4cdf197ed",
     "locked": true,
     "schema_version": 1,
     "solution": false
    }
   },
   "source": [
    " # What does the star (*) operator return?"
   ]
  },
  {
   "cell_type": "markdown",
   "metadata": {
    "deletable": false,
    "nbgrader": {
     "checksum": "1c0908a4c3ed727701a1b80e6a682e36",
     "grade": true,
     "grade_id": "cell-6551d5db38c70231",
     "locked": false,
     "points": 2,
     "schema_version": 1,
     "solution": true
    }
   },
   "source": [
    "YOUR ANSWER HERE"
   ]
  },
  {
   "cell_type": "markdown",
   "metadata": {
    "deletable": false,
    "editable": false,
    "nbgrader": {
     "checksum": "681f16e969e7e434f2baa1a8abb2edab",
     "grade": false,
     "grade_id": "cell-ce20fb6e4b4ff17d",
     "locked": true,
     "schema_version": 1,
     "solution": false
    }
   },
   "source": [
    " # How can an array be addressed in pointer/offset notation?"
   ]
  },
  {
   "cell_type": "markdown",
   "metadata": {
    "deletable": false,
    "nbgrader": {
     "checksum": "3212661b15063ecadfb5f9c65bdc067e",
     "grade": true,
     "grade_id": "cell-5d5666b81b4224fc",
     "locked": false,
     "points": 2,
     "schema_version": 1,
     "solution": true
    }
   },
   "source": [
    "YOUR ANSWER HERE"
   ]
  },
  {
   "cell_type": "markdown",
   "metadata": {
    "deletable": false,
    "editable": false,
    "nbgrader": {
     "checksum": "516665dfad00f99c18eb405ecc2a160f",
     "grade": false,
     "grade_id": "cell-c425b30fe57fbb84",
     "locked": true,
     "schema_version": 1,
     "solution": false
    }
   },
   "source": [
    " # What does the sizeof operator return?"
   ]
  },
  {
   "cell_type": "markdown",
   "metadata": {
    "deletable": false,
    "nbgrader": {
     "checksum": "3df5f4638141471cab74c48c1a851800",
     "grade": true,
     "grade_id": "cell-8ed260334fd7810e",
     "locked": false,
     "points": 2,
     "schema_version": 1,
     "solution": true
    }
   },
   "source": [
    "YOUR ANSWER HERE"
   ]
  },
  {
   "cell_type": "markdown",
   "metadata": {
    "deletable": false,
    "editable": false,
    "nbgrader": {
     "checksum": "99fc948f2392d1728e7d2d2683499462",
     "grade": false,
     "grade_id": "cell-615ae57b2d100f0a",
     "locked": true,
     "schema_version": 1,
     "solution": false
    }
   },
   "source": [
    " # What are the different ways to pass a pointer to a function?"
   ]
  },
  {
   "cell_type": "markdown",
   "metadata": {
    "deletable": false,
    "nbgrader": {
     "checksum": "6ed72ae21eebd5bb8cabb497389f33f2",
     "grade": true,
     "grade_id": "cell-18939fcba9b468b8",
     "locked": false,
     "points": 2,
     "schema_version": 1,
     "solution": true
    }
   },
   "source": [
    "YOUR ANSWER HERE"
   ]
  },
  {
   "cell_type": "markdown",
   "metadata": {
    "deletable": false,
    "editable": false,
    "nbgrader": {
     "checksum": "5d165cad1566904046f5d5393fc19212",
     "grade": false,
     "grade_id": "cell-44b13044259063a6",
     "locked": true,
     "schema_version": 1,
     "solution": false
    }
   },
   "source": [
    " # What is a function pointer?"
   ]
  },
  {
   "cell_type": "markdown",
   "metadata": {
    "deletable": false,
    "nbgrader": {
     "checksum": "ff7389bae7e60cf70ec9d556d88a33f8",
     "grade": true,
     "grade_id": "cell-4034f4c1446e97fc",
     "locked": false,
     "points": 2,
     "schema_version": 1,
     "solution": true
    }
   },
   "source": [
    "YOUR ANSWER HERE"
   ]
  },
  {
   "cell_type": "markdown",
   "metadata": {
    "deletable": false,
    "editable": false,
    "nbgrader": {
     "checksum": "d443587379bd543f72722e6e14a21a5e",
     "grade": false,
     "grade_id": "cell-80253531689a78e3",
     "locked": true,
     "schema_version": 1,
     "solution": false
    }
   },
   "source": [
    " # What is a linked list?"
   ]
  },
  {
   "cell_type": "markdown",
   "metadata": {
    "deletable": false,
    "nbgrader": {
     "checksum": "4cd15ba19fae18404258bf8248df691f",
     "grade": true,
     "grade_id": "cell-203518c06e5c17bb",
     "locked": false,
     "points": 2,
     "schema_version": 1,
     "solution": true
    }
   },
   "source": [
    "YOUR ANSWER HERE"
   ]
  },
  {
   "cell_type": "markdown",
   "metadata": {
    "deletable": false,
    "editable": false,
    "nbgrader": {
     "checksum": "f672262cb479b0bab10665c74079ca47",
     "grade": false,
     "grade_id": "cell-d1247a0779f3ca57",
     "locked": true,
     "schema_version": 1,
     "solution": false
    }
   },
   "source": [
    " # What is the main advantage of linked lists over arrays?"
   ]
  },
  {
   "cell_type": "markdown",
   "metadata": {
    "deletable": false,
    "nbgrader": {
     "checksum": "d84deecaf7fd3d2f7429146aa0250b9e",
     "grade": true,
     "grade_id": "cell-8a46def33508a7e6",
     "locked": false,
     "points": 2,
     "schema_version": 1,
     "solution": true
    }
   },
   "source": [
    "YOUR ANSWER HERE"
   ]
  },
  {
   "cell_type": "markdown",
   "metadata": {
    "deletable": false,
    "editable": false,
    "nbgrader": {
     "checksum": "ff5f927b30dd497549ae8b06271dcf3d",
     "grade": false,
     "grade_id": "cell-cdb577be2ed1399a",
     "locked": true,
     "schema_version": 1,
     "solution": false
    }
   },
   "source": [
    " # What is the main advantage of arrays over linked lists?"
   ]
  },
  {
   "cell_type": "markdown",
   "metadata": {
    "deletable": false,
    "nbgrader": {
     "checksum": "a949b06f6a613e99431049168f5243a5",
     "grade": true,
     "grade_id": "cell-d43422f8547fd990",
     "locked": false,
     "points": 2,
     "schema_version": 1,
     "solution": true
    }
   },
   "source": [
    "YOUR ANSWER HERE"
   ]
  },
  {
   "cell_type": "markdown",
   "metadata": {
    "deletable": false,
    "editable": false,
    "nbgrader": {
     "checksum": "c2c779ca16c0f0667a15c171b7e298ff",
     "grade": false,
     "grade_id": "cell-781bd0fb390f3959",
     "locked": true,
     "schema_version": 1,
     "solution": false
    }
   },
   "source": [
    " # How are linked lists passed as arguments to a function?"
   ]
  },
  {
   "cell_type": "markdown",
   "metadata": {
    "deletable": false,
    "nbgrader": {
     "checksum": "56dd956283698fd0cacb26424ab95f76",
     "grade": true,
     "grade_id": "cell-61c41b4f9e3053ec",
     "locked": false,
     "points": 2,
     "schema_version": 1,
     "solution": true
    }
   },
   "source": [
    "YOUR ANSWER HERE"
   ]
  },
  {
   "cell_type": "markdown",
   "metadata": {
    "deletable": false,
    "editable": false,
    "nbgrader": {
     "checksum": "5979565c8828e3e3bcdce93490c20ac0",
     "grade": false,
     "grade_id": "cell-246a49e2a7ef8ea2",
     "locked": true,
     "schema_version": 1,
     "solution": false
    }
   },
   "source": [
    " # What is the difference between a circular linked list and a basic linked list?"
   ]
  },
  {
   "cell_type": "markdown",
   "metadata": {
    "deletable": false,
    "nbgrader": {
     "checksum": "d80d3895cc4e07362d75c5470aa2382a",
     "grade": true,
     "grade_id": "cell-b961aaf69b6fcf38",
     "locked": false,
     "points": 2,
     "schema_version": 1,
     "solution": true
    }
   },
   "source": [
    "YOUR ANSWER HERE"
   ]
  },
  {
   "cell_type": "markdown",
   "metadata": {
    "deletable": false,
    "editable": false,
    "nbgrader": {
     "checksum": "6a38d1cfc4aed82dc98dae44c450a28b",
     "grade": false,
     "grade_id": "cell-402903baac0a05e8",
     "locked": true,
     "schema_version": 1,
     "solution": false
    }
   },
   "source": [
    " # What is the main advantage of a doubly-linked list over a basic linked list?"
   ]
  },
  {
   "cell_type": "markdown",
   "metadata": {
    "deletable": false,
    "nbgrader": {
     "checksum": "c2e4e3289d441e59d12c18c6b23e7b8f",
     "grade": true,
     "grade_id": "cell-afce0382bed3f941",
     "locked": false,
     "points": 2,
     "schema_version": 1,
     "solution": true
    }
   },
   "source": [
    "YOUR ANSWER HERE"
   ]
  },
  {
   "cell_type": "markdown",
   "metadata": {
    "deletable": false,
    "editable": false,
    "nbgrader": {
     "checksum": "2b347e1505dd6edf204051c7336b8941",
     "grade": false,
     "grade_id": "cell-e12171069194cd79",
     "locked": true,
     "schema_version": 1,
     "solution": false
    }
   },
   "source": [
    " # What is the main disadvantage of a doubly-linked list over a basic linked list?"
   ]
  },
  {
   "cell_type": "markdown",
   "metadata": {
    "deletable": false,
    "nbgrader": {
     "checksum": "c20c093dadeb4bebfe7c15b19c21f9ae",
     "grade": true,
     "grade_id": "cell-0ec6f4ddfc347f75",
     "locked": false,
     "points": 2,
     "schema_version": 1,
     "solution": true
    }
   },
   "source": [
    "YOUR ANSWER HERE"
   ]
  },
  {
   "cell_type": "markdown",
   "metadata": {
    "deletable": false,
    "editable": false,
    "nbgrader": {
     "checksum": "e2659c3b0433c184553eba20f2795932",
     "grade": false,
     "grade_id": "cell-bb3ef638474f038f",
     "locked": true,
     "schema_version": 1,
     "solution": false
    }
   },
   "source": [
    " # What is a stack?"
   ]
  },
  {
   "cell_type": "markdown",
   "metadata": {
    "deletable": false,
    "nbgrader": {
     "checksum": "80c5919145546f30d40dc520272f2a76",
     "grade": true,
     "grade_id": "cell-f57bb69848b6162f",
     "locked": false,
     "points": 2,
     "schema_version": 1,
     "solution": true
    }
   },
   "source": [
    "YOUR ANSWER HERE"
   ]
  },
  {
   "cell_type": "markdown",
   "metadata": {
    "deletable": false,
    "editable": false,
    "nbgrader": {
     "checksum": "bd4cb04dc5dee2f0df732f1bc1bdb29e",
     "grade": false,
     "grade_id": "cell-7feea0bc6e9e2908",
     "locked": true,
     "schema_version": 1,
     "solution": false
    }
   },
   "source": [
    " # What are the two main functions defined by a stack?"
   ]
  },
  {
   "cell_type": "markdown",
   "metadata": {
    "deletable": false,
    "nbgrader": {
     "checksum": "2707ddae3a2b1984680e2a890ca8f533",
     "grade": true,
     "grade_id": "cell-827932e38724a5f8",
     "locked": false,
     "points": 2,
     "schema_version": 1,
     "solution": true
    }
   },
   "source": [
    "YOUR ANSWER HERE"
   ]
  },
  {
   "cell_type": "markdown",
   "metadata": {
    "deletable": false,
    "editable": false,
    "nbgrader": {
     "checksum": "f614648d4a1d7a8c67e2d8d067f73778",
     "grade": false,
     "grade_id": "cell-ba696be9833794c9",
     "locked": true,
     "schema_version": 1,
     "solution": false
    }
   },
   "source": [
    " # How can you implement a stack with an array?"
   ]
  },
  {
   "cell_type": "markdown",
   "metadata": {
    "deletable": false,
    "nbgrader": {
     "checksum": "219bd08c60ff8bfa315c7edc6ed8b285",
     "grade": true,
     "grade_id": "cell-f8056dbac46a93e5",
     "locked": false,
     "points": 2,
     "schema_version": 1,
     "solution": true
    }
   },
   "source": [
    "YOUR ANSWER HERE"
   ]
  },
  {
   "cell_type": "markdown",
   "metadata": {
    "deletable": false,
    "editable": false,
    "nbgrader": {
     "checksum": "671df6fe68fbb612f5b92c517763f17b",
     "grade": false,
     "grade_id": "cell-7963c91a02283775",
     "locked": true,
     "schema_version": 1,
     "solution": false
    }
   },
   "source": [
    " # How can you implement a stack with a list?"
   ]
  },
  {
   "cell_type": "markdown",
   "metadata": {
    "deletable": false,
    "nbgrader": {
     "checksum": "776f0444848bfe55e3805e2753606b50",
     "grade": true,
     "grade_id": "cell-48d3196413f3a146",
     "locked": false,
     "points": 2,
     "schema_version": 1,
     "solution": true
    }
   },
   "source": [
    "YOUR ANSWER HERE"
   ]
  },
  {
   "cell_type": "markdown",
   "metadata": {
    "deletable": false,
    "editable": false,
    "nbgrader": {
     "checksum": "a06b057860d3a13c9ab854ad273ee01f",
     "grade": false,
     "grade_id": "cell-4e14b0d2d1c6ac2c",
     "locked": true,
     "schema_version": 1,
     "solution": false
    }
   },
   "source": [
    " # Which implementation (array-based vs. list-based) is preferred, and why?"
   ]
  },
  {
   "cell_type": "markdown",
   "metadata": {
    "deletable": false,
    "nbgrader": {
     "checksum": "b6ff95dda8530ae5c75f6058f87da730",
     "grade": true,
     "grade_id": "cell-229c7baca8941558",
     "locked": false,
     "points": 2,
     "schema_version": 1,
     "solution": true
    }
   },
   "source": [
    "YOUR ANSWER HERE"
   ]
  },
  {
   "cell_type": "markdown",
   "metadata": {
    "deletable": false,
    "editable": false,
    "nbgrader": {
     "checksum": "f9b281ff29b40f5b39752be4b3378218",
     "grade": false,
     "grade_id": "cell-e148dc3740d077ec",
     "locked": true,
     "schema_version": 1,
     "solution": false
    }
   },
   "source": [
    " # How are infix expressions evaluated by computers?"
   ]
  },
  {
   "cell_type": "markdown",
   "metadata": {
    "deletable": false,
    "nbgrader": {
     "checksum": "f34f70ac09b6e25e5e59bc0440998d70",
     "grade": true,
     "grade_id": "cell-1d39c48d679775c4",
     "locked": false,
     "points": 2,
     "schema_version": 1,
     "solution": true
    }
   },
   "source": [
    "YOUR ANSWER HERE"
   ]
  },
  {
   "cell_type": "markdown",
   "metadata": {
    "deletable": false,
    "editable": false,
    "nbgrader": {
     "checksum": "796431e1fec86ebe8d37888d78fd795c",
     "grade": false,
     "grade_id": "cell-b11c8efb78fde4ab",
     "locked": true,
     "schema_version": 1,
     "solution": false
    }
   },
   "source": [
    " # What operations would you need to perform to find a given element on a stack?"
   ]
  },
  {
   "cell_type": "markdown",
   "metadata": {
    "deletable": false,
    "nbgrader": {
     "checksum": "f6cd99146c13cc347b6ec614f37547e3",
     "grade": true,
     "grade_id": "cell-491c022b8eb670db",
     "locked": false,
     "points": 2,
     "schema_version": 1,
     "solution": true
    }
   },
   "source": [
    "YOUR ANSWER HERE"
   ]
  },
  {
   "cell_type": "markdown",
   "metadata": {
    "deletable": false,
    "editable": false,
    "nbgrader": {
     "checksum": "0dad152d8314ba1163123ffda3dfaa6b",
     "grade": false,
     "grade_id": "cell-4bbfac49dd837a1a",
     "locked": true,
     "schema_version": 1,
     "solution": false
    }
   },
   "source": [
    " # What is a queue?"
   ]
  },
  {
   "cell_type": "markdown",
   "metadata": {
    "deletable": false,
    "nbgrader": {
     "checksum": "3aa90a126a567ba667ea78e4a276d664",
     "grade": true,
     "grade_id": "cell-79a35fb299e8819f",
     "locked": false,
     "points": 2,
     "schema_version": 1,
     "solution": true
    }
   },
   "source": [
    "YOUR ANSWER HERE"
   ]
  },
  {
   "cell_type": "markdown",
   "metadata": {
    "deletable": false,
    "editable": false,
    "nbgrader": {
     "checksum": "529d08ca2b855b18909b7ff3c4f7b9e3",
     "grade": false,
     "grade_id": "cell-45503c7906d017e9",
     "locked": true,
     "schema_version": 1,
     "solution": false
    }
   },
   "source": [
    " # What are the two main functions defined by a queue?"
   ]
  },
  {
   "cell_type": "markdown",
   "metadata": {
    "deletable": false,
    "nbgrader": {
     "checksum": "f210e16ee67acc79beccbceaa1751fe6",
     "grade": true,
     "grade_id": "cell-878532acec8ae600",
     "locked": false,
     "points": 2,
     "schema_version": 1,
     "solution": true
    }
   },
   "source": [
    "YOUR ANSWER HERE"
   ]
  },
  {
   "cell_type": "markdown",
   "metadata": {
    "deletable": false,
    "editable": false,
    "nbgrader": {
     "checksum": "0487f1fe2152b1d994fe0091f48c5a87",
     "grade": false,
     "grade_id": "cell-99363a1c588862bc",
     "locked": true,
     "schema_version": 1,
     "solution": false
    }
   },
   "source": [
    " # How can you implement a queue with an array?"
   ]
  },
  {
   "cell_type": "markdown",
   "metadata": {
    "deletable": false,
    "nbgrader": {
     "checksum": "073401019f582306ef40f4bd42899622",
     "grade": true,
     "grade_id": "cell-941ef6c0222e7de3",
     "locked": false,
     "points": 2,
     "schema_version": 1,
     "solution": true
    }
   },
   "source": [
    "YOUR ANSWER HERE"
   ]
  },
  {
   "cell_type": "markdown",
   "metadata": {
    "deletable": false,
    "editable": false,
    "nbgrader": {
     "checksum": "5d1bb989752047a8cbf996a3a0c1393a",
     "grade": false,
     "grade_id": "cell-0366a1f3f08f940f",
     "locked": true,
     "schema_version": 1,
     "solution": false
    }
   },
   "source": [
    " # How can you implement a queue with a list?"
   ]
  },
  {
   "cell_type": "markdown",
   "metadata": {
    "deletable": false,
    "nbgrader": {
     "checksum": "27d8a2ada24e9230d7fe28bccb30ed46",
     "grade": true,
     "grade_id": "cell-16569bb76b5addf0",
     "locked": false,
     "points": 2,
     "schema_version": 1,
     "solution": true
    }
   },
   "source": [
    "YOUR ANSWER HERE"
   ]
  },
  {
   "cell_type": "markdown",
   "metadata": {
    "deletable": false,
    "editable": false,
    "nbgrader": {
     "checksum": "82e4565d82c592b1bfe61f31a13f8071",
     "grade": false,
     "grade_id": "cell-c9e5bb10d3a2c35d",
     "locked": true,
     "schema_version": 1,
     "solution": false
    }
   },
   "source": [
    " # Which implementation (array-based vs. list-based) is preferred for a queue, and why?"
   ]
  },
  {
   "cell_type": "markdown",
   "metadata": {
    "deletable": false,
    "nbgrader": {
     "checksum": "a90f500595685c0ed1fece62997eb05a",
     "grade": true,
     "grade_id": "cell-0aac5c1b2ce62f28",
     "locked": false,
     "points": 2,
     "schema_version": 1,
     "solution": true
    }
   },
   "source": [
    "YOUR ANSWER HERE"
   ]
  },
  {
   "cell_type": "markdown",
   "metadata": {
    "deletable": false,
    "editable": false,
    "nbgrader": {
     "checksum": "79ca333fc07a610167935b0ceb00ee67",
     "grade": false,
     "grade_id": "cell-4ab7e06904cc7b71",
     "locked": true,
     "schema_version": 1,
     "solution": false
    }
   },
   "source": [
    " # What is the stack operation corresponding to the enqueue operation in queues?"
   ]
  },
  {
   "cell_type": "markdown",
   "metadata": {
    "deletable": false,
    "nbgrader": {
     "checksum": "6a261c54e2b939067d2afd3dce4bb11d",
     "grade": true,
     "grade_id": "cell-67d1ebdbd35340f0",
     "locked": false,
     "points": 2,
     "schema_version": 1,
     "solution": true
    }
   },
   "source": [
    "YOUR ANSWER HERE"
   ]
  },
  {
   "cell_type": "markdown",
   "metadata": {
    "deletable": false,
    "editable": false,
    "nbgrader": {
     "checksum": "308d066b3bb32d3a62bbbdf18a2ecdc6",
     "grade": false,
     "grade_id": "cell-5587136b04899859",
     "locked": true,
     "schema_version": 1,
     "solution": false
    }
   },
   "source": [
    " # What data structure is more appropriate for scheduling printing jobs at a printer, a stack or a queue?"
   ]
  },
  {
   "cell_type": "markdown",
   "metadata": {
    "deletable": false,
    "nbgrader": {
     "checksum": "63cbf0a3360df4af6b5ebf51799093e9",
     "grade": true,
     "grade_id": "cell-a002876bfca13221",
     "locked": false,
     "points": 2,
     "schema_version": 1,
     "solution": true
    }
   },
   "source": [
    "YOUR ANSWER HERE"
   ]
  }
 ],
 "metadata": {},
 "nbformat": 4,
 "nbformat_minor": 0
}
