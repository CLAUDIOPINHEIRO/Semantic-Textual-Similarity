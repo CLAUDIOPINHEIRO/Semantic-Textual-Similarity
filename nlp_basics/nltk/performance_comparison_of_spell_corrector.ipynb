{
 "cells": [
  {
   "cell_type": "markdown",
   "metadata": {},
   "source": [
    "# Data set Source\n",
    "\n",
    "Data set is downloaded from:\n",
    "\n",
    "https://en.wikipedia.org/wiki/Wikipedia:Lists_of_common_misspellings/A\n",
    "\n",
    "- Data set contains misspelled words and correct words\n",
    "- Words are selected randomly from data set\n",
    "- Around 670 words are selected randomly from data set to evaluate the performance of spell correctors\n",
    "\n",
    "### Two spell correcters are used\n",
    "    - Spell corrector using Ngrams,Jaccard coefficient and Minimum edit distance\n",
    "    - Spell corrector using Minimum Edit Distance(MED)\n",
    "   \n",
    "- Each spell corrector, checks misspelled word and suggest correct work according to misspelled word\n",
    "- Both spell correctors are evaluated based on their performance(accuracy of correcting words)\n"
   ]
  },
  {
   "cell_type": "code",
   "execution_count": 13,
   "metadata": {
    "collapsed": false
   },
   "outputs": [],
   "source": [
    "from __future__ import division\n",
    "import numpy as np\n",
    "import enchant  # spell checker library pyenchant\n",
    "import string_similarity # import string similarity notebook"
   ]
  },
  {
   "cell_type": "code",
   "execution_count": 7,
   "metadata": {
    "collapsed": false
   },
   "outputs": [],
   "source": [
    "# Load enchant english dictionary\n",
    "spell_dictionary = enchant.Dict('en')"
   ]
  },
  {
   "cell_type": "code",
   "execution_count": 9,
   "metadata": {
    "collapsed": false
   },
   "outputs": [],
   "source": [
    "# create object of string similarity class(present in another notebook)\n",
    "obj = string_similarity.string_similarity(spell_dictionary)"
   ]
  },
  {
   "cell_type": "markdown",
   "metadata": {},
   "source": [
    "# Load Data set that contain misspelled and corrected words"
   ]
  },
  {
   "cell_type": "code",
   "execution_count": 10,
   "metadata": {
    "collapsed": false
   },
   "outputs": [],
   "source": [
    "def load_misspelled_dataset(dataset):\n",
    "    words_dictionary = dict()\n",
    "    for i in range(len(dataset)):\n",
    "        words_dictionary[dataset[i][0]] = dataset[i][2] \n",
    "        \n",
    "    return words_dictionary\n"
   ]
  },
  {
   "cell_type": "code",
   "execution_count": 11,
   "metadata": {
    "collapsed": true
   },
   "outputs": [],
   "source": [
    "load_dataset = np.loadtxt('dataset/dataset_misspelled.txt',dtype='str')"
   ]
  },
  {
   "cell_type": "markdown",
   "metadata": {},
   "source": [
    "# Performance of Spell Corrector using Ngrams on Dataset"
   ]
  },
  {
   "cell_type": "code",
   "execution_count": 14,
   "metadata": {
    "collapsed": false
   },
   "outputs": [
    {
     "name": "stdout",
     "output_type": "stream",
     "text": [
      "============================================================================================\n",
      "Total number of misspelled words in database 666\n",
      "Total number of corrected words 461\n",
      "Total percentage  69.2192192192\n",
      "============================================================================================\n"
     ]
    }
   ],
   "source": [
    "def check_misspelledWords_ngramCorrector(dataset):\n",
    "    number_of_corrected_words = 0\n",
    "    words = []\n",
    "    dictionary_misspelled_and_corrected_words = load_misspelled_dataset(load_dataset)\n",
    "    for i in range(len(dictionary_misspelled_and_corrected_words)):\n",
    "        corrected_word = obj.ngram_spell_corrector(dataset[i][0])\n",
    "        # if suggested word by ngram spell corrector is equal to correct word in data set\n",
    "        if corrected_word == dataset[i][2]:\n",
    "            number_of_corrected_words += 1\n",
    "    print \"============================================================================================\"\n",
    "    print \"Total number of misspelled words in database\", len(dictionary_misspelled_and_corrected_words) \n",
    "    print \"Total number of corrected words\",number_of_corrected_words\n",
    "    print \"Total percentage \", (number_of_corrected_words/len(dictionary_misspelled_and_corrected_words)) * 100\n",
    "    print \"============================================================================================\"\n",
    "check_misspelledWords_ngramCorrector(load_dataset)"
   ]
  },
  {
   "cell_type": "markdown",
   "metadata": {},
   "source": [
    "# Performance of Spell Corrector using Minimum Edit Distance(MED) on Dataset"
   ]
  },
  {
   "cell_type": "code",
   "execution_count": 15,
   "metadata": {
    "collapsed": false
   },
   "outputs": [
    {
     "name": "stdout",
     "output_type": "stream",
     "text": [
      "============================================================================================\n",
      "Total number of misspelled words in database 666\n",
      "Total number of corrected words 398\n",
      "Total percentage  59.7597597598\n",
      "============================================================================================\n"
     ]
    }
   ],
   "source": [
    "def check_misspelledWords_medCorrector(dataset):\n",
    "    number_of_corrected_words = 0\n",
    "    words = []\n",
    "    dictionary_misspelled_and_corrected_words = load_misspelled_dataset(load_dataset)\n",
    "    for i in range(len(dictionary_misspelled_and_corrected_words)):\n",
    "        corrected_word = obj.minimumEditDistance_spell_corrector(dataset[i][0])\n",
    "        if corrected_word == dataset[i][2]:\n",
    "            number_of_corrected_words += 1\n",
    "    print \"============================================================================================\"\n",
    "    print \"Total number of misspelled words in database\", len(dictionary_misspelled_and_corrected_words) \n",
    "    print \"Total number of corrected words\",number_of_corrected_words\n",
    "    print \"Total percentage \", (number_of_corrected_words/len(dictionary_misspelled_and_corrected_words)) * 100\n",
    "    print \"============================================================================================\"\n",
    "check_misspelledWords_medCorrector(load_dataset)"
   ]
  }
 ],
 "metadata": {
  "kernelspec": {
   "display_name": "Python [Root]",
   "language": "python",
   "name": "Python [Root]"
  },
  "language_info": {
   "codemirror_mode": {
    "name": "ipython",
    "version": 2
   },
   "file_extension": ".py",
   "mimetype": "text/x-python",
   "name": "python",
   "nbconvert_exporter": "python",
   "pygments_lexer": "ipython2",
   "version": "2.7.12"
  }
 },
 "nbformat": 4,
 "nbformat_minor": 0
}
