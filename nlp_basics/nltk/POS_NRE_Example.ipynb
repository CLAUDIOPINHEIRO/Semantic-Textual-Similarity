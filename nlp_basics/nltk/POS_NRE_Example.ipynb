{
 "cells": [
  {
   "cell_type": "markdown",
   "metadata": {},
   "source": [
    "# Part of Speech Tagger using NLTK\n",
    "\n",
    "\n",
    "# Named Entities Recognition using NLTK\n",
    "\n",
    "Named Entities are used to determine the noun phrases in the sentence. Furthermore noun phrases can be name of organization, locations, person, faculty, Geo-political entities(GPE) which includes city, state/province, and country.\n",
    "\n",
    "source: http://www.nltk.org/book/ch07.html"
   ]
  },
  {
   "cell_type": "code",
   "execution_count": 1,
   "metadata": {
    "collapsed": true
   },
   "outputs": [],
   "source": [
    "import nltk"
   ]
  },
  {
   "cell_type": "code",
   "execution_count": 2,
   "metadata": {
    "collapsed": true
   },
   "outputs": [],
   "source": [
    "class POS:\n",
    "    \n",
    "    '''\n",
    "    Input is text and returns\n",
    "    words with tags of part of speech\n",
    "    '''\n",
    "    def pos_tagger(self,text):\n",
    "        \n",
    "        tokenize = nltk.word_tokenize(text)\n",
    "        pos = nltk.pos_tag(tokenize)\n",
    "        \n",
    "        return pos\n",
    "    \n",
    "    def recognize_name_entity(self,pos_tag):\n",
    "        \n",
    "        return nltk.ne_chunk(pos_tag)"
   ]
  },
  {
   "cell_type": "code",
   "execution_count": 3,
   "metadata": {
    "collapsed": false
   },
   "outputs": [
    {
     "name": "stdout",
     "output_type": "stream",
     "text": [
      "Part of speech tags:  [('Germany', 'NNP'), ('is', 'VBZ'), ('famous', 'JJ'), ('for', 'IN'), ('cars', 'NNS'), ('and', 'CC'), ('Bonn', 'NNP'), ('is', 'VBZ'), ('beautiful', 'JJ'), ('City', 'NNP')]\n"
     ]
    }
   ],
   "source": [
    "text = \"Germany is famous for cars and Bonn is beautiful City\"\n",
    "pos = POS()\n",
    "tag = pos.pos_tagger(text)\n",
    "print \"Part of speech tags: \", tag"
   ]
  },
  {
   "cell_type": "code",
   "execution_count": 9,
   "metadata": {
    "collapsed": false
   },
   "outputs": [
    {
     "name": "stdout",
     "output_type": "stream",
     "text": [
      "Named Entity Recognition of sentence is: \n"
     ]
    },
    {
     "data": {
      "image/png": "[encoded data removed]",
      "text/plain": [
       "Tree('S', [Tree('GPE', [('Germany', 'NNP')]), ('is', 'VBZ'), ('famous', 'JJ'), ('for', 'IN'), ('cars', 'NNS'), ('and', 'CC'), Tree('PERSON', [('Bonn', 'NNP')]), ('is', 'VBZ'), ('beautiful', 'JJ'), ('City', 'NNP')])"
      ]
     },
     "execution_count": 9,
     "metadata": {},
     "output_type": "execute_result"
    }
   ],
   "source": [
    "print \"Named Entity Recognition of sentence is: \"\n",
    "pos.recognize_name_entity(tag)"
   ]
  },
  {
   "cell_type": "code",
   "execution_count": 5,
   "metadata": {
    "collapsed": false
   },
   "outputs": [
    {
     "name": "stdout",
     "output_type": "stream",
     "text": [
      "NNP: noun, proper, singular\n",
      "    Motown Venneboerger Czestochwa Ranzer Conchita Trumplane Christos\n",
      "    Oceanside Escobar Kreisler Sawyer Cougar Yvette Ervin ODI Darryl CTCA\n",
      "    Shannon A.K.C. Meltex Liverpool ...\n"
     ]
    }
   ],
   "source": [
    " nltk.help.upenn_tagset('NNP')"
   ]
  },
  {
   "cell_type": "code",
   "execution_count": 6,
   "metadata": {
    "collapsed": false
   },
   "outputs": [
    {
     "name": "stdout",
     "output_type": "stream",
     "text": [
      "JJ: adjective\n",
      "    ecent over-all possible hard-fought favorable hard meager fit such\n",
      "    widespread outmoded inadequate ambiguous grand clerical effective\n",
      "    orderly federal foster general proportionate ...\n"
     ]
    }
   ],
   "source": [
    "nltk.help.brown_tagset('JJ')"
   ]
  },
  {
   "cell_type": "code",
   "execution_count": 7,
   "metadata": {
    "collapsed": false
   },
   "outputs": [
    {
     "name": "stdout",
     "output_type": "stream",
     "text": [
      "IN: preposition or conjunction, subordinating\n",
      "    astride among uppon whether out inside pro despite on by throughout\n",
      "    below within for towards near behind atop around if like until below\n",
      "    next into if beside ...\n"
     ]
    }
   ],
   "source": [
    "nltk.help.upenn_tagset('IN')"
   ]
  },
  {
   "cell_type": "code",
   "execution_count": 8,
   "metadata": {
    "collapsed": false
   },
   "outputs": [
    {
     "name": "stdout",
     "output_type": "stream",
     "text": [
      "NNS: noun, common, plural\n",
      "    undergraduates scotches bric-a-brac products bodyguards facets coasts\n",
      "    divestitures storehouses designs clubs fragrances averages\n",
      "    subjectivists apprehensions muses factory-jobs ...\n"
     ]
    }
   ],
   "source": [
    "nltk.help.upenn_tagset('NNS')"
   ]
  },
  {
   "cell_type": "code",
   "execution_count": null,
   "metadata": {
    "collapsed": true
   },
   "outputs": [],
   "source": []
  }
 ],
 "metadata": {
  "kernelspec": {
   "display_name": "Python [Root]",
   "language": "python",
   "name": "Python [Root]"
  },
  "language_info": {
   "codemirror_mode": {
    "name": "ipython",
    "version": 2
   },
   "file_extension": ".py",
   "mimetype": "text/x-python",
   "name": "python",
   "nbconvert_exporter": "python",
   "pygments_lexer": "ipython2",
   "version": "2.7.13"
  }
 },
 "nbformat": 4,
 "nbformat_minor": 0
}
