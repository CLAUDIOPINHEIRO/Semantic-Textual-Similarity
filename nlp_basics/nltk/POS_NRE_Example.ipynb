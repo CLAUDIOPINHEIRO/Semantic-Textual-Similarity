{
 "cells": [
  {
   "cell_type": "markdown",
   "metadata": {},
   "source": [
    "# Part of Speech Tagger using NLTK\n",
    "\n",
    "It takes input sentence and assign part of speech such as Noun, Pronoun, Verb, Adjective(ADJ) etcetera with each word in the sentence.\n",
    "for more details: https://github.com/rameshjesswani/Semantic-Textual-Similarity/wiki/Part-of-Speech-Tagging\n",
    "\n",
    "\n",
    "# Named Entities Recognition using NLTK\n",
    "\n",
    "Named Entities are used to determine the noun phrases in the sentence. Furthermore noun phrases can be name of organization, locations, person, faculty, Geo-political entities(GPE) which includes city, state/province, and country.\n",
    "\n",
    "source: http://www.nltk.org/book/ch07.html"
   ]
  },
  {
   "cell_type": "code",
   "execution_count": 2,
   "metadata": {},
   "outputs": [],
   "source": [
    "import nltk"
   ]
  },
  {
   "cell_type": "code",
   "execution_count": 3,
   "metadata": {},
   "outputs": [],
   "source": [
    "class POS:\n",
    "    \n",
    "    '''\n",
    "    Input is text and returns\n",
    "    words with tags of part of speech\n",
    "    '''\n",
    "    def pos_tagger(self,text):\n",
    "        \n",
    "        tokenize = nltk.word_tokenize(text)\n",
    "        pos = nltk.pos_tag(tokenize)\n",
    "        \n",
    "        return pos\n",
    "    \n",
    "    '''\n",
    "    Input: Pos_tag of sentence\n",
    "    Returns: Named Entity Tree\n",
    "    '''\n",
    "    def recognize_name_entity(self,pos_tag):\n",
    "        \n",
    "        return nltk.ne_chunk(pos_tag)"
   ]
  },
  {
   "cell_type": "code",
   "execution_count": 4,
   "metadata": {},
   "outputs": [
    {
     "name": "stdout",
     "output_type": "stream",
     "text": [
      "Part of speech tags:  [('Bonn', 'NNP'), ('is', 'VBZ'), ('one', 'CD'), ('of', 'IN'), ('beautiful', 'JJ'), ('city', 'NN'), ('in', 'IN'), ('Germany', 'NNP')]\n"
     ]
    }
   ],
   "source": [
    "text = \"Bonn is one of beautiful city in Germany\"\n",
    "pos = POS()\n",
    "tag = pos.pos_tagger(text)\n",
    "print \"Part of speech tags: \", tag"
   ]
  },
  {
   "cell_type": "code",
   "execution_count": 5,
   "metadata": {},
   "outputs": [
    {
     "name": "stdout",
     "output_type": "stream",
     "text": [
      "Named Entity Recognition of sentence is: \n"
     ]
    },
    {
     "data": {
      "image/png": "[encoded data removed]",
      "text/plain": [
       "Tree('S', [Tree('GPE', [('Bonn', 'NNP')]), ('is', 'VBZ'), ('one', 'CD'), ('of', 'IN'), ('beautiful', 'JJ'), ('city', 'NN'), ('in', 'IN'), Tree('GPE', [('Germany', 'NNP')])])"
      ]
     },
     "execution_count": 5,
     "metadata": {},
     "output_type": "execute_result"
    }
   ],
   "source": [
    "print \"Named Entity Recognition of sentence is: \"\n",
    "pos.recognize_name_entity(tag)"
   ]
  }
 ],
 "metadata": {
  "kernelspec": {
   "display_name": "Python [default]",
   "language": "python",
   "name": "python2"
  },
  "language_info": {
   "codemirror_mode": {
    "name": "ipython",
    "version": 2
   },
   "file_extension": ".py",
   "mimetype": "text/x-python",
   "name": "python",
   "nbconvert_exporter": "python",
   "pygments_lexer": "ipython2",
   "version": "2.7.13"
  }
 },
 "nbformat": 4,
 "nbformat_minor": 1
}
