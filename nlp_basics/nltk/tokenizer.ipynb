{
 "cells": [
  {
   "cell_type": "code",
   "execution_count": 4,
   "metadata": {
    "collapsed": false
   },
   "outputs": [],
   "source": [
    "import nltk as nlp\n",
    "#nlp.download()  # to download missing package \n",
    "# you can also download single package nlp.download('pickle') or for all nlp.download(all)\n",
    "from nltk.tokenize import sent_tokenize,word_tokenize\n",
    "import string\n",
    "punctuations = list(string.punctuation) # in case if word contains punctuations\n",
    "from nltk.corpus import stopwords"
   ]
  },
  {
   "cell_type": "code",
   "execution_count": 5,
   "metadata": {
    "collapsed": false
   },
   "outputs": [],
   "source": [
    "class tokenization:\n",
    "    \n",
    "    def __init__(self):\n",
    "        self.punctuations = list(string.punctuation)\n",
    "        \n",
    "    '''\n",
    "    This function tokenize words from text\n",
    "    '''\n",
    "    def word_tokenizer(self,text):\n",
    "        self.word_tokenize_list = word_tokenize(text)\n",
    "\n",
    "        for word in self.word_tokenize_list:\n",
    "            if word in self.punctuations:\n",
    "                self.word_tokenize_list.remove(word)        \n",
    "\n",
    "        print \"length of words:\", len(self.word_tokenize_list)\n",
    "        print \"list of tokenized words = \",self.word_tokenize_list\n",
    "    \n",
    "    '''\n",
    "    This function tokenize sentences from text\n",
    "    '''\n",
    "    def sentence_tokenizer(self,sentence):\n",
    "        self.sentence_tokenize_list = sent_tokenize(sentence)\n",
    "        print \"tokenized sentences are = \", self.sentence_tokenize_list"
   ]
  },
  {
   "cell_type": "code",
   "execution_count": 6,
   "metadata": {
    "collapsed": false
   },
   "outputs": [
    {
     "name": "stdout",
     "output_type": "stream",
     "text": [
      "length of words: 8\n",
      "list of tokenized words =  ['hello', 'World', 'this', 'is', 'first', 'exercise', 'for', 'nlp']\n",
      "tokenized sentences are =  ['This is first sentence.', 'This is second sentence.', \"Let's try to tokenize the sentences.\", 'how are you?', 'I am doing good']\n"
     ]
    }
   ],
   "source": [
    "tokenizer = tokenization()\n",
    "text = \"hello World, this is first exercise for nlp\"\n",
    "tokenizer.word_tokenizer(text)\n",
    "sentence = \"This is first sentence. This is second sentence. Let's try to tokenize the sentences. how are you? I am doing good\"\n",
    "\n",
    "tokenizer.sentence_tokenizer(sentence)"
   ]
  },
  {
   "cell_type": "code",
   "execution_count": null,
   "metadata": {
    "collapsed": true
   },
   "outputs": [],
   "source": []
  },
  {
   "cell_type": "code",
   "execution_count": null,
   "metadata": {
    "collapsed": true
   },
   "outputs": [],
   "source": []
  }
 ],
 "metadata": {
  "kernelspec": {
   "display_name": "Python [Root]",
   "language": "python",
   "name": "Python [Root]"
  },
  "language_info": {
   "codemirror_mode": {
    "name": "ipython",
    "version": 2
   },
   "file_extension": ".py",
   "mimetype": "text/x-python",
   "name": "python",
   "nbconvert_exporter": "python",
   "pygments_lexer": "ipython2",
   "version": "2.7.12"
  }
 },
 "nbformat": 4,
 "nbformat_minor": 0
}
