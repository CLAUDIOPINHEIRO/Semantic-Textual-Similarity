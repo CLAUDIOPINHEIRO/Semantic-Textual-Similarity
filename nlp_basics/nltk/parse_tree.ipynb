{
 "cells": [
  {
   "cell_type": "markdown",
   "metadata": {},
   "source": [
    "# Parse Tree\n",
    "\n",
    "It is the representation of sentence in tree form.\n",
    "\n",
    "Two types of parse trees:\n",
    "\n",
    "    i. Constituency Parse Tree\n",
    "    \n",
    "    ii. Dependency Parse Tree\n",
    "    \n",
    "### Constituency Parse Tree\n",
    "\n",
    "This type of parse tree breaks down the text into sub-phrases such as Noun phrase(NP), Verb phrase(VP), etc. It tells relationship between the sub-phrases present in the sentence.\n",
    "\n",
    "### Dependency Parse Tree\n",
    "\n",
    "It expresses the relationship between the words present in the sentence. Each word has its vertex and there is always child-parent relationship between the words. Relation between words is denoted by edges"
   ]
  },
  {
   "cell_type": "code",
   "execution_count": 1,
   "metadata": {},
   "outputs": [],
   "source": [
    "import nltk\n",
    "import os\n",
    "from nltk.parse.stanford import StanfordParser, StanfordDependencyParser\n",
    "from nltk.tokenize import word_tokenize, sent_tokenize"
   ]
  },
  {
   "cell_type": "markdown",
   "metadata": {},
   "source": [
    "# Load stanford constituency parser and Dependency parser"
   ]
  },
  {
   "cell_type": "code",
   "execution_count": 2,
   "metadata": {},
   "outputs": [],
   "source": [
    "os.environ[\"CLASSPATH\"]= \"/home/ramesh/Documents/mas_course/second_semester/stanford-parser-full-2017-06-09/stanford-parser.jar\"\n",
    "os.environ[\"STANFORD_MODELS\"] = \"/home/ramesh/Documents/mas_course/second_semester/stanford-parser-full-2017-06-09/stanford-parser-3.8.0-models.jar\""
   ]
  },
  {
   "cell_type": "code",
   "execution_count": 3,
   "metadata": {},
   "outputs": [],
   "source": [
    "class parser:\n",
    "    \n",
    "    def __init__(self):\n",
    "        \n",
    "        self.parser = StanfordParser()\n",
    "        self.stan_dep_parser = StanfordDependencyParser()\n",
    "    \n",
    "    '''\n",
    "    Input: sentences\n",
    "    Return: constituency tree that represents relations between sub-phrases in sentences\n",
    "    '''\n",
    "    \n",
    "    def get_constituency_tree(self,sentence):\n",
    "        \n",
    "        sentence = sent_tokenize(sentence)\n",
    "        constituency_parser = self.parser.raw_parse_sents(sentence)\n",
    "        [sent for parser in constituency_parser for sent in parser]\n",
    "        print sent"
   ]
  },
  {
   "cell_type": "code",
   "execution_count": 4,
   "metadata": {},
   "outputs": [],
   "source": [
    "sentence = \"Four people died in an accident\""
   ]
  },
  {
   "cell_type": "markdown",
   "metadata": {},
   "source": [
    "# Constituency Parser(tree) Example"
   ]
  },
  {
   "cell_type": "code",
   "execution_count": 5,
   "metadata": {},
   "outputs": [
    {
     "name": "stdout",
     "output_type": "stream",
     "text": [
      "(ROOT\n",
      "  (S\n",
      "    (NP (CD Four) (NNS people))\n",
      "    (VP (VBD died) (PP (IN in) (NP (DT an) (NN accident))))))\n"
     ]
    }
   ],
   "source": [
    "parse = parser()\n",
    "parse.get_constituency_tree(sentence)"
   ]
  }
 ],
 "metadata": {
  "anaconda-cloud": {},
  "kernelspec": {
   "display_name": "Python [default]",
   "language": "python",
   "name": "python2"
  },
  "language_info": {
   "codemirror_mode": {
    "name": "ipython",
    "version": 2
   },
   "file_extension": ".py",
   "mimetype": "text/x-python",
   "name": "python",
   "nbconvert_exporter": "python",
   "pygments_lexer": "ipython2",
   "version": "2.7.13"
  }
 },
 "nbformat": 4,
 "nbformat_minor": 1
}
