{
 "cells": [
  {
   "cell_type": "markdown",
   "metadata": {},
   "source": [
    "# Parse Tree\n",
    "\n",
    "It is the representation of sentence in tree form.\n",
    "\n",
    "Two types of parse trees:\n",
    "\n",
    "    i. Constituency Parse Tree\n",
    "    \n",
    "    ii. Dependency Parse Tree\n",
    "    \n",
    "### Constituency Parse Tree\n",
    "\n",
    "This type of parse tree breaks down the text into sub-phrases such as Noun phrase(NP), Verb phrase(VP), etc. It tells relationship between the sub-phrases present in the sentence.\n",
    "\n",
    "### Dependency Parse Tree\n",
    "\n",
    "It expresses the relationship between the words present in the sentence. Each word has its vertex and there is always child-parent relationship between the words. Relation between words is denoted by edges"
   ]
  },
  {
   "cell_type": "code",
   "execution_count": 2,
   "metadata": {},
   "outputs": [],
   "source": [
    "import nltk\n",
    "import os\n",
    "from nltk.parse.stanford import StanfordParser, StanfordDependencyParser\n",
    "from nltk.tokenize import word_tokenize, sent_tokenize"
   ]
  },
  {
   "cell_type": "markdown",
   "metadata": {},
   "source": [
    "# Load stanford constituency parser and Dependency parser"
   ]
  },
  {
   "cell_type": "code",
   "execution_count": 3,
   "metadata": {},
   "outputs": [],
   "source": [
    "os.environ[\"CLASSPATH\"]= \"/home/ramesh/Documents/mas_course/second_semester/stanford-parser-full-2017-06-09/stanford-parser.jar\"\n",
    "os.environ[\"STANFORD_MODELS\"] = \"/home/ramesh/Documents/mas_course/second_semester/stanford-parser-full-2017-06-09/stanford-parser-3.8.0-models.jar\""
   ]
  },
  {
   "cell_type": "code",
   "execution_count": 4,
   "metadata": {},
   "outputs": [],
   "source": [
    "class parser:\n",
    "    \n",
    "    '''\n",
    "    This class uses stanford constituency parser and dependency parser\n",
    "    '''\n",
    "    \n",
    "    \n",
    "    def __init__(self):\n",
    "        \n",
    "        self.parser = StanfordParser()\n",
    "        self.stan_dep_parser = StanfordDependencyParser(model_path=\"/home/ramesh/Documents/mas_course/second_semester/stanford-parser-full-2017-06-09/stanford-parser-3.8.0-models/edu/stanford/nlp/models/lexparser/englishPCFG.ser.gz\")\n",
    "        \n",
    "        \n",
    "    '''\n",
    "    Input: sentence\n",
    "    Return: constituency tree that represents relations between sub-phrases in sentences\n",
    "    '''\n",
    "    \n",
    "    \n",
    "    def get_constituency_tree(self,sentence):\n",
    "        \n",
    "        sentence = sent_tokenize(sentence)\n",
    "        constituency_parser = self.parser.raw_parse_sents(sentence)\n",
    "        [relation for parser in constituency_parser for relation in parser]\n",
    "        return relation    \n",
    "        \n",
    "    '''\n",
    "    Input: sentence\n",
    "    Return: Dependency tree that represents relations between words in sentences\n",
    "    '''\n",
    "    \n",
    "    \n",
    "    def get_dependency_tree(self,sentence):\n",
    "        \n",
    "        dependency_parser = self.stan_dep_parser.raw_parse(sentence)\n",
    "        relations = []\n",
    "        for dep in dependency_parser:   \n",
    "            for triple in dep.triples():\n",
    "                relations.append(str(triple[1]) + \"(\" + str(triple[0][0]) + \",\" + str(triple[2][0]) + \")\")\n",
    "                \n",
    "        return relations"
   ]
  },
  {
   "cell_type": "code",
   "execution_count": 5,
   "metadata": {},
   "outputs": [],
   "source": [
    "sentence = \"Four men died in an accident\""
   ]
  },
  {
   "cell_type": "markdown",
   "metadata": {},
   "source": [
    "# Dependency Parser(Tree) Example"
   ]
  },
  {
   "cell_type": "code",
   "execution_count": 7,
   "metadata": {},
   "outputs": [
    {
     "data": {
      "text/plain": [
       "['nsubj(died,men)',\n",
       " 'nummod(men,Four)',\n",
       " 'nmod(died,accident)',\n",
       " 'case(accident,in)',\n",
       " 'det(accident,an)']"
      ]
     },
     "execution_count": 7,
     "metadata": {},
     "output_type": "execute_result"
    }
   ],
   "source": [
    "parse = parser()\n",
    "parse.get_dependency_tree(sentence)"
   ]
  },
  {
   "cell_type": "markdown",
   "metadata": {},
   "source": [
    "# Constituency Parser(tree) Example"
   ]
  },
  {
   "cell_type": "code",
   "execution_count": 8,
   "metadata": {},
   "outputs": [
    {
     "data": {
      "image/png": "[encoded data removed]",
      "text/plain": [
       "Tree('ROOT', [Tree('S', [Tree('NP', [Tree('CD', ['Four']), Tree('NNS', ['men'])]), Tree('VP', [Tree('VBD', ['died']), Tree('PP', [Tree('IN', ['in']), Tree('NP', [Tree('DT', ['an']), Tree('NN', ['accident'])])])])])])"
      ]
     },
     "execution_count": 8,
     "metadata": {},
     "output_type": "execute_result"
    }
   ],
   "source": [
    "parse.get_constituency_tree(sentence)"
   ]
  }
 ],
 "metadata": {
  "anaconda-cloud": {},
  "kernelspec": {
   "display_name": "Python [default]",
   "language": "python",
   "name": "python2"
  }
 },
 "nbformat": 4,
 "nbformat_minor": 1
}
