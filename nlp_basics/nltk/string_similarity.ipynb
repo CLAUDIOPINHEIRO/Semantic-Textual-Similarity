{
 "cells": [
  {
   "cell_type": "markdown",
   "metadata": {},
   "source": [
    "# Levenshtein Distance in NLTK\n",
    "\n",
    "It computes minimum edit distance between two strings by performing three operations:\n",
    "1. Substitution\n",
    "2. Insertion\n",
    "3. Deletion\n",
    "\n",
    "It is mainly used for spelling correction, I have tried to use as spelling corrector, but it does not performs always in optimal way\n",
    "\n",
    "\n",
    "# PyEnchant Library \n",
    "\n",
    "It is spell checking library for python, it has built-in english dictionary and functions to check the spells in the sentences "
   ]
  },
  {
   "cell_type": "code",
   "execution_count": 36,
   "metadata": {
    "collapsed": false
   },
   "outputs": [],
   "source": [
    "import numpy as np\n",
    "import nltk\n",
    "from nltk.metrics import *\n",
    "from nltk.util import ngrams\n",
    "# from nltk.wordnet import ste\n",
    "import enchant  # spell checker library pyenchant\n",
    "from enchant.checker import SpellChecker\n",
    "from nltk.stem import WordNetLemmatizer\n",
    "from nltk.stem import PorterStemmer\n",
    "from nltk.corpus import words"
   ]
  },
  {
   "cell_type": "code",
   "execution_count": 37,
   "metadata": {
    "collapsed": false
   },
   "outputs": [],
   "source": [
    "spell_dictionary = enchant.Dict('en')"
   ]
  },
  {
   "cell_type": "code",
   "execution_count": 199,
   "metadata": {
    "collapsed": false
   },
   "outputs": [],
   "source": [
    "class string_similarity:\n",
    "    \n",
    "    def __init__(self,dictionary):\n",
    "        \n",
    "        self.dictionary = dictionary\n",
    "        self.check = SpellChecker(\"en_US\")\n",
    "        self.lemma = WordNetLemmatizer()\n",
    "        self.stemmer = PorterStemmer()\n",
    "        \n",
    "    '''\n",
    "    suggest words according to input word\n",
    "    '''    \n",
    "    def suggest_words(self,word):\n",
    "        return self.check.suggest(word)\n",
    "    \n",
    "    '''\n",
    "    Compute minimum edit distance between two strings\n",
    "    Operations performed: deletion, insertion and substitution\n",
    "       \n",
    "    '''\n",
    "    def levenshtein_distance(self,s1,s2):\n",
    "        \n",
    "        # nltk already have implemeted function\n",
    "        \n",
    "        distance_btw_strings = edit_distance(s1,s2)\n",
    "        \n",
    "        return distance_btw_strings\n",
    "    \n",
    "    '''\n",
    "    Given word and value of n(denotes how many grams of text)\n",
    "    n = 1 means unigram\n",
    "    n = 2 means bigram and so on\n",
    "    '''\n",
    "    def ngram(self,word,n):\n",
    "        \n",
    "        grams = list(ngrams(word,n))\n",
    "    \n",
    "        return bigrams\n",
    "    \n",
    "    '''\n",
    "    Takes sentence as input, identifies incorrect word \n",
    "    according to dictionary provided by pyenchant library\n",
    "    returns correct word with least distance using levenshtein distance, but sometimes this is not optimal too\n",
    "    '''\n",
    "    \n",
    "    '''\n",
    "    Takes input as sentence and returns list of misspelled words\n",
    "    '''\n",
    "    def check_mistakes_in_sentence(self,sentence):\n",
    "        \n",
    "        misspelled_words = []\n",
    "        \n",
    "        self.check.set_text(sentence)\n",
    "        \n",
    "        for err in self.check:\n",
    "            misspelled_words.append(err.word)\n",
    "            \n",
    "        if len(misspelled_words) == 0:\n",
    "            print \" No mistakes found\"\n",
    "        return misspelled_words\n",
    "    \n",
    "    '''\n",
    "    Take incorrect word as input and returns closely suggested words\n",
    "    '''\n",
    "    def spell_correct(self,word):\n",
    "        max_distance = 2\n",
    "        if (self.dictionary.check(word)):\n",
    "            return word\n",
    "        suggested_words = self.suggest_words(word)\n",
    "        \n",
    "        num_modified_characters = []\n",
    "        \n",
    "        if suggested_words != 0:\n",
    "            \n",
    "            for sug_words in suggested_words:\n",
    "                num_modified_characters.append(self.levenshtein_distance(word,sug_words))\n",
    "            minimum_edit_distance = min(num_modified_characters)\n",
    "            best_arg = num_modified_characters.index(minimum_edit_distance)\n",
    "            if max_distance > minimum_edit_distance:\n",
    "                best_suggestion = suggested_words[best_arg]\n",
    "                return best_suggestion\n",
    "            else:\n",
    "                return word\n",
    "        else:\n",
    "            return word\n"
   ]
  },
  {
   "cell_type": "code",
   "execution_count": 198,
   "metadata": {
    "collapsed": false
   },
   "outputs": [
    {
     "name": "stdout",
     "output_type": "stream",
     "text": [
      "['I', 'was', 'born', 'in', 'November']\n"
     ]
    }
   ],
   "source": [
    "sentence1 = \"I was born in oovember \"\n",
    "word_tokenize = nltk.word_tokenize(sentence1)\n",
    "obj = string_similarity(spell_dictionary)\n",
    "correct_sentence = []\n",
    "incorrect_words = obj.check_mistakes_in_sentence(sentence1)\n",
    "for misspelled_words in word_tokenize:\n",
    "    correct_sentence.append(obj.spell_correct(misspelled_words))\n",
    "print correct_sentence"
   ]
  }
 ],
 "metadata": {
  "kernelspec": {
   "display_name": "Python [Root]",
   "language": "python",
   "name": "Python [Root]"
  },
  "language_info": {
   "codemirror_mode": {
    "name": "ipython",
    "version": 2
   },
   "file_extension": ".py",
   "mimetype": "text/x-python",
   "name": "python",
   "nbconvert_exporter": "python",
   "pygments_lexer": "ipython2",
   "version": "2.7.12"
  }
 },
 "nbformat": 4,
 "nbformat_minor": 0
}
