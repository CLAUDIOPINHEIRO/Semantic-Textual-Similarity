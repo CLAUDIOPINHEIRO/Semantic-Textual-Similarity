{
 "cells": [
  {
   "cell_type": "markdown",
   "metadata": {},
   "source": [
    "# Levenshtein Distance in NLTK\n",
    "\n",
    "It computes minimum edit distance between two strings by performing three operations:\n",
    "1. Substitution\n",
    "2. Insertion\n",
    "3. Deletion\n",
    "\n",
    "It is mainly used for spelling correction, I have tried to use as spelling corrector, but it does not performs always in optimal way\n",
    "\n",
    "\n",
    "# PyEnchant Library \n",
    "\n",
    "It is spell checking library for python, it has built-in english dictionary and functions to check the spells in the sentences \n",
    "\n",
    "\n",
    "# Spell Correction Using Ngram, Jaccard Coefficient and Edit Distance\n",
    "\n",
    "#### Steps performed:\n",
    "\n",
    "1. Find Misspelled words\n",
    "2. Check Suggested Words\n",
    "3. Filter suggested words which are different within some distance using edit distance\n",
    "4. Compute Ngram of misspelled word and each suggested word\n",
    "5. Compute Jaccard coefficient of misspelled word and each suggested word\n",
    "6. Replace suggested word with maximum jaccard coefficient"
   ]
  },
  {
   "cell_type": "code",
   "execution_count": 1,
   "metadata": {
    "collapsed": false
   },
   "outputs": [],
   "source": [
    "import numpy as np\n",
    "import nltk\n",
    "from nltk.metrics import *\n",
    "from nltk.util import ngrams\n",
    "import enchant  # spell checker library pyenchant\n",
    "from enchant.checker import SpellChecker\n",
    "from nltk.stem import PorterStemmer\n",
    "from nltk.corpus import words"
   ]
  },
  {
   "cell_type": "code",
   "execution_count": 2,
   "metadata": {
    "collapsed": false
   },
   "outputs": [],
   "source": [
    "spell_dictionary = enchant.Dict('en')"
   ]
  },
  {
   "cell_type": "code",
   "execution_count": 8,
   "metadata": {
    "collapsed": false
   },
   "outputs": [],
   "source": [
    "class string_similarity:\n",
    "    \n",
    "    def __init__(self,dictionary):\n",
    "        \n",
    "        self.dictionary = dictionary\n",
    "        self.check = SpellChecker(\"en_US\")\n",
    "        self.stemmer = PorterStemmer()\n",
    "        \n",
    "    '''\n",
    "    suggest words according to input word\n",
    "    '''    \n",
    "    def suggest_words(self,word):\n",
    "        return self.check.suggest(word)\n",
    "    \n",
    "    '''\n",
    "    Compute minimum edit distance between two strings\n",
    "    Operations performed: deletion, insertion and substitution\n",
    "       \n",
    "    '''\n",
    "    def levenshtein_distance(self,s1,s2):\n",
    "        \n",
    "        # nltk already have implemeted function\n",
    "        \n",
    "        distance_btw_strings = edit_distance(s1,s2)\n",
    "        \n",
    "        return distance_btw_strings\n",
    "    \n",
    "    '''\n",
    "    Given word and value of n(denotes how many grams of text)\n",
    "    n = 1 means unigram\n",
    "    n = 2 means bigram and so on\n",
    "    '''\n",
    "    def ngram(self,word,n):\n",
    "        \n",
    "        grams = list(ngrams(word,n))\n",
    "    \n",
    "        return grams\n",
    "    \n",
    "    '''\n",
    "    Takes sentence as input, identifies incorrect word \n",
    "    according to dictionary provided by pyenchant library\n",
    "    returns correct word with least distance using levenshtein distance, but sometimes this is not optimal too\n",
    "    '''\n",
    "    \n",
    "    '''\n",
    "    Takes input as sentence and returns list of misspelled words\n",
    "    '''\n",
    "    \n",
    "    def check_mistakes_in_sentence(self,sentence):\n",
    "        \n",
    "        misspelled_words = []\n",
    "        \n",
    "        self.check.set_text(sentence)\n",
    "        \n",
    "        for err in self.check:\n",
    "            misspelled_words.append(err.word)\n",
    "            \n",
    "        if len(misspelled_words) == 0:\n",
    "            print \" No mistakes found\"\n",
    "        return misspelled_words\n",
    "    \n",
    "    '''\n",
    "    Jaccard correlation coefficient computes\n",
    "    similarity between two terms\n",
    "    '''\n",
    "    \n",
    "    def jaccard(self,a,b):\n",
    "\n",
    "        union = list(set(a+b))\n",
    "        intersection = list(set(a) - (set(a)-set(b)))\n",
    "        jaccard_coeff = float(len(intersection))/len(union)\n",
    "#         print \"jaccard coefficient\",jaccard_coeff\n",
    "        return jaccard_coeff\n",
    "    \n",
    "    '''\n",
    "    Take incorrect word as input and \n",
    "    returns closely suggested words\n",
    "    '''\n",
    "    \n",
    "    def spell_correct(self,word):\n",
    "        \n",
    "        max_distance = 2\n",
    "        if (self.dictionary.check(word)):\n",
    "            return word\n",
    "        suggested_words = self.suggest_words(word)\n",
    "        \n",
    "        num_modified_characters = []\n",
    "        \n",
    "        if suggested_words != 0:\n",
    "            \n",
    "            for sug_words in suggested_words:\n",
    "                num_modified_characters.append(self.levenshtein_distance(word,sug_words))\n",
    "                \n",
    "            minimum_edit_distance = min(num_modified_characters)\n",
    "            best_arg = num_modified_characters.index(minimum_edit_distance)\n",
    "            if max_distance > minimum_edit_distance:\n",
    "                best_suggestion = suggested_words[best_arg]\n",
    "                return best_suggestion\n",
    "            else:\n",
    "                return word\n",
    "        else:\n",
    "            return word\n",
    "        \n",
    "    '''\n",
    "    takes word as input and return closely corrected word\n",
    "    '''\n",
    "    \n",
    "    def ngram_spell_corrector(self,word):\n",
    "        \n",
    "        max_distance = 2\n",
    "        if (self.dictionary.check(word)):\n",
    "            return word\n",
    "        suggested_words = self.suggest_words(word)\n",
    "        \n",
    "        num_modified_characters = []\n",
    "       \n",
    "        max_jaccard = []\n",
    "        list_of_sug_words = []\n",
    "        if suggested_words != 0:\n",
    "            \n",
    "            word_ngrams = self.ngram(word,2)\n",
    "\n",
    "            for sug_words in suggested_words:\n",
    "\n",
    "                if (self.levenshtein_distance(word,sug_words)) < 3 :\n",
    "\n",
    "                    sug_ngrams = self.ngram(sug_words,2)\n",
    "                    jac = self.jaccard(word_ngrams,sug_ngrams)\n",
    "                    max_jaccard.append(jac)\n",
    "                    list_of_sug_words.append(sug_words)\n",
    "\n",
    "#             print \" jaccard list \", max_jaccard\n",
    "#             print \" list of suggested words, \", list_of_sug_words\n",
    "            highest_jaccard = max(max_jaccard)\n",
    "#             print \" max jaccard \", highest_jaccard\n",
    "            best_arg = max_jaccard.index(highest_jaccard)\n",
    "            word = list_of_sug_words[best_arg]\n",
    "#             print \"best argument \", best_arg\n",
    "#             print \"suggest words is \", list_of_sug_words[best_arg]\n",
    "            return word\n",
    "        else:\n",
    "            return word"
   ]
  },
  {
   "cell_type": "markdown",
   "metadata": {},
   "source": [
    "# Spell Correction using Levenshtein Distance"
   ]
  },
  {
   "cell_type": "code",
   "execution_count": 9,
   "metadata": {
    "collapsed": false
   },
   "outputs": [
    {
     "name": "stdout",
     "output_type": "stream",
     "text": [
      "['I', 'was', 'born', 'in', 'November']\n"
     ]
    }
   ],
   "source": [
    "sentence1 = \"I was born in oovember \"\n",
    "word_tokenize = nltk.word_tokenize(sentence1)\n",
    "obj = string_similarity(spell_dictionary)\n",
    "correct_sentence = []\n",
    "for misspelled_words in word_tokenize:\n",
    "    correct_sentence.append(obj.spell_correct(misspelled_words))\n",
    "print correct_sentence"
   ]
  },
  {
   "cell_type": "markdown",
   "metadata": {},
   "source": [
    "# Spell Correction Using Ngrams, Jaccard Coefficient and Edit Distance"
   ]
  },
  {
   "cell_type": "code",
   "execution_count": 10,
   "metadata": {
    "collapsed": false
   },
   "outputs": [
    {
     "name": "stdout",
     "output_type": "stream",
     "text": [
      "['Always', 'remember', 'November', 'and', 'December']\n"
     ]
    }
   ],
   "source": [
    "sentence = \"Always rememer oovember and decemer\"\n",
    "word_tokenize = nltk.word_tokenize(sentence)\n",
    "obj = string_similarity(spell_dictionary)\n",
    "correct_sentence = []\n",
    "for misspelled_words in word_tokenize:\n",
    "    correct_sentence.append(obj.ngram_spell_corrector(misspelled_words))\n",
    "print correct_sentence\n"
   ]
  },
  {
   "cell_type": "code",
   "execution_count": null,
   "metadata": {
    "collapsed": true
   },
   "outputs": [],
   "source": []
  }
 ],
 "metadata": {
  "kernelspec": {
   "display_name": "Python [Root]",
   "language": "python",
   "name": "Python [Root]"
  },
  "language_info": {
   "codemirror_mode": {
    "name": "ipython",
    "version": 2
   },
   "file_extension": ".py",
   "mimetype": "text/x-python",
   "name": "python",
   "nbconvert_exporter": "python",
   "pygments_lexer": "ipython2",
   "version": "2.7.12"
  }
 },
 "nbformat": 4,
 "nbformat_minor": 0
}
