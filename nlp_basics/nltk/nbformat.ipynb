{
 "cells": [
  {
   "cell_type": "code",
   "execution_count": 53,
   "metadata": {
    "collapsed": false
   },
   "outputs": [],
   "source": [
    "import IPython\n",
    "from IPython import nbformat\n",
    "import os"
   ]
  },
  {
   "cell_type": "code",
   "execution_count": 54,
   "metadata": {
    "collapsed": false
   },
   "outputs": [],
   "source": [
    "import dataset_read"
   ]
  },
  {
   "cell_type": "code",
   "execution_count": null,
   "metadata": {
    "collapsed": true
   },
   "outputs": [],
   "source": []
  },
  {
   "cell_type": "code",
   "execution_count": 55,
   "metadata": {
    "collapsed": false
   },
   "outputs": [
    {
     "name": "stdout",
     "output_type": "stream",
     "text": [
      "\n",
      " Student answer finished ===================================\n",
      "\n",
      " Student answer finished ===================================\n",
      "\n",
      " Student answer finished ===================================\n",
      "\n",
      " Student answer finished ===================================\n",
      "\n",
      " Student answer finished ===================================\n",
      "\n",
      " Student answer finished ===================================\n",
      "\n",
      " Student answer finished ===================================\n",
      "\n",
      " Student answer finished ===================================\n",
      "\n",
      " Student answer finished ===================================\n",
      "\n",
      " Student answer finished ===================================\n",
      "\n",
      " Student answer finished ===================================\n",
      "\n",
      " Student answer finished ===================================\n",
      "\n",
      " Student answer finished ===================================\n",
      "\n",
      " Student answer finished ===================================\n",
      "\n",
      " Student answer finished ===================================\n",
      "\n",
      " Student answer finished ===================================\n",
      "\n",
      " Student answer finished ===================================\n",
      "\n",
      " Student answer finished ===================================\n",
      "\n",
      " Student answer finished ===================================\n",
      "\n",
      " Student answer finished ===================================\n",
      "\n",
      " Student answer finished ===================================\n",
      "\n",
      " Student answer finished ===================================\n",
      "\n",
      " Student answer finished ===================================\n",
      "\n",
      " Student answer finished ===================================\n",
      "\n",
      " Student answer finished ===================================\n",
      "\n",
      " Student answer finished ===================================\n",
      "\n",
      " Student answer finished ===================================\n",
      "\n",
      " Student answer finished ===================================\n",
      "\n",
      " Student answer finished ===================================\n",
      "\n",
      " Student answer finished ===================================\n",
      "\n",
      " Student answer finished ===================================\n"
     ]
    }
   ],
   "source": [
    "obj_dataset_read = dataset_read.read_database()\n",
    "student_answers = obj_dataset_read.student_answers()\n",
    "d = obj_dataset_read.read_question_file()\n",
    "\n",
    "for key in student_answers:\n",
    "\n",
    "    nb = nbformat.v4.new_notebook()\n",
    "    markdown_cell = nbformat.v4.new_markdown_cell(\"Student ID: \"+ str(key))\n",
    "    nb.cells.append(markdown_cell)\n",
    "    for i in range(87):\n",
    "        index = student_answers[key][i][0:4]\n",
    "        index = int(float(index))\n",
    "        if (index < 10):\n",
    "            question = d[str(student_answers[100][i][0:3])]\n",
    "            # create markdown cell of question\n",
    "            markdown_cell_q = nbformat.v4.new_markdown_cell(question)\n",
    "            #append cell to notebook\n",
    "            nb.cells.append(markdown_cell_q)\n",
    "            answer = student_answers[100][i]\n",
    "            # create markdown cell of answer\n",
    "            markdown_cell_ans = nbformat.v4.new_markdown_cell(answer)\n",
    "            #append cell to notebook\n",
    "            nb.cells.append(markdown_cell_ans)\n",
    "\n",
    "    with open('student_number_'+str(key)+'.ipynb', 'w') as f:\n",
    "        f.write(nbformat.v4.writes_json(nb))\n",
    "    print \"\\n Student answer finished ===================================\""
   ]
  },
  {
   "cell_type": "markdown",
   "metadata": {
    "collapsed": true
   },
   "source": [
    "##### "
   ]
  },
  {
   "cell_type": "code",
   "execution_count": 45,
   "metadata": {
    "collapsed": false
   },
   "outputs": [
    {
     "name": "stdout",
     "output_type": "stream",
     "text": [
      "student ID 128\n",
      "student ID 129\n",
      "student ID 130\n",
      "student ID 100\n",
      "student ID 101\n",
      "student ID 102\n",
      "student ID 103\n",
      "student ID 104\n",
      "student ID 105\n",
      "student ID 106\n",
      "student ID 107\n",
      "student ID 108\n",
      "student ID 109\n",
      "student ID 110\n",
      "student ID 111\n",
      "student ID 112\n",
      "student ID 113\n",
      "student ID 114\n",
      "student ID 115\n",
      "student ID 116\n",
      "student ID 117\n",
      "student ID 118\n",
      "student ID 119\n",
      "student ID 120\n",
      "student ID 121\n",
      "student ID 122\n",
      "student ID 123\n",
      "student ID 124\n",
      "student ID 125\n",
      "student ID 126\n",
      "student ID 127\n"
     ]
    }
   ],
   "source": [
    "for key in student_answers:\n",
    "    print \"student ID\", key\n",
    "#     print \"questino number: \", d[]\n",
    "\n",
    "#     nb = nbformat.v4.new_notebook()\n",
    "#     markdown_cell = nbformat.v4.new_markdown_cell(\"Student ID: \"+ str(key))\n",
    "#     nb.cells.append(markdown_cell)\n",
    "#     for answers in student_answers[key]:\n",
    "# #         markdown_cell_q = nbformat.v4.new_markdown_cell(d[key])\n",
    "#         markdown_cell = nbformat.v4.new_markdown_cell(answers)\n",
    "# #         nb.cells.append(markdown_cell_q)\n",
    "#         nb.cells.append(markdown_cell)\n",
    "#     with open('student_number_'+str(key)+'.ipynb', 'w') as f:\n",
    "#         f.write(nbformat.v4.writes_json(nb))\n",
    "#     print \"\\n Student answer finished ===================================\""
   ]
  },
  {
   "cell_type": "code",
   "execution_count": 46,
   "metadata": {
    "collapsed": false
   },
   "outputs": [
    {
     "name": "stdout",
     "output_type": "stream",
     "text": [
      "100\n",
      "101\n",
      "102\n",
      "103\n",
      "104\n",
      "105\n",
      "106\n",
      "107\n",
      "108\n",
      "109\n"
     ]
    }
   ],
   "source": [
    "i = 100\n",
    "while (i != 110):\n",
    "    print i\n",
    "    i += 1"
   ]
  },
  {
   "cell_type": "code",
   "execution_count": 42,
   "metadata": {
    "collapsed": false
   },
   "outputs": [
    {
     "name": "stdout",
     "output_type": "stream",
     "text": [
      "10\n"
     ]
    }
   ],
   "source": [
    "a = 10.12\n",
    "print int(a)"
   ]
  },
  {
   "cell_type": "code",
   "execution_count": null,
   "metadata": {
    "collapsed": true
   },
   "outputs": [],
   "source": []
  }
 ],
 "metadata": {
  "kernelspec": {
   "display_name": "Python [Root]",
   "language": "python",
   "name": "Python [Root]"
  },
  "language_info": {
   "codemirror_mode": {
    "name": "ipython",
    "version": 2
   },
   "file_extension": ".py",
   "mimetype": "text/x-python",
   "name": "python",
   "nbconvert_exporter": "python",
   "pygments_lexer": "ipython2",
   "version": "2.7.12"
  }
 },
 "nbformat": 4,
 "nbformat_minor": 0
}
