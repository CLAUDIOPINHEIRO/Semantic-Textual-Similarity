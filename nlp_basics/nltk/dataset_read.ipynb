{
 "cells": [
  {
   "cell_type": "markdown",
   "metadata": {},
   "source": [
    "# Read Mohler data set \n",
    "\n",
    "source : http://web.eecs.umich.edu/~mihalcea/downloads.html#saga"
   ]
  },
  {
   "cell_type": "code",
   "execution_count": 59,
   "metadata": {
    "collapsed": true
   },
   "outputs": [],
   "source": [
    "import numpy as np\n",
    "import os\n",
    "from collections import defaultdict\n",
    "import glob"
   ]
  },
  {
   "cell_type": "code",
   "execution_count": 60,
   "metadata": {
    "collapsed": false
   },
   "outputs": [],
   "source": [
    "# import string_similarity # another notebook name string similarity\n",
    "# import text_normalization # notebook text normalization\n",
    "# spell_dictionary = enchant.Dict('en')"
   ]
  },
  {
   "cell_type": "code",
   "execution_count": 61,
   "metadata": {
    "collapsed": false
   },
   "outputs": [],
   "source": [
    "# object_string_similarity = string_similarity.string_similarity(spell_dictionary) # object of string similarity class\n",
    "# object_text_normalization = text_normalization.text_normalization()"
   ]
  },
  {
   "cell_type": "code",
   "execution_count": 62,
   "metadata": {
    "collapsed": false
   },
   "outputs": [],
   "source": [
    "class read_database():\n",
    "    \n",
    "    def __init__(self):\n",
    "        \n",
    "        self.questions_file = open('../data/raw/questions')\n",
    "        self.answers_file = open('../data/raw/answers')\n",
    "        self.database_questions = dict()\n",
    "        self.database_answers = dict()\n",
    "        \n",
    "        self.students_files = sorted(glob.glob('../data/raw/*')) # 90 files\n",
    "        # exlucding last three files because they contain models answer\n",
    "        self.students_files = self.students_files[0:87] \n",
    "        self.scores = sorted(glob.glob('../data/scores/1.1/ave'))\n",
    "        \n",
    "    def file_preprocessing(self,file_lines):\n",
    "        \n",
    "        temp_database = dict()\n",
    "        i = 0;\n",
    "        for line in file_lines:\n",
    "            i = i + 1\n",
    "            temp = line.strip()\n",
    "            number = temp[0:5]\n",
    "            number = number.strip()\n",
    "            text = temp[5:]\n",
    "            temp_database[number] = text\n",
    "#         print \"number of lines in file\", i\n",
    "            \n",
    "        return temp_database\n",
    "  \n",
    "        \n",
    "    def read_question_file(self):\n",
    "        \n",
    "        read_file = self.questions_file.readlines()\n",
    "        \n",
    "        self.database_questions = self.file_preprocessing(read_file)        \n",
    "        \n",
    "        return self.database_questions\n",
    "    \n",
    "    # Read model answers file\n",
    "    def read_answer_file(self):\n",
    "        \n",
    "        read_file = self.answers_file.readlines()\n",
    "        \n",
    "        self.database_answers = self.file_preprocessing(read_file)\n",
    "            \n",
    "        return self.database_answers\n",
    "        \n",
    "    '''\n",
    "    Combine dictionary of model answers and questions\n",
    "    Takes input question dictionary and answer dictionary \n",
    "    and returns combine dictionary \n",
    "    \n",
    "    Example: combine_dict[\"1.1\"] gives 1.1 question and answer\n",
    "    '''    \n",
    "    \n",
    "    def combine_model_question_answer(self,question_database,answer_database):\n",
    "        \n",
    "        combine_dict = defaultdict(list)\n",
    "\n",
    "        for d in (question_database, answer_database): \n",
    "            for key, value in d.iteritems():\n",
    "                combine_dict[key].append(value)\n",
    "                \n",
    "        return combine_dict\n",
    "\n",
    "    \n",
    "    ''' \n",
    "    student id starts from 100 \n",
    "    Returns all answers provided by each student\n",
    "    '''\n",
    "    \n",
    "    def student_answers(self,question_database):\n",
    "        \n",
    "        combine_answers = defaultdict(list)\n",
    "        print \"question number 7.1\", question_database[\"7.1\"]\n",
    "        for list_of_files in self.students_files:\n",
    "#             print \"file name: \", list_of_files\n",
    "            open_file = open(list_of_files)\n",
    "            read_file_lines = open_file.readlines()\n",
    "            ID = 100 \n",
    "            count = 0\n",
    "            for line in read_file_lines:\n",
    "                count += 1\n",
    "                temp = line.strip()\n",
    "                student_id = ID\n",
    "                student_response = temp\n",
    "                combine_answers[student_id].append(student_response)\n",
    "#                 print \"ID: \", ID\n",
    "            \n",
    "                ID = ID + 1\n",
    "#             print \"file opened\", open_file\n",
    "#             print \"number of times loop exxecuted: \", count\n",
    "#             print \"combine answer dictionary: \", len(combine_answers)\n",
    "\n",
    "#         print \"count: \", count\n",
    "        return  combine_answers\n",
    "    \n",
    "#     def average_scores(self):\n",
    "        \n",
    "#         combine_scores = defaultdict(list)\n",
    "        \n",
    "#         for list_of_files in self.scores:\n",
    "#             open_file = open(list_of_files)\n",
    "            \n",
    "#             read_file_lines = open_file.readlines()\n",
    "#             ID = 100\n",
    "#             for line in read_file_lines:\n",
    "#                 temp = line.strip()\n",
    "#                 student_id = ID\n",
    "#                 student_response = temp\n",
    "#                 combine_scores[student_id].append(student_response)\n",
    "#                 ID = ID + 1\n",
    "                \n",
    "#         return  combine_scores"
   ]
  },
  {
   "cell_type": "code",
   "execution_count": 64,
   "metadata": {
    "collapsed": false
   },
   "outputs": [
    {
     "name": "stdout",
     "output_type": "stream",
     "text": [
      " # What is the role of a prototype program in problem solving?\n",
      "question number 7.1  What is a linked list?\n",
      "['1.1 Prototype programming is an approach to programming that enables one to take an organized approach to developing an effective program with minimal errors and a strategic pattern when solving a problem. i.e. book gave an example of a costumer withdrawing money from a bank, the approach that was taking on a pseudo code level during the OOA/Design lvl before proceeding into creating a solution.', '1.2 The Individual components and steps such as  analysis, design, and implementing code  as well as the entire system are tested for execution of the requirements identified during the analysis stage. i.e. Main output', '1.3 Well for one encapsulation the values of the variables inside an object are private, unless methods are written to pass info outside of the object. As well as Inheritance where each subclass inherits all variables and methods of its super class.  Example in the book included obj clock and how obj alarm would still use clock from the first class.', '1.4 Within the main function', '1.5 Is a method or identifier I would say,  we use to bind a data object to memory location; which is then stored in a location that can be accessed when and manipulated later when the variable name is called.', '1.6 It depends if its a global then they have to be declared out side the source code to be used in every scope however a local variable is one declared in a local function etc. which obviously doesnt need to be declared outside the variable seeing how it is used for the function or block its being called for.', '1.7 The do while construct consists of a block of code and a condition. First, the code within the block is executed, and then the condition is evaluated, this is done until it is proven false. The difference between the While loop is it tests the condition before the code within the block is executed.', '10.1 no answer provided', '10.2 no answer provided', '10.3 no answer provided', '10.4 no answer provided', '10.5 no answer provided', '10.6 no answer provided', '10.7 no answer provided', '11.1 class variables, class function prototypes', '11.10 the merge sort continually divides the array (or set of containers) into halves, until it reaches the point where there is just one element left, then merges each of the sets of two sorted arrays (containers).', '11.2 public - can be accessed from outside the class private - accessible only from inside the class, not inherited protected - accessible only from inside the class, inherited', '11.3 they are initialized to 0', '11.4 It is what uniquely separates overloaded functions. It includes the return type, and the parameter list of the function.', '11.5 A function that calls itself. Usually used to split a problem into several smaller problems of the same type.', '11.6 iteration', '11.7 An array that is declared static is allocated when the program begins to run, and is not freed until the program exits, but has limited scope. A non-static array is allocated and freed every time that it comes in and out of scope.', \"11.8 when the characters are put in a char array, there is also a null terminating character added to the end, '\\\\0'\", '11.9 When a problem is too big, split it into smaller problems of the same type, and solve those, then from the solutions of the smaller problem, give the solution to the larger original problem.', '12.1 no answer provided', '12.9 no answer provided', '12.2 no answer provided', '12.3 no answer provided', '12.4 no answer provided', '12.5 no answer provided', '12.6 no answer provided', '12.7 no answer provided', '12.8 no answer provided', '12.9 no answer provided', '2.1 class variables, function definitions for the class', '2.2 A data member is accessible anywhere in the class, while i local variable in a member function is only accessible in that particular function, and is freed after the function exits.', '2.3 a constructor is called when the class is created, a function can be called any time.', '2.4 When you dont specify any constructors.', '2.5 as many as you want, as long as they each have a unique argument list', \"2.6 A function prototype only names the function, its return type, and it's argument list, while a definition defines the above as well as what the function actually does.\", '2.7 A header file usually contains class and/or function prototypes.', '3.1 name of function and types of arguments', '3.2 can be referenced by any function that follows their declarations or definitions in the source file', '3.3 it generates a copy of the functions code in place to avoid a function call', '3.4 if you pass by reference, you can modify the value as opposed to passing by value where you cannot change the value', '3.5 by the number and type of arguments', \"3.6 function is never allowed to reach the 'base case'\", '3.7 repetition, termination test, eventually terminate, occur infinately', '4.1 you can assign the size of it inside the brackets when you declare the array [3], or you can have it set by how many items you set the array equal to {1,2,3}', '4.2 the type string is a class and is safer, while the other is just an array of characters.', '4.3 by reference', '4.4 a static array is allocated when the program starts and is freed when the program exits but has limited scope, while an array that is not declared static is allocated and freed when it comes into and out of scope.', '4.5 1 less than the total number of dimensions', '4.6 It will NOT cause a compilation error. It will either give a run-time error, or will give the value at that actual location in memory, causing a logic error.', '4.7 by rows', '5.1 no answer provided', '5.2 no answer provided', '5.3 no answer provided', '5.4 no answer provided', '6.1 no answer provided', '6.2 no answer provided', '6.3 no answer provided', '6.4 no answer provided', '6.5 no answer provided', '6.6 no answer provided', '6.7 no answer provided', '7.1 no answer provided', '7.2 no answer provided', '7.3 no answer provided', '7.4 no answer provided', '7.5 no answer provided', '7.6 no answer provided', '7.7 no answer provided', '8.1 no answer provided', '8.2 no answer provided', '8.3 no answer provided', '8.4 no answer provided', '8.5 no answer provided', '8.6 no answer provided', '8.7 no answer provided', '9.1 no answer provided', '9.2 no answer provided', '9.3 no answer provided', '9.4 no answer provided', '9.5 no answer provided', '9.6 no answer provided', '9.7 no answer provided']\n"
     ]
    }
   ],
   "source": [
    "database = read_database()\n",
    "question_database = database.read_question_file()\n",
    "print question_database[\"1.1\"]\n",
    "# print \"total number of questions \", len(question_database)\n",
    "answer_database = database.read_answer_file()\n",
    "# print answer_database\n",
    "# print \"total number of answers \", len(answer_database)\n",
    "# print \"Question and Expected Answer: \"\n",
    "combine_database  = database.combine_model_question_answer(question_database,answer_database)\n",
    "# print \"total number of questions and models answers\", len(combine_database)\n",
    "\n",
    "# model_question_answer = '10.4'\n",
    "# print \"Model Question Answer \", combine_database[model_question_answer]\n",
    "# print \"student Answer: \"\n",
    "student_answers = database.student_answers(question_database)\n",
    "print student_answers[128]\n",
    "# student_answers\n",
    "# print \"student ss \", student_answers\n",
    "# print \"total number of students\", len(student_answers)\n",
    "# print type(student_answers[105])\n",
    "# student_answer_number = 10\n",
    "# student_id = 101 # 100 denotes 1st student, 101 denotes 2nd student\n",
    "# print \"answer provided by student: \", student_answers[student_id][student_answer_number][4:]\n",
    "# # print \"Total number of answers provided by students are in database: \", 31*87\n",
    "# object_text_normalization.lemmatizer(student_answers[student_id][student_answer_number][4:])\n",
    "# scores = database.average_scores()\n",
    "# print scores[101]"
   ]
  },
  {
   "cell_type": "markdown",
   "metadata": {
    "collapsed": true
   },
   "source": []
  },
  {
   "cell_type": "code",
   "execution_count": null,
   "metadata": {
    "collapsed": true
   },
   "outputs": [],
   "source": []
  }
 ],
 "metadata": {
  "kernelspec": {
   "display_name": "Python [Root]",
   "language": "python",
   "name": "Python [Root]"
  },
  "language_info": {
   "codemirror_mode": {
    "name": "ipython",
    "version": 2
   },
   "file_extension": ".py",
   "mimetype": "text/x-python",
   "name": "python",
   "nbconvert_exporter": "python",
   "pygments_lexer": "ipython2",
   "version": "2.7.12"
  }
 },
 "nbformat": 4,
 "nbformat_minor": 0
}
