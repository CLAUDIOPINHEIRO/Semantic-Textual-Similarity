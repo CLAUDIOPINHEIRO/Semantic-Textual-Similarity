{
 "cells": [
  {
   "cell_type": "markdown",
   "metadata": {},
   "source": [
    "# Read Mohler data set \n",
    "\n",
    "source : http://web.eecs.umich.edu/~mihalcea/downloads.html#saga"
   ]
  },
  {
   "cell_type": "code",
   "execution_count": 1,
   "metadata": {
    "collapsed": true
   },
   "outputs": [],
   "source": [
    "import numpy as np\n",
    "import os\n",
    "from collections import defaultdict\n",
    "import glob\n",
    "\n"
   ]
  },
  {
   "cell_type": "code",
   "execution_count": 9,
   "metadata": {
    "collapsed": false
   },
   "outputs": [],
   "source": [
    "class read_database():\n",
    "    \n",
    "    def __init__(self):\n",
    "        \n",
    "        self.questions_file = open('../data/raw/questions')\n",
    "        self.answers_file = open('../data/raw/answers')\n",
    "        self.database_questions = dict()\n",
    "        self.database_answers = dict()\n",
    "        \n",
    "        self.students_files = sorted(glob.glob('../data/raw/*')) # 90 files\n",
    "        self.students_files = self.students_files[0:87]\n",
    "        self.scores = sorted(glob.glob('../data/scores/1.1/ave'))\n",
    "        \n",
    "    def file_preprocessing(self,file_lines):\n",
    "        \n",
    "        temp_database = dict()\n",
    "        i = 0;\n",
    "        for line in file_lines:\n",
    "            i = i + 1\n",
    "            temp = line.strip()\n",
    "            number = temp[0:5]\n",
    "            number = number.strip()\n",
    "            text = temp[5:]\n",
    "            temp_database[number] = text\n",
    "#         print \"number of lines in file\", i\n",
    "            \n",
    "        return temp_database\n",
    "  \n",
    "        \n",
    "    def read_question_file(self):\n",
    "        \n",
    "        read_file = self.questions_file.readlines()\n",
    "        \n",
    "        self.database_questions = self.file_preprocessing(read_file)\n",
    "        \n",
    "        return self.database_questions\n",
    "    \n",
    "    def read_answer_file(self):\n",
    "        \n",
    "        read_file = self.answers_file.readlines()\n",
    "        \n",
    "        self.database_answers = self.file_preprocessing(read_file)\n",
    "            \n",
    "        return self.database_answers\n",
    "        \n",
    "    '''\n",
    "    Combine dictionary of model answers and questions\n",
    "    Takes input question dictionary and answer dictionary \n",
    "    and returns combine dictionary \n",
    "    \n",
    "    Example: combine_dict[\"1.1\"] gives 1.1 question and answer\n",
    "    '''    \n",
    "    \n",
    "    def combine_model_question_answer(self,question_database,answer_database):\n",
    "        \n",
    "        combine_dict = defaultdict(list)\n",
    "\n",
    "        for d in (question_database, answer_database): \n",
    "            for key, value in d.iteritems():\n",
    "                combine_dict[key].append(value)\n",
    "                \n",
    "        return combine_dict\n",
    "\n",
    "    \n",
    "    ''' \n",
    "    student id starts from 100 \n",
    "    Returns all answers provided by each student\n",
    "    '''\n",
    "    \n",
    "    def student_answers(self):\n",
    "        \n",
    "        combine_answers = defaultdict(list)\n",
    "        \n",
    "        for list_of_files in self.students_files:\n",
    "            open_file = open(list_of_files)\n",
    "            \n",
    "            read_file_lines = open_file.readlines()\n",
    "            ID = 100\n",
    "            for line in read_file_lines:\n",
    "                temp = line.strip()\n",
    "                student_id = ID\n",
    "                student_response = temp\n",
    "                combine_answers[student_id].append(student_response)\n",
    "                ID = ID + 1\n",
    "                \n",
    "        return  combine_answers\n",
    "    \n",
    "#     def average_scores(self):\n",
    "        \n",
    "#         combine_scores = defaultdict(list)\n",
    "        \n",
    "#         for list_of_files in self.scores:\n",
    "#             open_file = open(list_of_files)\n",
    "            \n",
    "#             read_file_lines = open_file.readlines()\n",
    "#             ID = 100\n",
    "#             for line in read_file_lines:\n",
    "#                 temp = line.strip()\n",
    "#                 student_id = ID\n",
    "#                 student_response = temp\n",
    "#                 combine_scores[student_id].append(student_response)\n",
    "#                 ID = ID + 1\n",
    "                \n",
    "#         return  combine_scores\n",
    "        "
   ]
  },
  {
   "cell_type": "code",
   "execution_count": 20,
   "metadata": {
    "collapsed": false
   },
   "outputs": [
    {
     "name": "stdout",
     "output_type": "stream",
     "text": [
      "total number of questions and models answers 87\n",
      "[' Where do C++ programs begin to execute?', ' At the main function.']\n",
      "student Answer: \n",
      "total number of students 31\n",
      "1.4 At function â€˜int main ()â€™\n"
     ]
    },
    {
     "data": {
      "text/plain": [
       "('Total number of answers provided by students are in database: ', 2697)"
      ]
     },
     "execution_count": 20,
     "metadata": {},
     "output_type": "execute_result"
    }
   ],
   "source": [
    "database = read_database()\n",
    "question_database = database.read_question_file()\n",
    "# print question_database\n",
    "# print \"total number of questions \", len(question_database)\n",
    "answer_database = database.read_answer_file()\n",
    "# print \"total number of answers \", len(answer_database)\n",
    "# print \"Question and Expected Answer: \"\n",
    "combine_database  = database.combine_model_question_answer(question_database,answer_database)\n",
    "print \"total number of questions and models answers\", len(combine_database)\n",
    "# print combine_database\n",
    "print combine_database['1.4']\n",
    "print \"student Answer: \"\n",
    "student_answers = database.student_answers()\n",
    "# print \"student ss \", student_answers\n",
    "print \"total number of students\", len(student_answers)\n",
    "# print student_answers\n",
    "print student_answers[100][3]\n",
    "\"Total number of answers provided by students are in database: \", 31*87\n",
    "# scores = database.average_scores()\n",
    "# print scores[101]"
   ]
  },
  {
   "cell_type": "code",
   "execution_count": null,
   "metadata": {
    "collapsed": true
   },
   "outputs": [],
   "source": []
  }
 ],
 "metadata": {
  "kernelspec": {
   "display_name": "Python [Root]",
   "language": "python",
   "name": "Python [Root]"
  },
  "language_info": {
   "codemirror_mode": {
    "name": "ipython",
    "version": 2
   },
   "file_extension": ".py",
   "mimetype": "text/x-python",
   "name": "python",
   "nbconvert_exporter": "python",
   "pygments_lexer": "ipython2",
   "version": "2.7.12"
  }
 },
 "nbformat": 4,
 "nbformat_minor": 0
}
