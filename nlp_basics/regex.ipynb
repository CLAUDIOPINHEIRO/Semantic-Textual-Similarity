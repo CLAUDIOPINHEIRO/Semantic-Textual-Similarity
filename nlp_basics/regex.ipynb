{
 "cells": [
  {
   "cell_type": "code",
   "execution_count": 66,
   "metadata": {
    "collapsed": false
   },
   "outputs": [],
   "source": [
    "import nltk\n",
    "import re      # python regex module\n",
    "from nltk.corpus import brown # brown corpus \n",
    "from nltk.corpus import treebank  # Penn Treebank Corpus\n"
   ]
  },
  {
   "cell_type": "code",
   "execution_count": 70,
   "metadata": {
    "collapsed": false
   },
   "outputs": [],
   "source": [
    "class Regex:\n",
    "    \n",
    "    def brown_corpus(self,r,wordlist):\n",
    "        matched_words = [i for i in wordlist if r.match(i)]\n",
    "        \n",
    "        return matched_words\n",
    "\n",
    "    def treebank_corpus(self,r,wordlist):\n",
    "        matched_words = [i for i in wordlist if r.match(i)]\n",
    "        \n",
    "        return matched_words\n",
    "        "
   ]
  },
  {
   "cell_type": "code",
   "execution_count": 81,
   "metadata": {
    "collapsed": false
   },
   "outputs": [
    {
     "name": "stdout",
     "output_type": "stream",
     "text": [
      "Words contain double aa in brown corpus are: \n",
      "[u'Isaacson', u'Haaek', u'Haase', u'Isaac', u'Isaacs', u'Richter-Haaser', u'Isaac', u'Isaac', u'bazaar', u'Gaafer', u'bazaar', u'bazaar', u'Saadi', u'bazaar', u'Schaack', u'Schaack', u'Schaack', u'bazaars', u'Isaacs', u'Isaac', u'Isaac', u'Saabye', u'Isaac', u\"Waal's\", u'Varlaam', u'Varlaam', u'Varlaam', u\"Varlaam's\", u\"Varlaam's\", u'Varlaam', u'Isaac', u'Isaac', u'Isaac', u'Isaac', u'Izaak', u'Izaak', u\"Izaak's\", u\"Izaak's\", u\"Izaak's\", u'Izaak', u'Bazaar', u'Aaa-ee', u'Aaawww', u'Bazaar', u'bazaar', u'MacIsaacs']\n"
     ]
    }
   ],
   "source": [
    "regex = Regex()\n",
    "r = re.compile('.*aa.*')\n",
    "wordlist= list(brown.words())\n",
    "brown_corpus = regex.brown_corpus(r,wordlist)\n",
    "print \"Words contain double aa in brown corpus are: \\n\" + str(brown_corpus)"
   ]
  },
  {
   "cell_type": "code",
   "execution_count": 82,
   "metadata": {
    "collapsed": false
   },
   "outputs": [
    {
     "name": "stdout",
     "output_type": "stream",
     "text": [
      "Words end with  c in tree bank corpus are: \n",
      "[u'Ross', u'Ross', u'less', u'loss', u'Bass', u'Mass', u'less', u'less', u'less', u'less', u'less', u'bass', u'pass', u'loss', u'loss', u'Ross', u'Ross', u'Ross', u'pass', u'less', u'loss', u'loss', u'loss', u'loss', u'loss', u'less', u'less', u'less', u'loss', u'less', u'less', u'less', u'less', u'loss', u'less', u'less', u'Bass', u'less', u'less', u'less', u'less', u'pass', u'less', u'loss', u'less', u'less', u'less', u'pass', u'Mass', u'less', u'loss', u'less', u'loss', u'less', u'less', u'less', u'less', u'less', u'less', u'loss', u'loss', u'less', u'less', u'less', u'less', u'loss', u'less', u'loss', u'loss', u'less', u'less', u'Mass', u'loss', u'loss', u'loss', u'loss', u'loss', u'loss', u'loss', u'loss', u'loss', u'loss', u'loss', u'less', u'loss', u'loss', u'loss']\n"
     ]
    }
   ],
   "source": [
    "r = re.compile('^..ss$')  # words end with ss\n",
    "wordlist= list(treebank.words())\n",
    "treebank_corpus = regex.treebank_corpus(r,wordlist)\n",
    "print \"Words end with  c in tree bank corpus are: \\n\" + str(treebank_corpus)\n"
   ]
  },
  {
   "cell_type": "code",
   "execution_count": null,
   "metadata": {
    "collapsed": true
   },
   "outputs": [],
   "source": []
  }
 ],
 "metadata": {
  "kernelspec": {
   "display_name": "Python [Root]",
   "language": "python",
   "name": "Python [Root]"
  },
  "language_info": {
   "codemirror_mode": {
    "name": "ipython",
    "version": 2
   },
   "file_extension": ".py",
   "mimetype": "text/x-python",
   "name": "python",
   "nbconvert_exporter": "python",
   "pygments_lexer": "ipython2",
   "version": "2.7.12"
  }
 },
 "nbformat": 4,
 "nbformat_minor": 0
}
