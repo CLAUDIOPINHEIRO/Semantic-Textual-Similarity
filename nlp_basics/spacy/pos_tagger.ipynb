{
 "cells": [
  {
   "cell_type": "markdown",
   "metadata": {},
   "source": [
    "# Part of Speech Tagger using SPACY\n"
   ]
  },
  {
   "cell_type": "code",
   "execution_count": 1,
   "metadata": {
    "collapsed": true
   },
   "outputs": [],
   "source": [
    "import spacy\n",
    "import string\n",
    "from spacy.en import English\n",
    "from __future__ import unicode_literals \n",
    "nlp = spacy.load('en')  # load english language module"
   ]
  },
  {
   "cell_type": "code",
   "execution_count": 2,
   "metadata": {
    "collapsed": true
   },
   "outputs": [],
   "source": [
    "parser = English()"
   ]
  },
  {
   "cell_type": "code",
   "execution_count": 23,
   "metadata": {
    "collapsed": false
   },
   "outputs": [],
   "source": [
    "class pos_tagger:\n",
    "    def __init__(self,parser):\n",
    "        self.parser = parser\n",
    "    \n",
    "    def pos_tag(self,sentence):\n",
    "        \"\"\" add part of speech tags for each string in sentence\n",
    "        args:\n",
    "            takes input as sentence\n",
    "        returns:\n",
    "            list containing strings with part of speech tags\n",
    "        \"\"\"\n",
    "        parseText = self.parser(sentence)\n",
    "        pos_tag_list = []\n",
    "        \n",
    "        for word in parseText:\n",
    "                pos_tag_list.append(word)\n",
    "                pos_tag_list.append(word.pos_)\n",
    "                print \"word : \", word,\" =======\", \" part of speech: \", word.pos_\n",
    "        return pos_tag_list\n",
    "                "
   ]
  },
  {
   "cell_type": "code",
   "execution_count": 24,
   "metadata": {
    "collapsed": false
   },
   "outputs": [
    {
     "name": "stdout",
     "output_type": "stream",
     "text": [
      "word :  Germany  =======  part of speech:  PROPN\n",
      "word :  is  =======  part of speech:  VERB\n",
      "word :  famous  =======  part of speech:  ADJ\n",
      "word :  for  =======  part of speech:  ADP\n",
      "word :  cars  =======  part of speech:  NOUN\n"
     ]
    },
    {
     "data": {
      "text/plain": [
       "[Germany, u'PROPN', is, u'VERB', famous, u'ADJ', for, u'ADP', cars, u'NOUN']"
      ]
     },
     "execution_count": 24,
     "metadata": {},
     "output_type": "execute_result"
    }
   ],
   "source": [
    "p_tag = pos_tagger(parser)\n",
    "text = \"Germany is famous for cars\"\n",
    "p_tag.pos_tag(text)"
   ]
  },
  {
   "cell_type": "code",
   "execution_count": null,
   "metadata": {
    "collapsed": true
   },
   "outputs": [],
   "source": []
  }
 ],
 "metadata": {
  "kernelspec": {
   "display_name": "Python [Root]",
   "language": "python",
   "name": "Python [Root]"
  },
  "language_info": {
   "codemirror_mode": {
    "name": "ipython",
    "version": 2
   },
   "file_extension": ".py",
   "mimetype": "text/x-python",
   "name": "python",
   "nbconvert_exporter": "python",
   "pygments_lexer": "ipython2",
   "version": "2.7.12"
  }
 },
 "nbformat": 4,
 "nbformat_minor": 0
}
