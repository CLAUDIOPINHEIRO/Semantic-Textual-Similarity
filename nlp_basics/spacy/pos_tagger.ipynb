{
 "cells": [
  {
   "cell_type": "markdown",
   "metadata": {},
   "source": [
    "# Part of Speech Tagger using SPACY\n"
   ]
  },
  {
   "cell_type": "code",
   "execution_count": 2,
   "metadata": {
    "collapsed": true
   },
   "outputs": [],
   "source": [
    "import spacy\n",
    "import string\n",
    "from spacy.en import English\n",
    "from __future__ import unicode_literals \n",
    "nlp = spacy.load('en')  # load english language module"
   ]
  },
  {
   "cell_type": "code",
   "execution_count": 3,
   "metadata": {
    "collapsed": true
   },
   "outputs": [],
   "source": [
    "parser = English()"
   ]
  },
  {
   "cell_type": "code",
   "execution_count": 11,
   "metadata": {
    "collapsed": false
   },
   "outputs": [],
   "source": [
    "class pos_tagger:\n",
    "    def __init__(self,parser):\n",
    "        self.parser = parser\n",
    "    \n",
    "    def pos(self,text):\n",
    "        parseData = self.parser(text)\n",
    "        \n",
    "        for word in parseData:\n",
    "            token_pos = word.pos_\n",
    "            print \"word : \", word,\" =======\", \" part of speech: \", token_pos\n",
    "        "
   ]
  },
  {
   "cell_type": "code",
   "execution_count": 12,
   "metadata": {
    "collapsed": false
   },
   "outputs": [
    {
     "name": "stdout",
     "output_type": "stream",
     "text": [
      "word :  Germany  =======  part of speech:  PROPN\n",
      "word :  is  =======  part of speech:  VERB\n",
      "word :  famous  =======  part of speech:  ADJ\n",
      "word :  for  =======  part of speech:  ADP\n",
      "word :  cars  =======  part of speech:  NOUN\n"
     ]
    }
   ],
   "source": [
    "p_tag = pos_tagger(parser)\n",
    "text = \"Germany is famous for cars\"\n",
    "p_tag.pos(text)"
   ]
  },
  {
   "cell_type": "code",
   "execution_count": null,
   "metadata": {
    "collapsed": true
   },
   "outputs": [],
   "source": []
  }
 ],
 "metadata": {
  "kernelspec": {
   "display_name": "Python [Root]",
   "language": "python",
   "name": "Python [Root]"
  },
  "language_info": {
   "codemirror_mode": {
    "name": "ipython",
    "version": 2
   },
   "file_extension": ".py",
   "mimetype": "text/x-python",
   "name": "python",
   "nbconvert_exporter": "python",
   "pygments_lexer": "ipython2",
   "version": "2.7.12"
  }
 },
 "nbformat": 4,
 "nbformat_minor": 0
}
