{
 "cells": [
  {
   "cell_type": "markdown",
   "metadata": {},
   "source": [
    "# Parse Tree\n",
    "\n",
    "It is the representation of sentence in tree form.\n",
    "\n",
    "### Dependency Parse Tree\n",
    "\n",
    "It expresses the relationship between the words present in the sentence. Each word has its vertex and there is always child-parent relationship between the words. Relation between words is denoted by edges"
   ]
  },
  {
   "cell_type": "code",
   "execution_count": 10,
   "metadata": {},
   "outputs": [],
   "source": [
    "import spacy\n",
    "from __future__ import unicode_literals "
   ]
  },
  {
   "cell_type": "code",
   "execution_count": 11,
   "metadata": {},
   "outputs": [],
   "source": [
    "nlp = spacy.load('en')"
   ]
  },
  {
   "cell_type": "code",
   "execution_count": 12,
   "metadata": {},
   "outputs": [],
   "source": [
    "doc = nlp('Four men died in an accident')"
   ]
  },
  {
   "cell_type": "code",
   "execution_count": 33,
   "metadata": {},
   "outputs": [],
   "source": [
    "class dependency_parse:\n",
    "            \n",
    "    '''\n",
    "    Input: sentence\n",
    "    Output: word and its relation\n",
    "    '''\n",
    "    def find_dependency(self, doc):\n",
    "        \n",
    "        dependency = []\n",
    "        \n",
    "        for word in doc:\n",
    "            dependency.append([word, word.dep_])\n",
    "        return dependency\n",
    "    \n",
    "            \n",
    "    '''\n",
    "    Input: sentence\n",
    "    Output: children having relation 'nsubj' or 'dobj'\n",
    "    '''\n",
    "    def find_subject(self,doc):\n",
    "        \n",
    "        for child in self.root_token.children:\n",
    "            if child.dep_ == 'nsubj':\n",
    "                print \"subj:\",  child\n",
    "            if child.dep_ == 'dobj':\n",
    "                print \"obj:\" ,child"
   ]
  },
  {
   "cell_type": "code",
   "execution_count": 31,
   "metadata": {},
   "outputs": [
    {
     "name": "stdout",
     "output_type": "stream",
     "text": [
      "dependencies of sentence are:  [[Four, u'nummod'], [men, u'nsubj'], [died, u'ROOT'], [in, u'prep'], [an, u'det'], [accident, u'pobj']]\n"
     ]
    }
   ],
   "source": [
    "parser = dependency_parse()\n",
    "dep = parser.find_dependency(doc)\n",
    "print \"dependencies of sentence are: \", dep"
   ]
  }
 ],
 "metadata": {
  "anaconda-cloud": {},
  "kernelspec": {
   "display_name": "Python [default]",
   "language": "python",
   "name": "python2"
  },
  "language_info": {
   "codemirror_mode": {
    "name": "ipython",
    "version": 2
   },
   "file_extension": ".py",
   "mimetype": "text/x-python",
   "name": "python",
   "nbconvert_exporter": "python",
   "pygments_lexer": "ipython2",
   "version": "2.7.13"
  }
 },
 "nbformat": 4,
 "nbformat_minor": 1
}
